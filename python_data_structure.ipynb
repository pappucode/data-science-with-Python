{
 "cells": [
  {
   "cell_type": "markdown",
   "id": "9a280fc4",
   "metadata": {},
   "source": [
    "## Python Data Structures and Sequences"
   ]
  },
  {
   "cell_type": "markdown",
   "id": "f28d14d7",
   "metadata": {},
   "source": [
    "###### Tuple"
   ]
  },
  {
   "cell_type": "markdown",
   "id": "e17a79de",
   "metadata": {},
   "source": [
    "They are like read-only lists. We use them to store a list of items. But once we\n",
    "define a tuple, we cannot add or remove items or change the existing items. If an object inside a tuple is mutable, such as a list, you can modify it in-place."
   ]
  },
  {
   "cell_type": "code",
   "execution_count": 209,
   "id": "1515056c",
   "metadata": {},
   "outputs": [
    {
     "data": {
      "text/plain": [
       "(4, 5, 6)"
      ]
     },
     "execution_count": 209,
     "metadata": {},
     "output_type": "execute_result"
    }
   ],
   "source": [
    "tup = 4,5,6\n",
    "tup"
   ]
  },
  {
   "cell_type": "code",
   "execution_count": 210,
   "id": "613c4c5e",
   "metadata": {},
   "outputs": [
    {
     "data": {
      "text/plain": [
       "tuple"
      ]
     },
     "execution_count": 210,
     "metadata": {},
     "output_type": "execute_result"
    }
   ],
   "source": [
    "type(tup)"
   ]
  },
  {
   "cell_type": "code",
   "execution_count": 211,
   "id": "386c95c4",
   "metadata": {},
   "outputs": [
    {
     "data": {
      "text/plain": [
       "((4, 5, 6), (7, 8))"
      ]
     },
     "execution_count": 211,
     "metadata": {},
     "output_type": "execute_result"
    }
   ],
   "source": [
    "nested_tup = (4,5,6), (7,8)\n",
    "nested_tup"
   ]
  },
  {
   "cell_type": "code",
   "execution_count": 212,
   "id": "b81f2c2f",
   "metadata": {},
   "outputs": [
    {
     "data": {
      "text/plain": [
       "(4, 0, 2)"
      ]
     },
     "execution_count": 212,
     "metadata": {},
     "output_type": "execute_result"
    }
   ],
   "source": [
    "# We can convert any sequence or iterator to a tuple by invoking tuple:\n",
    "tuple([4, 0, 2])\n",
    "#type(tuple([4, 0, 2]))"
   ]
  },
  {
   "cell_type": "code",
   "execution_count": 213,
   "id": "30325841",
   "metadata": {},
   "outputs": [
    {
     "data": {
      "text/plain": [
       "('S', 't', 'r', 'i', 'n', 'g')"
      ]
     },
     "execution_count": 213,
     "metadata": {},
     "output_type": "execute_result"
    }
   ],
   "source": [
    "tup = tuple(\"String\")\n",
    "tup\n",
    "#type(tup)"
   ]
  },
  {
   "cell_type": "markdown",
   "id": "4c134ea9",
   "metadata": {},
   "source": [
    "Elements can be accessed with square brackets [] as with most other sequence types. As in C, C++, Java, and many other languages, sequences are 0-indexed in Python:\n"
   ]
  },
  {
   "cell_type": "code",
   "execution_count": 214,
   "id": "3d6f6ee4",
   "metadata": {},
   "outputs": [
    {
     "data": {
      "text/plain": [
       "'S'"
      ]
     },
     "execution_count": 214,
     "metadata": {},
     "output_type": "execute_result"
    }
   ],
   "source": [
    "tup[0]"
   ]
  },
  {
   "cell_type": "code",
   "execution_count": 215,
   "id": "da48870f",
   "metadata": {},
   "outputs": [
    {
     "data": {
      "text/plain": [
       "('foo', [1, 2], True)"
      ]
     },
     "execution_count": 215,
     "metadata": {},
     "output_type": "execute_result"
    }
   ],
   "source": [
    "tup = tuple(['foo', [1,2], True])\n",
    "tup"
   ]
  },
  {
   "cell_type": "code",
   "execution_count": 216,
   "id": "c7320118",
   "metadata": {},
   "outputs": [
    {
     "data": {
      "text/plain": [
       "[1, 2]"
      ]
     },
     "execution_count": 216,
     "metadata": {},
     "output_type": "execute_result"
    }
   ],
   "source": [
    "tup[1]"
   ]
  },
  {
   "cell_type": "markdown",
   "id": "fd84f24d",
   "metadata": {},
   "source": [
    "While the objects stored in a tuple may be mutable themselves, once the tuple is cre‐\n",
    "ated it’s not possible to modify which object is stored in each slot:"
   ]
  },
  {
   "cell_type": "code",
   "execution_count": 51,
   "id": "f3730cbe",
   "metadata": {},
   "outputs": [
    {
     "ename": "TypeError",
     "evalue": "'tuple' object does not support item assignment",
     "output_type": "error",
     "traceback": [
      "\u001b[1;31m---------------------------------------------------------------------------\u001b[0m",
      "\u001b[1;31mTypeError\u001b[0m                                 Traceback (most recent call last)",
      "\u001b[1;32m<ipython-input-51-b89d0c4ae599>\u001b[0m in \u001b[0;36m<module>\u001b[1;34m\u001b[0m\n\u001b[1;32m----> 1\u001b[1;33m \u001b[0mtup\u001b[0m\u001b[1;33m[\u001b[0m\u001b[1;36m2\u001b[0m\u001b[1;33m]\u001b[0m \u001b[1;33m=\u001b[0m \u001b[1;32mFalse\u001b[0m\u001b[1;33m\u001b[0m\u001b[1;33m\u001b[0m\u001b[0m\n\u001b[0m",
      "\u001b[1;31mTypeError\u001b[0m: 'tuple' object does not support item assignment"
     ]
    }
   ],
   "source": [
    "tup[2] = False"
   ]
  },
  {
   "cell_type": "markdown",
   "id": "24f46f21",
   "metadata": {},
   "source": [
    "If an object inside a tuple is mutable, such as a list, you can modify it in-place:"
   ]
  },
  {
   "cell_type": "code",
   "execution_count": 378,
   "id": "e8e94f17",
   "metadata": {},
   "outputs": [],
   "source": [
    "tup[1].append(3)\n"
   ]
  },
  {
   "cell_type": "code",
   "execution_count": 379,
   "id": "586f7295",
   "metadata": {},
   "outputs": [
    {
     "data": {
      "text/plain": [
       "('foo', [1, 2, 3, 3], True)"
      ]
     },
     "execution_count": 379,
     "metadata": {},
     "output_type": "execute_result"
    }
   ],
   "source": [
    "tup "
   ]
  },
  {
   "cell_type": "code",
   "execution_count": 58,
   "id": "88431437",
   "metadata": {},
   "outputs": [
    {
     "data": {
      "text/plain": [
       "(4, None, 'foo', 6, 0, 'bar')"
      ]
     },
     "execution_count": 58,
     "metadata": {},
     "output_type": "execute_result"
    }
   ],
   "source": [
    "# concatenate tuples using the + operator\n",
    "(4, None, 'foo')+(6,0)+('bar',)"
   ]
  },
  {
   "cell_type": "code",
   "execution_count": 59,
   "id": "01162297",
   "metadata": {},
   "outputs": [
    {
     "data": {
      "text/plain": [
       "('foo', 'bar', 'foo', 'bar', 'foo', 'bar', 'foo', 'bar')"
      ]
     },
     "execution_count": 59,
     "metadata": {},
     "output_type": "execute_result"
    }
   ],
   "source": [
    "# Multiplying a tuple by an integer\n",
    "('foo', 'bar')*4"
   ]
  },
  {
   "cell_type": "markdown",
   "id": "48c16ff7",
   "metadata": {},
   "source": [
    "Unpacking tuples"
   ]
  },
  {
   "cell_type": "code",
   "execution_count": 92,
   "id": "d3d01f10",
   "metadata": {},
   "outputs": [],
   "source": [
    "tup = (4, 5, 6)\n",
    "a, b, c = tup"
   ]
  },
  {
   "cell_type": "code",
   "execution_count": 94,
   "id": "6a356f7c",
   "metadata": {},
   "outputs": [
    {
     "data": {
      "text/plain": [
       "5"
      ]
     },
     "execution_count": 94,
     "metadata": {},
     "output_type": "execute_result"
    }
   ],
   "source": [
    "b"
   ]
  },
  {
   "cell_type": "code",
   "execution_count": 97,
   "id": "b918bd9b",
   "metadata": {},
   "outputs": [],
   "source": [
    "# sequences with nested tuples can be unpacked\n",
    "a, b, (c, d) = (4, 5, (6, 7))"
   ]
  },
  {
   "cell_type": "code",
   "execution_count": 98,
   "id": "baa155d4",
   "metadata": {},
   "outputs": [
    {
     "data": {
      "text/plain": [
       "7"
      ]
     },
     "execution_count": 98,
     "metadata": {},
     "output_type": "execute_result"
    }
   ],
   "source": [
    "d"
   ]
  },
  {
   "cell_type": "code",
   "execution_count": 102,
   "id": "5fcef498",
   "metadata": {},
   "outputs": [
    {
     "data": {
      "text/plain": [
       "1"
      ]
     },
     "execution_count": 102,
     "metadata": {},
     "output_type": "execute_result"
    }
   ],
   "source": [
    "# Also the swap can be done \n",
    "a, b = (1, 2)\n",
    "a"
   ]
  },
  {
   "cell_type": "code",
   "execution_count": 103,
   "id": "a3da7d79",
   "metadata": {},
   "outputs": [
    {
     "data": {
      "text/plain": [
       "2"
      ]
     },
     "execution_count": 103,
     "metadata": {},
     "output_type": "execute_result"
    }
   ],
   "source": [
    "b"
   ]
  },
  {
   "cell_type": "code",
   "execution_count": 104,
   "id": "e7474795",
   "metadata": {},
   "outputs": [],
   "source": [
    "b, a = (a, b)"
   ]
  },
  {
   "cell_type": "code",
   "execution_count": 105,
   "id": "67a7b1c7",
   "metadata": {},
   "outputs": [
    {
     "data": {
      "text/plain": [
       "1"
      ]
     },
     "execution_count": 105,
     "metadata": {},
     "output_type": "execute_result"
    }
   ],
   "source": [
    "b"
   ]
  },
  {
   "cell_type": "code",
   "execution_count": 106,
   "id": "1da8e304",
   "metadata": {},
   "outputs": [
    {
     "data": {
      "text/plain": [
       "2"
      ]
     },
     "execution_count": 106,
     "metadata": {},
     "output_type": "execute_result"
    }
   ],
   "source": [
    "a"
   ]
  },
  {
   "cell_type": "code",
   "execution_count": 217,
   "id": "912c4cd9",
   "metadata": {},
   "outputs": [
    {
     "name": "stdout",
     "output_type": "stream",
     "text": [
      "a=1, b=2, c=3\n",
      "a=4, b=5, c=6\n",
      "a=7, b=8, c=9\n"
     ]
    }
   ],
   "source": [
    "# A common use of variable unpacking is iterating over sequences of tuples o\n",
    "seq = [(1,2,3), (4,5,6), (7,8,9)]\n",
    "for a, b, c in seq:\n",
    "    print('a={}, b={}, c={}'.format(a, b, c)) # W3school is best for understanding .format()"
   ]
  },
  {
   "cell_type": "code",
   "execution_count": 109,
   "id": "964ae774",
   "metadata": {},
   "outputs": [],
   "source": [
    "user_data = ('Pappu', 31, 'Male', 'Cooking', 'Germany')\n",
    "name, age, gender, *others = user_data\n",
    "name, age, gender, *_ = user_data"
   ]
  },
  {
   "cell_type": "code",
   "execution_count": 110,
   "id": "19237b08",
   "metadata": {},
   "outputs": [
    {
     "name": "stdout",
     "output_type": "stream",
     "text": [
      "['Cooking', 'Germany']\n",
      "['Cooking', 'Germany']\n"
     ]
    }
   ],
   "source": [
    "print(others)\n",
    "print(_)"
   ]
  },
  {
   "cell_type": "code",
   "execution_count": 89,
   "id": "3f4be631",
   "metadata": {},
   "outputs": [],
   "source": [
    "def get_user_data():\n",
    "    user_email = input(\"Enter your email: \")\n",
    "    user_pass = input(\"Enter your password: \")\n",
    "    \n",
    "    return (user_email, user_pass)"
   ]
  },
  {
   "cell_type": "code",
   "execution_count": 90,
   "id": "01fb87bb",
   "metadata": {},
   "outputs": [
    {
     "name": "stdout",
     "output_type": "stream",
     "text": [
      "Enter your email: pappu@gmail.com\n",
      "Enter your password: 123\n",
      "('pappu@gmail.com', '123')\n"
     ]
    }
   ],
   "source": [
    "print(get_user_data())"
   ]
  },
  {
   "cell_type": "code",
   "execution_count": 130,
   "id": "edb3cb28",
   "metadata": {},
   "outputs": [
    {
     "data": {
      "text/plain": [
       "4"
      ]
     },
     "execution_count": 130,
     "metadata": {},
     "output_type": "execute_result"
    }
   ],
   "source": [
    "# Count Method\n",
    "a = (1,2,2,2,3,4,2)\n",
    "a.count(2)"
   ]
  },
  {
   "cell_type": "markdown",
   "id": "9b1313e3",
   "metadata": {},
   "source": [
    "# List"
   ]
  },
  {
   "cell_type": "code",
   "execution_count": 183,
   "id": "5a253366",
   "metadata": {},
   "outputs": [],
   "source": [
    "a_list = [2, 3, 7, None]\n",
    "tup = ('foo', 'bar', 'baz')"
   ]
  },
  {
   "cell_type": "code",
   "execution_count": 184,
   "id": "eba3fb4a",
   "metadata": {},
   "outputs": [
    {
     "data": {
      "text/plain": [
       "['foo', 'bar', 'baz']"
      ]
     },
     "execution_count": 184,
     "metadata": {},
     "output_type": "execute_result"
    }
   ],
   "source": [
    "b_list = list(tup)\n",
    "b_list"
   ]
  },
  {
   "cell_type": "code",
   "execution_count": 185,
   "id": "33574d00",
   "metadata": {},
   "outputs": [
    {
     "data": {
      "text/plain": [
       "['foo', 'peekaboo', 'baz']"
      ]
     },
     "execution_count": 185,
     "metadata": {},
     "output_type": "execute_result"
    }
   ],
   "source": [
    "b_list[1]='peekaboo'\n",
    "b_list"
   ]
  },
  {
   "cell_type": "markdown",
   "id": "23bc77be",
   "metadata": {},
   "source": [
    "Lists and tuples are semantically similar (though tuples cannot be modified) and can\n",
    "be used interchangeably in many functions.\n",
    "The list function is frequently used in data processing as a way to materialize an\n",
    "iterator or generator expression"
   ]
  },
  {
   "cell_type": "code",
   "execution_count": 186,
   "id": "81455bc7",
   "metadata": {},
   "outputs": [
    {
     "data": {
      "text/plain": [
       "range(0, 10)"
      ]
     },
     "execution_count": 186,
     "metadata": {},
     "output_type": "execute_result"
    }
   ],
   "source": [
    "gen = range(10)\n",
    "gen"
   ]
  },
  {
   "cell_type": "code",
   "execution_count": 187,
   "id": "1a5c0fa1",
   "metadata": {},
   "outputs": [
    {
     "data": {
      "text/plain": [
       "[0, 1, 2, 3, 4, 5, 6, 7, 8, 9]"
      ]
     },
     "execution_count": 187,
     "metadata": {},
     "output_type": "execute_result"
    }
   ],
   "source": [
    "list(gen)"
   ]
  },
  {
   "cell_type": "markdown",
   "id": "84185c96",
   "metadata": {},
   "source": [
    "Adding and removing elements"
   ]
  },
  {
   "cell_type": "code",
   "execution_count": 188,
   "id": "bbbbaf7d",
   "metadata": {},
   "outputs": [
    {
     "data": {
      "text/plain": [
       "['foo', 'peekaboo', 'baz', 'drawf']"
      ]
     },
     "execution_count": 188,
     "metadata": {},
     "output_type": "execute_result"
    }
   ],
   "source": [
    "b_list.append(\"drawf\")\n",
    "b_list"
   ]
  },
  {
   "cell_type": "code",
   "execution_count": 189,
   "id": "f6dee785",
   "metadata": {},
   "outputs": [
    {
     "data": {
      "text/plain": [
       "['foo', 'red', 'peekaboo', 'baz', 'drawf']"
      ]
     },
     "execution_count": 189,
     "metadata": {},
     "output_type": "execute_result"
    }
   ],
   "source": [
    "# Using insert we can insert an element at a specific location in the list\n",
    "b_list.insert(1, 'red')\n",
    "b_list"
   ]
  },
  {
   "cell_type": "markdown",
   "id": "177012f5",
   "metadata": {},
   "source": [
    "The insertion index must be between 0 and the length of the list"
   ]
  },
  {
   "cell_type": "markdown",
   "id": "9e5fa31c",
   "metadata": {},
   "source": [
    "The inverse operation to insert is pop, which removes and returns an element at a\n",
    "particular index"
   ]
  },
  {
   "cell_type": "code",
   "execution_count": 190,
   "id": "3135ed89",
   "metadata": {},
   "outputs": [
    {
     "data": {
      "text/plain": [
       "'peekaboo'"
      ]
     },
     "execution_count": 190,
     "metadata": {},
     "output_type": "execute_result"
    }
   ],
   "source": [
    "b_list.pop(2)"
   ]
  },
  {
   "cell_type": "code",
   "execution_count": 191,
   "id": "74b09ab9",
   "metadata": {},
   "outputs": [
    {
     "data": {
      "text/plain": [
       "['foo', 'red', 'baz', 'drawf']"
      ]
     },
     "execution_count": 191,
     "metadata": {},
     "output_type": "execute_result"
    }
   ],
   "source": [
    "b_list"
   ]
  },
  {
   "cell_type": "markdown",
   "id": "32b8839e",
   "metadata": {},
   "source": [
    "Elements can be removed by value with remove, which locates the first such value and\n",
    "removes it from the last:"
   ]
  },
  {
   "cell_type": "code",
   "execution_count": 192,
   "id": "07b4cc60",
   "metadata": {},
   "outputs": [
    {
     "data": {
      "text/plain": [
       "['foo', 'red', 'baz', 'drawf', 'foo']"
      ]
     },
     "execution_count": 192,
     "metadata": {},
     "output_type": "execute_result"
    }
   ],
   "source": [
    "b_list.append('foo')\n",
    "b_list"
   ]
  },
  {
   "cell_type": "code",
   "execution_count": 193,
   "id": "4106cd6a",
   "metadata": {},
   "outputs": [
    {
     "data": {
      "text/plain": [
       "['red', 'baz', 'drawf', 'foo']"
      ]
     },
     "execution_count": 193,
     "metadata": {},
     "output_type": "execute_result"
    }
   ],
   "source": [
    "b_list.remove('foo')\n",
    "b_list"
   ]
  },
  {
   "cell_type": "code",
   "execution_count": 195,
   "id": "cbd5307c",
   "metadata": {},
   "outputs": [
    {
     "data": {
      "text/plain": [
       "True"
      ]
     },
     "execution_count": 195,
     "metadata": {},
     "output_type": "execute_result"
    }
   ],
   "source": [
    "# Check if a list contains a value using the in keyword\n",
    "'drawf' in b_list"
   ]
  },
  {
   "cell_type": "code",
   "execution_count": 196,
   "id": "e75110f6",
   "metadata": {},
   "outputs": [
    {
     "data": {
      "text/plain": [
       "False"
      ]
     },
     "execution_count": 196,
     "metadata": {},
     "output_type": "execute_result"
    }
   ],
   "source": [
    "# The keyword not can be used to negate in\n",
    "'drawf' not in b_list"
   ]
  },
  {
   "cell_type": "markdown",
   "id": "a4301933",
   "metadata": {},
   "source": [
    "Concatenating and combining lists\n"
   ]
  },
  {
   "cell_type": "code",
   "execution_count": 197,
   "id": "c3855d40",
   "metadata": {},
   "outputs": [
    {
     "data": {
      "text/plain": [
       "[4, None, 'foo', 7, 8, (2, 3)]"
      ]
     },
     "execution_count": 197,
     "metadata": {},
     "output_type": "execute_result"
    }
   ],
   "source": [
    "# Similar to tuples, adding two lists together with + concatenates them\n",
    "[4, None, 'foo'] + [7, 8, (2, 3)]"
   ]
  },
  {
   "cell_type": "code",
   "execution_count": 202,
   "id": "ea55c30a",
   "metadata": {},
   "outputs": [
    {
     "data": {
      "text/plain": [
       "[4, None, 'foo', 7, 8, (2, 3)]"
      ]
     },
     "execution_count": 202,
     "metadata": {},
     "output_type": "execute_result"
    }
   ],
   "source": [
    "# If you have a list already defined, you can append multiple elements to it using the extend method\n",
    "x = [4, None, 'foo']\n",
    "x.extend([7, 8, (2, 3)])\n",
    "x"
   ]
  },
  {
   "cell_type": "markdown",
   "id": "5fa652b1",
   "metadata": {},
   "source": [
    "Sorting"
   ]
  },
  {
   "cell_type": "code",
   "execution_count": 205,
   "id": "dc8948b4",
   "metadata": {},
   "outputs": [
    {
     "data": {
      "text/plain": [
       "[1, 2, 3, 5, 7]"
      ]
     },
     "execution_count": 205,
     "metadata": {},
     "output_type": "execute_result"
    }
   ],
   "source": [
    "# You can sort a list in-place (without creating a new object) by calling its sort function\n",
    "a = [7, 2, 5, 1, 3]\n",
    "a.sort()\n",
    "a"
   ]
  },
  {
   "cell_type": "code",
   "execution_count": 208,
   "id": "ea4e670d",
   "metadata": {},
   "outputs": [
    {
     "data": {
      "text/plain": [
       "['he', 'saw', 'six', 'small', 'foxes']"
      ]
     },
     "execution_count": 208,
     "metadata": {},
     "output_type": "execute_result"
    }
   ],
   "source": [
    "# pass a secondary sort key\n",
    "b = ['saw', 'small', 'he', 'foxes', 'six']\n",
    "b.sort(key=len)\n",
    "b"
   ]
  },
  {
   "cell_type": "markdown",
   "id": "f197cb48",
   "metadata": {},
   "source": [
    "Binary search and maintaining a sorted list"
   ]
  },
  {
   "cell_type": "code",
   "execution_count": 239,
   "id": "71fd0c51",
   "metadata": {},
   "outputs": [],
   "source": [
    "# The built-in bisect module implements binary search and insertion into a sorted list.\n",
    "import bisect\n",
    "c = [1, 2, 2, 2, 3, 4, 7]"
   ]
  },
  {
   "cell_type": "code",
   "execution_count": 240,
   "id": "1c60c9fa",
   "metadata": {},
   "outputs": [
    {
     "data": {
      "text/plain": [
       "4"
      ]
     },
     "execution_count": 240,
     "metadata": {},
     "output_type": "execute_result"
    }
   ],
   "source": [
    "# bisect.bisect finds the location where an element should be inserted to keep it sor‐ted\n",
    "bisect.bisect(c, 2)"
   ]
  },
  {
   "cell_type": "code",
   "execution_count": 241,
   "id": "2d0ed077",
   "metadata": {},
   "outputs": [
    {
     "data": {
      "text/plain": [
       "6"
      ]
     },
     "execution_count": 241,
     "metadata": {},
     "output_type": "execute_result"
    }
   ],
   "source": [
    "bisect.bisect(c, 5)"
   ]
  },
  {
   "cell_type": "code",
   "execution_count": 242,
   "id": "3f48cfc1",
   "metadata": {},
   "outputs": [
    {
     "data": {
      "text/plain": [
       "[1, 2, 2, 2, 3, 4, 6, 7]"
      ]
     },
     "execution_count": 242,
     "metadata": {},
     "output_type": "execute_result"
    }
   ],
   "source": [
    "#  bisect.insort actually inserts the element into that location\n",
    "bisect.insort(c, 6)\n",
    "c"
   ]
  },
  {
   "cell_type": "markdown",
   "id": "ac7615f8",
   "metadata": {},
   "source": [
    "Slicing"
   ]
  },
  {
   "cell_type": "markdown",
   "id": "0654b895",
   "metadata": {},
   "source": [
    "We can select sections of most sequence types by using slice notation, which in its\n",
    "basic form consists of start:stop passed to the indexing operator []:"
   ]
  },
  {
   "cell_type": "code",
   "execution_count": 252,
   "id": "8fda82e7",
   "metadata": {},
   "outputs": [
    {
     "data": {
      "text/plain": [
       "[2, 3, 7, 5]"
      ]
     },
     "execution_count": 252,
     "metadata": {},
     "output_type": "execute_result"
    }
   ],
   "source": [
    "seq = [7, 2, 3, 7, 5, 6, 0, 1]\n",
    "seq[1:5]"
   ]
  },
  {
   "cell_type": "code",
   "execution_count": 253,
   "id": "ee4c0176",
   "metadata": {},
   "outputs": [
    {
     "data": {
      "text/plain": [
       "[7]"
      ]
     },
     "execution_count": 253,
     "metadata": {},
     "output_type": "execute_result"
    }
   ],
   "source": [
    "seq[3:4]"
   ]
  },
  {
   "cell_type": "code",
   "execution_count": 254,
   "id": "cec8164f",
   "metadata": {},
   "outputs": [],
   "source": [
    "# Slices can also be assigned to with a sequence:\n",
    "seq[3:4] = [6,3]\n"
   ]
  },
  {
   "cell_type": "code",
   "execution_count": 255,
   "id": "97c924fe",
   "metadata": {},
   "outputs": [
    {
     "data": {
      "text/plain": [
       "[7, 2, 3, 6, 3, 5, 6, 0, 1]"
      ]
     },
     "execution_count": 255,
     "metadata": {},
     "output_type": "execute_result"
    }
   ],
   "source": [
    "seq"
   ]
  },
  {
   "cell_type": "code",
   "execution_count": 256,
   "id": "5964ee1e",
   "metadata": {},
   "outputs": [
    {
     "data": {
      "text/plain": [
       "[7, 2, 3, 6, 3]"
      ]
     },
     "execution_count": 256,
     "metadata": {},
     "output_type": "execute_result"
    }
   ],
   "source": [
    "seq[:5]"
   ]
  },
  {
   "cell_type": "code",
   "execution_count": 257,
   "id": "b6609c58",
   "metadata": {},
   "outputs": [
    {
     "data": {
      "text/plain": [
       "[6, 3, 5, 6, 0, 1]"
      ]
     },
     "execution_count": 257,
     "metadata": {},
     "output_type": "execute_result"
    }
   ],
   "source": [
    "seq[3:]"
   ]
  },
  {
   "cell_type": "code",
   "execution_count": 259,
   "id": "208c1a20",
   "metadata": {},
   "outputs": [
    {
     "data": {
      "text/plain": [
       "[5, 6, 0, 1]"
      ]
     },
     "execution_count": 259,
     "metadata": {},
     "output_type": "execute_result"
    }
   ],
   "source": [
    "seq[-4:]"
   ]
  },
  {
   "cell_type": "code",
   "execution_count": 260,
   "id": "338d5b06",
   "metadata": {},
   "outputs": [
    {
     "data": {
      "text/plain": [
       "[6, 3, 5, 6]"
      ]
     },
     "execution_count": 260,
     "metadata": {},
     "output_type": "execute_result"
    }
   ],
   "source": [
    "seq[-6:-2]"
   ]
  },
  {
   "cell_type": "code",
   "execution_count": 261,
   "id": "a03d4d23",
   "metadata": {},
   "outputs": [
    {
     "data": {
      "text/plain": [
       "[7, 3, 3, 6, 1]"
      ]
     },
     "execution_count": 261,
     "metadata": {},
     "output_type": "execute_result"
    }
   ],
   "source": [
    "# A step can also be used after a second colon to, say, take every other element\n",
    "seq[::2]"
   ]
  },
  {
   "cell_type": "code",
   "execution_count": 262,
   "id": "6e86ae9d",
   "metadata": {},
   "outputs": [
    {
     "data": {
      "text/plain": [
       "[1, 0, 6, 5, 3, 6, 3, 2, 7]"
      ]
     },
     "execution_count": 262,
     "metadata": {},
     "output_type": "execute_result"
    }
   ],
   "source": [
    "# Pass -1, which has the useful effect of reversing a list or tuple\n",
    "seq[::-1]"
   ]
  },
  {
   "cell_type": "markdown",
   "id": "24fc1fc8",
   "metadata": {},
   "source": [
    "## Dict"
   ]
  },
  {
   "cell_type": "markdown",
   "id": "786e6e64",
   "metadata": {},
   "source": [
    "dict is likely the most important built-in Python data structure. A more common\n",
    "name for it is hash map or associative array. It is a flexibly sized collection of key-value\n",
    "pairs, where key and value are Python objects. One approach for creating one is to use\n",
    "curly braces {} and colons to separate keys and values"
   ]
  },
  {
   "cell_type": "code",
   "execution_count": 381,
   "id": "2ee02654",
   "metadata": {},
   "outputs": [
    {
     "data": {
      "text/plain": [
       "{'a': 'some value', 'b': [1, 2, 3, 4, 5]}"
      ]
     },
     "execution_count": 381,
     "metadata": {},
     "output_type": "execute_result"
    }
   ],
   "source": [
    "empty_dict = {}\n",
    "d1 = {'a':'some value', 'b':[1,2,3,4,5]}\n",
    "d1"
   ]
  },
  {
   "cell_type": "markdown",
   "id": "4c513680",
   "metadata": {},
   "source": [
    "We can access, insert, or set elements using the same syntax as for accessing elements\n",
    "of a list or tuple"
   ]
  },
  {
   "cell_type": "code",
   "execution_count": 382,
   "id": "42f23e58",
   "metadata": {},
   "outputs": [],
   "source": [
    " d1[7] = 'an integer'"
   ]
  },
  {
   "cell_type": "code",
   "execution_count": 383,
   "id": "c46b045b",
   "metadata": {},
   "outputs": [
    {
     "data": {
      "text/plain": [
       "{'a': 'some value', 'b': [1, 2, 3, 4, 5], 7: 'an integer'}"
      ]
     },
     "execution_count": 383,
     "metadata": {},
     "output_type": "execute_result"
    }
   ],
   "source": [
    "d1"
   ]
  },
  {
   "cell_type": "code",
   "execution_count": 384,
   "id": "eae53824",
   "metadata": {},
   "outputs": [
    {
     "data": {
      "text/plain": [
       "[1, 2, 3, 4, 5]"
      ]
     },
     "execution_count": 384,
     "metadata": {},
     "output_type": "execute_result"
    }
   ],
   "source": [
    "d1['b']"
   ]
  },
  {
   "cell_type": "code",
   "execution_count": 301,
   "id": "965e59a2",
   "metadata": {},
   "outputs": [
    {
     "data": {
      "text/plain": [
       "True"
      ]
     },
     "execution_count": 301,
     "metadata": {},
     "output_type": "execute_result"
    }
   ],
   "source": [
    "# n check if a dict contains a key using the same syntax used for checking whether a list or tuple contains a value\n",
    "'b' in d1"
   ]
  },
  {
   "cell_type": "code",
   "execution_count": 302,
   "id": "775f5b83",
   "metadata": {},
   "outputs": [
    {
     "data": {
      "text/plain": [
       "{'a': 'some value', 'b': [1, 2, 3, 4, 5], 7: 'an integer', 5: 'some value'}"
      ]
     },
     "execution_count": 302,
     "metadata": {},
     "output_type": "execute_result"
    }
   ],
   "source": [
    "# delete values either using the del keyword or the pop method (which simul‐taneously returns the value and deletes the key)\n",
    "d1[5] = 'some value'\n",
    "d1"
   ]
  },
  {
   "cell_type": "code",
   "execution_count": 303,
   "id": "14583bc6",
   "metadata": {},
   "outputs": [
    {
     "data": {
      "text/plain": [
       "{'a': 'some value',\n",
       " 'b': [1, 2, 3, 4, 5],\n",
       " 7: 'an integer',\n",
       " 5: 'some value',\n",
       " 'dummy': 'Another value'}"
      ]
     },
     "execution_count": 303,
     "metadata": {},
     "output_type": "execute_result"
    }
   ],
   "source": [
    "d1['dummy'] = 'Another value'\n",
    "d1"
   ]
  },
  {
   "cell_type": "code",
   "execution_count": 304,
   "id": "86a76795",
   "metadata": {},
   "outputs": [],
   "source": [
    "del d1[5]"
   ]
  },
  {
   "cell_type": "code",
   "execution_count": 305,
   "id": "3b1ccf0a",
   "metadata": {},
   "outputs": [
    {
     "data": {
      "text/plain": [
       "{'a': 'some value',\n",
       " 'b': [1, 2, 3, 4, 5],\n",
       " 7: 'an integer',\n",
       " 'dummy': 'Another value'}"
      ]
     },
     "execution_count": 305,
     "metadata": {},
     "output_type": "execute_result"
    }
   ],
   "source": [
    "d1"
   ]
  },
  {
   "cell_type": "code",
   "execution_count": 309,
   "id": "03dfab82",
   "metadata": {},
   "outputs": [
    {
     "data": {
      "text/plain": [
       "'Another value'"
      ]
     },
     "execution_count": 309,
     "metadata": {},
     "output_type": "execute_result"
    }
   ],
   "source": [
    "d1.pop('dummy')"
   ]
  },
  {
   "cell_type": "code",
   "execution_count": 310,
   "id": "037afa19",
   "metadata": {},
   "outputs": [
    {
     "data": {
      "text/plain": [
       "{'a': 'some value', 'b': [1, 2, 3, 4, 5], 7: 'an integer'}"
      ]
     },
     "execution_count": 310,
     "metadata": {},
     "output_type": "execute_result"
    }
   ],
   "source": [
    "d1"
   ]
  },
  {
   "cell_type": "markdown",
   "id": "f99d2230",
   "metadata": {},
   "source": [
    "The keys and values method give you iterators of the dict’s keys and values, respec‐\n",
    "tively. While the key-value pairs are not in any particular order, these functions out‐\n",
    "put the keys and values in the same order"
   ]
  },
  {
   "cell_type": "code",
   "execution_count": 315,
   "id": "9ebeb06a",
   "metadata": {},
   "outputs": [
    {
     "data": {
      "text/plain": [
       "['a', 'b', 7]"
      ]
     },
     "execution_count": 315,
     "metadata": {},
     "output_type": "execute_result"
    }
   ],
   "source": [
    "list(d1.keys())"
   ]
  },
  {
   "cell_type": "code",
   "execution_count": 316,
   "id": "86e3f506",
   "metadata": {},
   "outputs": [
    {
     "data": {
      "text/plain": [
       "['some value', [1, 2, 3, 4, 5], 'an integer']"
      ]
     },
     "execution_count": 316,
     "metadata": {},
     "output_type": "execute_result"
    }
   ],
   "source": [
    "list(d1.values())"
   ]
  },
  {
   "cell_type": "code",
   "execution_count": 319,
   "id": "0ef52880",
   "metadata": {},
   "outputs": [
    {
     "data": {
      "text/plain": [
       "{'a': 'some value', 'b': 'foo', 7: 'an integer', 'c': 12}"
      ]
     },
     "execution_count": 319,
     "metadata": {},
     "output_type": "execute_result"
    }
   ],
   "source": [
    "# merge one dict into another using the update method\n",
    "d1.update({'b':'foo', 'c':12})\n",
    "d1"
   ]
  },
  {
   "cell_type": "markdown",
   "id": "6fd033ec",
   "metadata": {},
   "source": [
    "Valid dict key types"
   ]
  },
  {
   "cell_type": "markdown",
   "id": "a362e3ef",
   "metadata": {},
   "source": [
    "While the values of a dict can be any Python object, the keys generally have to be\n",
    "immutable objects like scalar types (int, float, string) or tuples (all the objects in the\n",
    "tuple need to be immutable, too). The technical term here is hashability. You can\n",
    "check whether an object is hashable (can be used as a key in a dict) with the hash\n",
    "function"
   ]
  },
  {
   "cell_type": "code",
   "execution_count": 329,
   "id": "2e768c56",
   "metadata": {},
   "outputs": [
    {
     "data": {
      "text/plain": [
       "4189693817001924655"
      ]
     },
     "execution_count": 329,
     "metadata": {},
     "output_type": "execute_result"
    }
   ],
   "source": [
    "hash('string')"
   ]
  },
  {
   "cell_type": "code",
   "execution_count": 333,
   "id": "f2657da3",
   "metadata": {},
   "outputs": [
    {
     "data": {
      "text/plain": [
       "-9209053662355515447"
      ]
     },
     "execution_count": 333,
     "metadata": {},
     "output_type": "execute_result"
    }
   ],
   "source": [
    "hash((1, 2, (2,3)))"
   ]
  },
  {
   "cell_type": "code",
   "execution_count": 335,
   "id": "cdac7370",
   "metadata": {},
   "outputs": [
    {
     "ename": "TypeError",
     "evalue": "unhashable type: 'list'",
     "output_type": "error",
     "traceback": [
      "\u001b[1;31m---------------------------------------------------------------------------\u001b[0m",
      "\u001b[1;31mTypeError\u001b[0m                                 Traceback (most recent call last)",
      "\u001b[1;32m<ipython-input-335-7b1057546b91>\u001b[0m in \u001b[0;36m<module>\u001b[1;34m\u001b[0m\n\u001b[1;32m----> 1\u001b[1;33m \u001b[0mhash\u001b[0m\u001b[1;33m(\u001b[0m\u001b[1;33m(\u001b[0m\u001b[1;36m1\u001b[0m\u001b[1;33m,\u001b[0m \u001b[1;36m2\u001b[0m\u001b[1;33m,\u001b[0m\u001b[1;33m[\u001b[0m\u001b[1;36m1\u001b[0m\u001b[1;33m,\u001b[0m\u001b[1;36m2\u001b[0m\u001b[1;33m]\u001b[0m\u001b[1;33m)\u001b[0m\u001b[1;33m)\u001b[0m\u001b[1;33m\u001b[0m\u001b[1;33m\u001b[0m\u001b[0m\n\u001b[0m",
      "\u001b[1;31mTypeError\u001b[0m: unhashable type: 'list'"
     ]
    }
   ],
   "source": [
    "hash((1, 2,[1,2]))"
   ]
  },
  {
   "cell_type": "code",
   "execution_count": 337,
   "id": "5fe21b95",
   "metadata": {},
   "outputs": [
    {
     "data": {
      "text/plain": [
       "{(1, 2, 3): 5}"
      ]
     },
     "execution_count": 337,
     "metadata": {},
     "output_type": "execute_result"
    }
   ],
   "source": [
    "# To use a list as a key, one option is to convert it to a tuple\n",
    "d = {}\n",
    "d[tuple([1,2,3])] = 5\n",
    "d"
   ]
  },
  {
   "cell_type": "code",
   "execution_count": 340,
   "id": "ba218292",
   "metadata": {},
   "outputs": [
    {
     "data": {
      "text/plain": [
       "529344067295497451"
      ]
     },
     "execution_count": 340,
     "metadata": {},
     "output_type": "execute_result"
    }
   ],
   "source": [
    "hash(tuple([1,2,3]))"
   ]
  },
  {
   "cell_type": "markdown",
   "id": "58a2617c",
   "metadata": {},
   "source": [
    "## Set"
   ]
  },
  {
   "cell_type": "markdown",
   "id": "81d1502b",
   "metadata": {},
   "source": [
    "A set is an unordered collection of unique elements. You can think of them like dicts,\n",
    "but keys only, no values. A set can be created in two ways: via the set function or via\n",
    "a set literal with curly braces"
   ]
  },
  {
   "cell_type": "code",
   "execution_count": 345,
   "id": "f37f1f18",
   "metadata": {},
   "outputs": [
    {
     "data": {
      "text/plain": [
       "{1, 2, 3}"
      ]
     },
     "execution_count": 345,
     "metadata": {},
     "output_type": "execute_result"
    }
   ],
   "source": [
    "# using set function\n",
    "set([2,2,2,1,3,3])"
   ]
  },
  {
   "cell_type": "code",
   "execution_count": 347,
   "id": "282db8b3",
   "metadata": {},
   "outputs": [
    {
     "data": {
      "text/plain": [
       "{1, 2, 3}"
      ]
     },
     "execution_count": 347,
     "metadata": {},
     "output_type": "execute_result"
    }
   ],
   "source": [
    "{2,2,2,1,3,3}"
   ]
  },
  {
   "cell_type": "code",
   "execution_count": 348,
   "id": "cd191755",
   "metadata": {},
   "outputs": [],
   "source": [
    "# Sets support mathematical set operations like union, intersection, difference, and symmetric difference. \n",
    "a = {1,2,3,4,5}\n",
    "b = {3,4,5,6,7,8}"
   ]
  },
  {
   "cell_type": "code",
   "execution_count": 354,
   "id": "e1af0e17",
   "metadata": {},
   "outputs": [
    {
     "data": {
      "text/plain": [
       "{1, 2, 3, 4, 5, 6, 7, 8}"
      ]
     },
     "execution_count": 354,
     "metadata": {},
     "output_type": "execute_result"
    }
   ],
   "source": [
    "# The union of these two sets is the set of distinct elements occurring in either set\n",
    "# Union Operation can be done in 2 way\n",
    "# Using union method\n",
    "a.union(b)"
   ]
  },
  {
   "cell_type": "code",
   "execution_count": 355,
   "id": "e28b35ec",
   "metadata": {},
   "outputs": [
    {
     "data": {
      "text/plain": [
       "{1, 2, 3, 4, 5, 6, 7, 8}"
      ]
     },
     "execution_count": 355,
     "metadata": {},
     "output_type": "execute_result"
    }
   ],
   "source": [
    "# Using Binary operator\n",
    "a|b"
   ]
  },
  {
   "cell_type": "code",
   "execution_count": 356,
   "id": "1a909ecc",
   "metadata": {},
   "outputs": [
    {
     "data": {
      "text/plain": [
       "{3, 4, 5}"
      ]
     },
     "execution_count": 356,
     "metadata": {},
     "output_type": "execute_result"
    }
   ],
   "source": [
    "# The intersection contains the elements occurring in both sets.\n",
    "# Using intersection method\n",
    "a.intersection(b)"
   ]
  },
  {
   "cell_type": "code",
   "execution_count": 357,
   "id": "f49ef61e",
   "metadata": {},
   "outputs": [
    {
     "data": {
      "text/plain": [
       "{3, 4, 5}"
      ]
     },
     "execution_count": 357,
     "metadata": {},
     "output_type": "execute_result"
    }
   ],
   "source": [
    "# using & operator\n",
    "a & b"
   ]
  },
  {
   "cell_type": "markdown",
   "id": "0f57b27a",
   "metadata": {},
   "source": [
    "All of the logical set operations have in-place counterparts, which enable you to\n",
    "replace the contents of the set on the left side of the operation with the result. For\n",
    "very large sets, this may be more efficient"
   ]
  },
  {
   "cell_type": "code",
   "execution_count": 363,
   "id": "e32d6ae4",
   "metadata": {},
   "outputs": [
    {
     "data": {
      "text/plain": [
       "{1, 2, 3, 4, 5, 6, 7, 8}"
      ]
     },
     "execution_count": 363,
     "metadata": {},
     "output_type": "execute_result"
    }
   ],
   "source": [
    "c = a.copy()\n",
    "c |= b\n",
    "c"
   ]
  },
  {
   "cell_type": "code",
   "execution_count": 366,
   "id": "6efd41ac",
   "metadata": {},
   "outputs": [],
   "source": [
    "# Like dicts, set elements generally must be immutable. To have list-like elements, you must convert it to a tuple:\n",
    "my_data = [1,2,3,4]"
   ]
  },
  {
   "cell_type": "code",
   "execution_count": 370,
   "id": "939cfbef",
   "metadata": {},
   "outputs": [
    {
     "data": {
      "text/plain": [
       "{(1, 2, 3, 4)}"
      ]
     },
     "execution_count": 370,
     "metadata": {},
     "output_type": "execute_result"
    }
   ],
   "source": [
    "my_set = {tuple(my_data)}\n",
    "my_set"
   ]
  },
  {
   "cell_type": "code",
   "execution_count": null,
   "id": "6058bb08",
   "metadata": {},
   "outputs": [],
   "source": [
    "# check if a set is a subset of (is contained in) or a superset of (contains all elements of) another set:"
   ]
  },
  {
   "cell_type": "code",
   "execution_count": 373,
   "id": "9cd08ae5",
   "metadata": {},
   "outputs": [
    {
     "data": {
      "text/plain": [
       "True"
      ]
     },
     "execution_count": 373,
     "metadata": {},
     "output_type": "execute_result"
    }
   ],
   "source": [
    "{1,2,3}.issubset(c)"
   ]
  },
  {
   "cell_type": "code",
   "execution_count": 374,
   "id": "13f23dfa",
   "metadata": {},
   "outputs": [
    {
     "data": {
      "text/plain": [
       "True"
      ]
     },
     "execution_count": 374,
     "metadata": {},
     "output_type": "execute_result"
    }
   ],
   "source": [
    "c.issuperset({1,2,3})"
   ]
  },
  {
   "cell_type": "code",
   "execution_count": 375,
   "id": "794345f7",
   "metadata": {},
   "outputs": [
    {
     "data": {
      "text/plain": [
       "True"
      ]
     },
     "execution_count": 375,
     "metadata": {},
     "output_type": "execute_result"
    }
   ],
   "source": [
    "# Sets are equal if and only if their contents are equal\n",
    "{1,2,3} == {3,2,1}"
   ]
  },
  {
   "cell_type": "markdown",
   "id": "cc1fbc9e",
   "metadata": {},
   "source": [
    "#### String"
   ]
  },
  {
   "cell_type": "code",
   "execution_count": 387,
   "id": "485c8b3c",
   "metadata": {},
   "outputs": [
    {
     "data": {
      "text/plain": [
       "['a', 'b', ' guido']"
      ]
     },
     "execution_count": 387,
     "metadata": {},
     "output_type": "execute_result"
    }
   ],
   "source": [
    "# String Object Methods\n",
    "# a comma-separated string can be broken into pieces with split\n",
    "val = 'a,b, guido'\n",
    "val.split(',')"
   ]
  },
  {
   "cell_type": "code",
   "execution_count": 389,
   "id": "9bcbc5fa",
   "metadata": {},
   "outputs": [
    {
     "data": {
      "text/plain": [
       "['a', 'b', 'guido']"
      ]
     },
     "execution_count": 389,
     "metadata": {},
     "output_type": "execute_result"
    }
   ],
   "source": [
    "# split is often combined with strip to trim whitespace (including line breaks)\n",
    "pieces = [x.strip() for x in val.split(',')]\n",
    "pieces"
   ]
  },
  {
   "cell_type": "code",
   "execution_count": 390,
   "id": "2095893d",
   "metadata": {},
   "outputs": [
    {
     "data": {
      "text/plain": [
       "'a::b::guido'"
      ]
     },
     "execution_count": 390,
     "metadata": {},
     "output_type": "execute_result"
    }
   ],
   "source": [
    "# These substrings could be concatenated together with a two-colon delimiter using addition\n",
    "first, second, third = pieces\n",
    "first+\"::\"+second+\"::\"+third"
   ]
  },
  {
   "cell_type": "code",
   "execution_count": 391,
   "id": "8808cab3",
   "metadata": {},
   "outputs": [
    {
     "data": {
      "text/plain": [
       "'a::b::guido'"
      ]
     },
     "execution_count": 391,
     "metadata": {},
     "output_type": "execute_result"
    }
   ],
   "source": [
    "# A faster and more Pythonic way is to pass alist or tuple to the join method on the string '::'\n",
    "\"::\".join(pieces)"
   ]
  },
  {
   "cell_type": "code",
   "execution_count": 392,
   "id": "8d8deae1",
   "metadata": {},
   "outputs": [
    {
     "data": {
      "text/plain": [
       "True"
      ]
     },
     "execution_count": 392,
     "metadata": {},
     "output_type": "execute_result"
    }
   ],
   "source": [
    "# Using Python’s in keyword is the best way to detect a substring, though index and find can also be used\n",
    "'guido' in val"
   ]
  },
  {
   "cell_type": "code",
   "execution_count": 394,
   "id": "934eb2aa",
   "metadata": {},
   "outputs": [
    {
     "data": {
      "text/plain": [
       "1"
      ]
     },
     "execution_count": 394,
     "metadata": {},
     "output_type": "execute_result"
    }
   ],
   "source": [
    "val.index(',')"
   ]
  },
  {
   "cell_type": "code",
   "execution_count": 399,
   "id": "8a34d113",
   "metadata": {},
   "outputs": [
    {
     "data": {
      "text/plain": [
       "-1"
      ]
     },
     "execution_count": 399,
     "metadata": {},
     "output_type": "execute_result"
    }
   ],
   "source": [
    "val.find(\":\")"
   ]
  },
  {
   "cell_type": "code",
   "execution_count": 400,
   "id": "356633a3",
   "metadata": {},
   "outputs": [
    {
     "ename": "ValueError",
     "evalue": "substring not found",
     "output_type": "error",
     "traceback": [
      "\u001b[1;31m---------------------------------------------------------------------------\u001b[0m",
      "\u001b[1;31mValueError\u001b[0m                                Traceback (most recent call last)",
      "\u001b[1;32m<ipython-input-400-a75f29a2c5d0>\u001b[0m in \u001b[0;36m<module>\u001b[1;34m\u001b[0m\n\u001b[0;32m      1\u001b[0m \u001b[1;31m# e the difference between find and index is that index raises an exception if the string isn’t found (versus returning –1)\u001b[0m\u001b[1;33m\u001b[0m\u001b[1;33m\u001b[0m\u001b[1;33m\u001b[0m\u001b[0m\n\u001b[1;32m----> 2\u001b[1;33m \u001b[0mval\u001b[0m\u001b[1;33m.\u001b[0m\u001b[0mindex\u001b[0m\u001b[1;33m(\u001b[0m\u001b[1;34m\":\"\u001b[0m\u001b[1;33m)\u001b[0m\u001b[1;33m\u001b[0m\u001b[1;33m\u001b[0m\u001b[0m\n\u001b[0m",
      "\u001b[1;31mValueError\u001b[0m: substring not found"
     ]
    }
   ],
   "source": [
    "# e the difference between find and index is that index raises an exception if the string isn’t found (versus returning –1)\n",
    "val.index(\":\")"
   ]
  },
  {
   "cell_type": "code",
   "execution_count": 402,
   "id": "3bb1941d",
   "metadata": {},
   "outputs": [
    {
     "data": {
      "text/plain": [
       "2"
      ]
     },
     "execution_count": 402,
     "metadata": {},
     "output_type": "execute_result"
    }
   ],
   "source": [
    "# count returns the number of occurrences of a particular substring\n",
    "val.count(',')"
   ]
  },
  {
   "cell_type": "code",
   "execution_count": 403,
   "id": "ea5b5f20",
   "metadata": {},
   "outputs": [
    {
     "data": {
      "text/plain": [
       "'a::b:: guido'"
      ]
     },
     "execution_count": 403,
     "metadata": {},
     "output_type": "execute_result"
    }
   ],
   "source": [
    "# replace will substitute occurrences of one pattern for another\n",
    "val.replace(',', \"::\")"
   ]
  },
  {
   "cell_type": "code",
   "execution_count": 405,
   "id": "ee87d018",
   "metadata": {},
   "outputs": [
    {
     "data": {
      "text/plain": [
       "'ab guido'"
      ]
     },
     "execution_count": 405,
     "metadata": {},
     "output_type": "execute_result"
    }
   ],
   "source": [
    "# It is commonly used to delete patterns, too, by passing an empty string\n",
    "val.replace(',', '')"
   ]
  },
  {
   "cell_type": "markdown",
   "id": "a6cee17d",
   "metadata": {},
   "source": [
    "#### List, Set, and Dict Comprehensions\n"
   ]
  },
  {
   "cell_type": "markdown",
   "id": "b9c057fd",
   "metadata": {},
   "source": [
    "They allow you to concisely form a new list by filtering the elements of a collection, transforming the elements passing the filter in one concise expression. \n",
    "[expr for val in collection if condition]"
   ]
  },
  {
   "cell_type": "code",
   "execution_count": 406,
   "id": "c0c86965",
   "metadata": {},
   "outputs": [],
   "source": [
    "# This is equivalent to the following for loop:\n",
    "#result = []\n",
    "#for val in collection:\n",
    " #if condition:\n",
    " #result.append(expr)"
   ]
  },
  {
   "cell_type": "markdown",
   "id": "e40909a9",
   "metadata": {},
   "source": [
    "The filter condition can be omitted, leaving only the expression. For example, given a\n",
    "list of strings, we could filter out strings with length 2 or less and also convert them to\n",
    "uppercase like this"
   ]
  },
  {
   "cell_type": "code",
   "execution_count": 409,
   "id": "3f5d93b1",
   "metadata": {},
   "outputs": [
    {
     "data": {
      "text/plain": [
       "['BAT', 'CAR', 'DOVE', 'PYTHON']"
      ]
     },
     "execution_count": 409,
     "metadata": {},
     "output_type": "execute_result"
    }
   ],
   "source": [
    "strings = ['a','as','bat','car','dove','python']\n",
    "[x.upper() for x in strings if len(x) > 2]"
   ]
  },
  {
   "cell_type": "markdown",
   "id": "b89e7a8d",
   "metadata": {},
   "source": [
    "Set and dict comprehensions are a natural extension, producing sets and dicts in an\n",
    "idiomatically similar way instead of lists. A dict comprehension looks like this:\n",
    "dict_comp = {key-expr : value-expr for value in collection\n",
    " if condition}\n"
   ]
  },
  {
   "cell_type": "markdown",
   "id": "3ba4fdfb",
   "metadata": {},
   "source": [
    "A set comprehension looks like the equivalent list comprehension except with curly\n",
    "braces instead of square brackets:\n",
    "set_comp = {expr for value in collection if condition}\n"
   ]
  },
  {
   "cell_type": "code",
   "execution_count": 414,
   "id": "fb56dc7a",
   "metadata": {},
   "outputs": [
    {
     "data": {
      "text/plain": [
       "{1, 2, 3, 4, 6}"
      ]
     },
     "execution_count": 414,
     "metadata": {},
     "output_type": "execute_result"
    }
   ],
   "source": [
    "# we wanted a set containing just the lengths of the strings con‐tained in the collection\n",
    "unique_lengths = {len(x) for x in strings}\n",
    "unique_lengths"
   ]
  },
  {
   "cell_type": "code",
   "execution_count": 416,
   "id": "a1b27d3c",
   "metadata": {},
   "outputs": [
    {
     "data": {
      "text/plain": [
       "{1, 2, 3, 4, 6}"
      ]
     },
     "execution_count": 416,
     "metadata": {},
     "output_type": "execute_result"
    }
   ],
   "source": [
    "# We could also express this more functionally using the map function\n",
    "set(map(len, strings))"
   ]
  },
  {
   "cell_type": "markdown",
   "id": "d9d64b8b",
   "metadata": {},
   "source": [
    "Nested list comprehensions"
   ]
  },
  {
   "cell_type": "code",
   "execution_count": 424,
   "id": "7d21597f",
   "metadata": {},
   "outputs": [],
   "source": [
    "all_data = [['John', 'Emily', 'Michael', 'Mary', 'Steven'],\n",
    "            ['Maria', 'Juan', 'Javier', 'Natalia', 'Pilar']]"
   ]
  },
  {
   "cell_type": "code",
   "execution_count": 429,
   "id": "94216911",
   "metadata": {},
   "outputs": [
    {
     "name": "stdout",
     "output_type": "stream",
     "text": [
      "['Steven']\n"
     ]
    }
   ],
   "source": [
    "# suppose we wanted to get a single list containing all names with two or more e’s in them.\n",
    "names_of_interest = []\n",
    "for names in all_data:\n",
    "    enough_es = [name for name in names if name.count('e')>=2]\n",
    "    names_of_interest.extend(enough_es)\n",
    "print(names_of_interest)"
   ]
  },
  {
   "cell_type": "code",
   "execution_count": 431,
   "id": "d40ffb68",
   "metadata": {},
   "outputs": [
    {
     "data": {
      "text/plain": [
       "['Steven']"
      ]
     },
     "execution_count": 431,
     "metadata": {},
     "output_type": "execute_result"
    }
   ],
   "source": [
    "# We can actually wrap this whole operation up in a single nested list comprehension,\n",
    "results = [name for names in all_data for name in names if name.count('e')>=2]\n",
    "results"
   ]
  },
  {
   "cell_type": "markdown",
   "id": "1264cafe",
   "metadata": {},
   "source": [
    "The for\n",
    "parts of the list comprehension are arranged according to the order of nesting, and\n",
    "any filter condition is put at the end as before."
   ]
  },
  {
   "cell_type": "markdown",
   "id": "2d12d234",
   "metadata": {},
   "source": [
    "another example where we\n",
    "“flatten” a list of tuples of integers into a simple list of integers"
   ]
  },
  {
   "cell_type": "code",
   "execution_count": 432,
   "id": "2ab84c6d",
   "metadata": {},
   "outputs": [
    {
     "data": {
      "text/plain": [
       "[1, 2, 3, 4, 5, 6, 7, 8, 9]"
      ]
     },
     "execution_count": 432,
     "metadata": {},
     "output_type": "execute_result"
    }
   ],
   "source": [
    "some_tuples = [(1,2,3),(4,5,6),(7,8,9)]\n",
    "[x for tup in some_tuples for x in tup]"
   ]
  },
  {
   "cell_type": "code",
   "execution_count": 439,
   "id": "d791bf6e",
   "metadata": {},
   "outputs": [
    {
     "name": "stdout",
     "output_type": "stream",
     "text": [
      "[1, 2, 3, 4, 5, 6, 7, 8, 9]\n"
     ]
    }
   ],
   "source": [
    "flattened = []\n",
    "for tup in some_tuples:\n",
    "    blah = [x for x in tup]\n",
    "    flattened.extend(blah)\n",
    "print(result)"
   ]
  },
  {
   "cell_type": "code",
   "execution_count": 440,
   "id": "ccb386a7",
   "metadata": {},
   "outputs": [
    {
     "name": "stdout",
     "output_type": "stream",
     "text": [
      "[1, 2, 3, 4, 5, 6, 7, 8, 9]\n"
     ]
    }
   ],
   "source": [
    "flattened = []\n",
    "for tup in some_tuples:\n",
    "    for x in tup:\n",
    "        flattened.append(blah)\n",
    "print(result)"
   ]
  },
  {
   "cell_type": "markdown",
   "id": "697d0c62",
   "metadata": {},
   "source": [
    "It’s important to distinguish the syntax just shown\n",
    "from a list comprehension inside a list comprehension, which is also perfectly valid"
   ]
  },
  {
   "cell_type": "code",
   "execution_count": 441,
   "id": "e5bae5bb",
   "metadata": {},
   "outputs": [
    {
     "data": {
      "text/plain": [
       "[[1, 2, 3], [4, 5, 6], [7, 8, 9]]"
      ]
     },
     "execution_count": 441,
     "metadata": {},
     "output_type": "execute_result"
    }
   ],
   "source": [
    "[[x for x in tup] for tup in some_tuples]"
   ]
  },
  {
   "cell_type": "markdown",
   "id": "8cf5f7c7",
   "metadata": {},
   "source": [
    "# Numpy "
   ]
  },
  {
   "cell_type": "code",
   "execution_count": 553,
   "id": "f0458e55",
   "metadata": {},
   "outputs": [],
   "source": [
    "import numpy as np"
   ]
  },
  {
   "cell_type": "markdown",
   "id": "ba924fda",
   "metadata": {},
   "source": [
    "The performance difference, consider a NumPy array of one million integers, and the equivalent Python list"
   ]
  },
  {
   "cell_type": "code",
   "execution_count": 554,
   "id": "1b0c4002",
   "metadata": {},
   "outputs": [],
   "source": [
    "my_arr = np.arange(1000000)\n",
    "my_list = list(range(1000000))"
   ]
  },
  {
   "cell_type": "code",
   "execution_count": 564,
   "id": "d8ba9bbd",
   "metadata": {},
   "outputs": [
    {
     "name": "stdout",
     "output_type": "stream",
     "text": [
      "2.28 ms ± 79 µs per loop (mean ± std. dev. of 7 runs, 100 loops each)\n",
      "34.9 ms ± 1.72 ms per loop (mean ± std. dev. of 7 runs, 10 loops each)\n"
     ]
    }
   ],
   "source": [
    "%timeit my_arr * 2\n",
    "%timeit my_list * 2 "
   ]
  },
  {
   "cell_type": "code",
   "execution_count": 571,
   "id": "14bd1e3c",
   "metadata": {},
   "outputs": [
    {
     "name": "stdout",
     "output_type": "stream",
     "text": [
      "Wall time: 242 ms\n"
     ]
    }
   ],
   "source": [
    "%time for _ in range(100): my_arr2 = my_arr * 2"
   ]
  },
  {
   "cell_type": "code",
   "execution_count": 573,
   "id": "c40e7360",
   "metadata": {},
   "outputs": [
    {
     "name": "stdout",
     "output_type": "stream",
     "text": [
      "Wall time: 1.19 s\n"
     ]
    }
   ],
   "source": [
    "%time for _ in range(10): my_list2 = [x * 2 for x in my_list]"
   ]
  },
  {
   "cell_type": "code",
   "execution_count": 579,
   "id": "013140eb",
   "metadata": {},
   "outputs": [
    {
     "data": {
      "text/plain": [
       "array([[0.84104116, 0.69263374, 0.44590044],\n",
       "       [0.36234046, 0.51609462, 0.45733218]])"
      ]
     },
     "execution_count": 579,
     "metadata": {},
     "output_type": "execute_result"
    }
   ],
   "source": [
    "# Generate some random data\n",
    "data = np.random.rand(2,3)\n",
    "data"
   ]
  },
  {
   "cell_type": "code",
   "execution_count": 580,
   "id": "350e2fa1",
   "metadata": {},
   "outputs": [
    {
     "data": {
      "text/plain": [
       "array([[8.41041156, 6.92633744, 4.45900443],\n",
       "       [3.62340463, 5.16094623, 4.57332177]])"
      ]
     },
     "execution_count": 580,
     "metadata": {},
     "output_type": "execute_result"
    }
   ],
   "source": [
    "# Some mathmatical operation with data\n",
    "data*10"
   ]
  },
  {
   "cell_type": "code",
   "execution_count": 581,
   "id": "91a9540e",
   "metadata": {},
   "outputs": [
    {
     "data": {
      "text/plain": [
       "array([[1.68208231, 1.38526749, 0.89180089],\n",
       "       [0.72468093, 1.03218925, 0.91466435]])"
      ]
     },
     "execution_count": 581,
     "metadata": {},
     "output_type": "execute_result"
    }
   ],
   "source": [
    "data+data"
   ]
  },
  {
   "cell_type": "code",
   "execution_count": 582,
   "id": "6ddbe884",
   "metadata": {},
   "outputs": [
    {
     "data": {
      "text/plain": [
       "(2, 3)"
      ]
     },
     "execution_count": 582,
     "metadata": {},
     "output_type": "execute_result"
    }
   ],
   "source": [
    "data.shape"
   ]
  },
  {
   "cell_type": "code",
   "execution_count": 583,
   "id": "9ada500a",
   "metadata": {},
   "outputs": [
    {
     "data": {
      "text/plain": [
       "dtype('float64')"
      ]
     },
     "execution_count": 583,
     "metadata": {},
     "output_type": "execute_result"
    }
   ],
   "source": [
    "data.dtype"
   ]
  },
  {
   "cell_type": "markdown",
   "id": "306a00b9",
   "metadata": {},
   "source": [
    "###### Creating ndarrays"
   ]
  },
  {
   "cell_type": "code",
   "execution_count": 597,
   "id": "7a0e2ae0",
   "metadata": {},
   "outputs": [
    {
     "data": {
      "text/plain": [
       "array([6. , 7.5, 8. , 0. , 1. ])"
      ]
     },
     "execution_count": 597,
     "metadata": {},
     "output_type": "execute_result"
    }
   ],
   "source": [
    "data1 = [6,7.5,8,0,1]\n",
    "arr1 = np.array(data1)\n",
    "arr1"
   ]
  },
  {
   "cell_type": "code",
   "execution_count": 602,
   "id": "c18d0b88",
   "metadata": {},
   "outputs": [
    {
     "data": {
      "text/plain": [
       "array([[1, 2, 3, 4],\n",
       "       [5, 6, 7, 8]])"
      ]
     },
     "execution_count": 602,
     "metadata": {},
     "output_type": "execute_result"
    }
   ],
   "source": [
    "# Nested sequences, like a list of equal-length lists, will be converted into a multidimen‐sional array\n",
    "data2 = [[1,2,3,4], [5,6,7,8]]  \n",
    "arr2 = np.array(data2)\n",
    "arr2"
   ]
  },
  {
   "cell_type": "code",
   "execution_count": 604,
   "id": "5198394c",
   "metadata": {},
   "outputs": [
    {
     "data": {
      "text/plain": [
       "(dtype('int32'), dtype('float64'))"
      ]
     },
     "execution_count": 604,
     "metadata": {},
     "output_type": "execute_result"
    }
   ],
   "source": [
    "arr2.dtype, arr1.dtype"
   ]
  },
  {
   "cell_type": "code",
   "execution_count": 603,
   "id": "5fc2d0f0",
   "metadata": {},
   "outputs": [
    {
     "data": {
      "text/plain": [
       "2"
      ]
     },
     "execution_count": 603,
     "metadata": {},
     "output_type": "execute_result"
    }
   ],
   "source": [
    "arr2.ndim"
   ]
  },
  {
   "cell_type": "code",
   "execution_count": 605,
   "id": "7fb25608",
   "metadata": {},
   "outputs": [
    {
     "data": {
      "text/plain": [
       "(2, 4)"
      ]
     },
     "execution_count": 605,
     "metadata": {},
     "output_type": "execute_result"
    }
   ],
   "source": [
    "arr2.shape"
   ]
  },
  {
   "cell_type": "code",
   "execution_count": 607,
   "id": "92303e22",
   "metadata": {},
   "outputs": [
    {
     "data": {
      "text/plain": [
       "array([0., 0., 0., 0., 0., 0., 0., 0., 0., 0.])"
      ]
     },
     "execution_count": 607,
     "metadata": {},
     "output_type": "execute_result"
    }
   ],
   "source": [
    "zeros = np.zeros(10)\n",
    "zeros"
   ]
  },
  {
   "cell_type": "code",
   "execution_count": 609,
   "id": "ad9659b1",
   "metadata": {},
   "outputs": [
    {
     "data": {
      "text/plain": [
       "array([[0., 0., 0., 0., 0., 0.],\n",
       "       [0., 0., 0., 0., 0., 0.],\n",
       "       [0., 0., 0., 0., 0., 0.]])"
      ]
     },
     "execution_count": 609,
     "metadata": {},
     "output_type": "execute_result"
    }
   ],
   "source": [
    "zeros1 = np.zeros((3,6))\n",
    "zeros1"
   ]
  },
  {
   "cell_type": "code",
   "execution_count": 610,
   "id": "eb9ea9fa",
   "metadata": {},
   "outputs": [
    {
     "data": {
      "text/plain": [
       "array([[[0., 0.],\n",
       "        [0., 0.],\n",
       "        [0., 0.]],\n",
       "\n",
       "       [[0., 0.],\n",
       "        [0., 0.],\n",
       "        [0., 0.]]])"
      ]
     },
     "execution_count": 610,
     "metadata": {},
     "output_type": "execute_result"
    }
   ],
   "source": [
    "# Respectively, with a given length or shape. empty creates an array without initializing its values to any par‐ticular value\n",
    "np.empty((2,3,2))"
   ]
  },
  {
   "cell_type": "markdown",
   "id": "f884d11c",
   "metadata": {},
   "source": [
    "It’s not safe to assume that np.empty will return an array of all\n",
    "zeros. In some cases, it may return uninitialized “garbage” values."
   ]
  },
  {
   "cell_type": "code",
   "execution_count": 617,
   "id": "62e05c5b",
   "metadata": {},
   "outputs": [
    {
     "data": {
      "text/plain": [
       "array([1., 1., 1., 1., 1., 1., 1., 1., 1., 1.])"
      ]
     },
     "execution_count": 617,
     "metadata": {},
     "output_type": "execute_result"
    }
   ],
   "source": [
    "np.ones(10)"
   ]
  },
  {
   "cell_type": "code",
   "execution_count": 619,
   "id": "f868fc13",
   "metadata": {},
   "outputs": [
    {
     "data": {
      "text/plain": [
       "array([[1., 1., 1., 1., 1., 1.],\n",
       "       [1., 1., 1., 1., 1., 1.],\n",
       "       [1., 1., 1., 1., 1., 1.]])"
      ]
     },
     "execution_count": 619,
     "metadata": {},
     "output_type": "execute_result"
    }
   ],
   "source": [
    "np.ones((3,6))"
   ]
  },
  {
   "cell_type": "code",
   "execution_count": 611,
   "id": "ec39c765",
   "metadata": {},
   "outputs": [
    {
     "data": {
      "text/plain": [
       "array([ 0,  1,  2,  3,  4,  5,  6,  7,  8,  9, 10, 11, 12, 13, 14])"
      ]
     },
     "execution_count": 611,
     "metadata": {},
     "output_type": "execute_result"
    }
   ],
   "source": [
    "np.arange(15)"
   ]
  },
  {
   "cell_type": "code",
   "execution_count": 616,
   "id": "9f3e8313",
   "metadata": {},
   "outputs": [
    {
     "data": {
      "text/plain": [
       "array([ 1,  3,  5,  7,  9, 11, 13])"
      ]
     },
     "execution_count": 616,
     "metadata": {},
     "output_type": "execute_result"
    }
   ],
   "source": [
    "np.arange(1,15,2)"
   ]
  },
  {
   "cell_type": "markdown",
   "id": "0528ba0a",
   "metadata": {},
   "source": [
    "Data Types for ndarrays"
   ]
  },
  {
   "cell_type": "code",
   "execution_count": 628,
   "id": "dbbd9170",
   "metadata": {},
   "outputs": [
    {
     "data": {
      "text/plain": [
       "array([1., 2., 3.])"
      ]
     },
     "execution_count": 628,
     "metadata": {},
     "output_type": "execute_result"
    }
   ],
   "source": [
    "arr1 = np.array([1,2,3], dtype=np.float64)\n",
    "arr1"
   ]
  },
  {
   "cell_type": "code",
   "execution_count": 629,
   "id": "6af0d18f",
   "metadata": {},
   "outputs": [
    {
     "data": {
      "text/plain": [
       "dtype('float64')"
      ]
     },
     "execution_count": 629,
     "metadata": {},
     "output_type": "execute_result"
    }
   ],
   "source": [
    "arr1.dtype"
   ]
  },
  {
   "cell_type": "code",
   "execution_count": 630,
   "id": "aaf5916e",
   "metadata": {},
   "outputs": [
    {
     "data": {
      "text/plain": [
       "array([1, 2, 3])"
      ]
     },
     "execution_count": 630,
     "metadata": {},
     "output_type": "execute_result"
    }
   ],
   "source": [
    "arr2 = np.array([1,2,3], dtype=np.int32)\n",
    "arr2"
   ]
  },
  {
   "cell_type": "code",
   "execution_count": 631,
   "id": "5f9e94c1",
   "metadata": {},
   "outputs": [
    {
     "data": {
      "text/plain": [
       "dtype('int32')"
      ]
     },
     "execution_count": 631,
     "metadata": {},
     "output_type": "execute_result"
    }
   ],
   "source": [
    "arr2.dtype"
   ]
  },
  {
   "cell_type": "code",
   "execution_count": 632,
   "id": "148e6179",
   "metadata": {},
   "outputs": [
    {
     "data": {
      "text/plain": [
       "dtype('int32')"
      ]
     },
     "execution_count": 632,
     "metadata": {},
     "output_type": "execute_result"
    }
   ],
   "source": [
    "# We can explicitly convert or cast an array from one dtype to another using ndarray’s astype method\n",
    "arr = np.array([1,2,3,4,5])\n",
    "arr.dtype"
   ]
  },
  {
   "cell_type": "code",
   "execution_count": 637,
   "id": "13606e79",
   "metadata": {},
   "outputs": [
    {
     "data": {
      "text/plain": [
       "dtype('float64')"
      ]
     },
     "execution_count": 637,
     "metadata": {},
     "output_type": "execute_result"
    }
   ],
   "source": [
    "float_arr = arr.astype(np.float64)\n",
    "float_arr.dtype"
   ]
  },
  {
   "cell_type": "code",
   "execution_count": 636,
   "id": "84e77c6a",
   "metadata": {},
   "outputs": [
    {
     "data": {
      "text/plain": [
       "array([ 3.7, -1.2, -2.6,  0.5, 12.9, 10.1])"
      ]
     },
     "execution_count": 636,
     "metadata": {},
     "output_type": "execute_result"
    }
   ],
   "source": [
    "arr = np.array([3.7, -1.2, -2.6, 0.5, 12.9, 10.1])\n",
    "arr"
   ]
  },
  {
   "cell_type": "code",
   "execution_count": 638,
   "id": "58739936",
   "metadata": {},
   "outputs": [
    {
     "data": {
      "text/plain": [
       "array([ 3, -1, -2,  0, 12, 10])"
      ]
     },
     "execution_count": 638,
     "metadata": {},
     "output_type": "execute_result"
    }
   ],
   "source": [
    "arr.astype(np.int32)"
   ]
  },
  {
   "cell_type": "code",
   "execution_count": 641,
   "id": "5f78f168",
   "metadata": {},
   "outputs": [
    {
     "data": {
      "text/plain": [
       "array([ 1.25, -9.6 , 42.  ])"
      ]
     },
     "execution_count": 641,
     "metadata": {},
     "output_type": "execute_result"
    }
   ],
   "source": [
    "# If we have an array of strings representing numbers, we can use astype to convert them to numeric form:\n",
    "numeric_string = np.array(['1.25', '-9.6', '42'])\n",
    "numeric_string.astype(np.float64)"
   ]
  },
  {
   "cell_type": "code",
   "execution_count": 643,
   "id": "c6a36871",
   "metadata": {},
   "outputs": [
    {
     "data": {
      "text/plain": [
       "array([0., 1., 2., 3., 4., 5., 6., 7., 8., 9.])"
      ]
     },
     "execution_count": 643,
     "metadata": {},
     "output_type": "execute_result"
    }
   ],
   "source": [
    "# We can also use another array’s dtype attribute\n",
    "int_array = np.arange(10)\n",
    "calibers = np.array([.22, .270, .357, .380, .44, .50], dtype = np.float64)\n",
    "int_array.astype(calibers.dtype)"
   ]
  },
  {
   "cell_type": "markdown",
   "id": "b8048a36",
   "metadata": {},
   "source": [
    "Arrays are important because they enable you to express batch operations on data\n",
    "without writing any for loops. NumPy users call this vectorization.\n",
    "Vectorization (as the term is normally used) refers to SIMD (single instruction, multiple data) operation."
   ]
  },
  {
   "cell_type": "code",
   "execution_count": 645,
   "id": "a203bd1f",
   "metadata": {},
   "outputs": [
    {
     "data": {
      "text/plain": [
       "array([[1, 2, 3],\n",
       "       [4, 5, 6]])"
      ]
     },
     "execution_count": 645,
     "metadata": {},
     "output_type": "execute_result"
    }
   ],
   "source": [
    "# Any arithmetic operations between equal-size arrays applies the operation element-wise\n",
    "arr = np.array([[1,2,3], [4,5,6]])\n",
    "arr"
   ]
  },
  {
   "cell_type": "code",
   "execution_count": 646,
   "id": "e5b89dc3",
   "metadata": {},
   "outputs": [
    {
     "data": {
      "text/plain": [
       "array([[ 1,  4,  9],\n",
       "       [16, 25, 36]])"
      ]
     },
     "execution_count": 646,
     "metadata": {},
     "output_type": "execute_result"
    }
   ],
   "source": [
    "arr*arr"
   ]
  },
  {
   "cell_type": "code",
   "execution_count": 647,
   "id": "405d3b48",
   "metadata": {},
   "outputs": [
    {
     "data": {
      "text/plain": [
       "array([[0, 0, 0],\n",
       "       [0, 0, 0]])"
      ]
     },
     "execution_count": 647,
     "metadata": {},
     "output_type": "execute_result"
    }
   ],
   "source": [
    "arr-arr"
   ]
  },
  {
   "cell_type": "code",
   "execution_count": 648,
   "id": "305aa00e",
   "metadata": {},
   "outputs": [
    {
     "data": {
      "text/plain": [
       "array([[1.        , 0.5       , 0.33333333],\n",
       "       [0.25      , 0.2       , 0.16666667]])"
      ]
     },
     "execution_count": 648,
     "metadata": {},
     "output_type": "execute_result"
    }
   ],
   "source": [
    "# Arithmetic operations with scalars propagate the scalar argument to each element in the array\n",
    "1/arr"
   ]
  },
  {
   "cell_type": "code",
   "execution_count": 649,
   "id": "0d9eadb7",
   "metadata": {},
   "outputs": [
    {
     "data": {
      "text/plain": [
       "array([[1.        , 1.41421356, 1.73205081],\n",
       "       [2.        , 2.23606798, 2.44948974]])"
      ]
     },
     "execution_count": 649,
     "metadata": {},
     "output_type": "execute_result"
    }
   ],
   "source": [
    "arr**.5"
   ]
  },
  {
   "cell_type": "code",
   "execution_count": 650,
   "id": "99d6e895",
   "metadata": {},
   "outputs": [
    {
     "data": {
      "text/plain": [
       "array([[False,  True, False],\n",
       "       [ True, False,  True]])"
      ]
     },
     "execution_count": 650,
     "metadata": {},
     "output_type": "execute_result"
    }
   ],
   "source": [
    "# Comparisons between arrays of the same size yield boolean arrays\n",
    "arr2 = np.array([[0, 4, 1], [7, 2, 12]])\n",
    "arr2>arr1"
   ]
  },
  {
   "cell_type": "markdown",
   "id": "41e8eb4d",
   "metadata": {},
   "source": [
    "Basic Indexing and Slicing"
   ]
  },
  {
   "cell_type": "code",
   "execution_count": 653,
   "id": "b7429ee6",
   "metadata": {},
   "outputs": [
    {
     "data": {
      "text/plain": [
       "array([0, 1, 2, 3, 4, 5, 6, 7, 8, 9])"
      ]
     },
     "execution_count": 653,
     "metadata": {},
     "output_type": "execute_result"
    }
   ],
   "source": [
    "# One-dimensional arrays are simple; on the surface they act similarly to Python lists\n",
    "arr = np.arange(10)\n",
    "arr"
   ]
  },
  {
   "cell_type": "code",
   "execution_count": 657,
   "id": "7045ed2d",
   "metadata": {},
   "outputs": [
    {
     "data": {
      "text/plain": [
       "5"
      ]
     },
     "execution_count": 657,
     "metadata": {},
     "output_type": "execute_result"
    }
   ],
   "source": [
    "arr[5] "
   ]
  },
  {
   "cell_type": "code",
   "execution_count": 658,
   "id": "6f408c58",
   "metadata": {},
   "outputs": [
    {
     "data": {
      "text/plain": [
       "array([5, 6, 7])"
      ]
     },
     "execution_count": 658,
     "metadata": {},
     "output_type": "execute_result"
    }
   ],
   "source": [
    "arr[5:8]"
   ]
  },
  {
   "cell_type": "code",
   "execution_count": 660,
   "id": "b46a1c71",
   "metadata": {},
   "outputs": [
    {
     "data": {
      "text/plain": [
       "array([ 0,  1,  2,  3,  4, 21, 21, 21,  8,  9])"
      ]
     },
     "execution_count": 660,
     "metadata": {},
     "output_type": "execute_result"
    }
   ],
   "source": [
    "arr[5:8] = 21\n",
    "arr"
   ]
  },
  {
   "cell_type": "markdown",
   "id": "56dae5a9",
   "metadata": {},
   "source": [
    "The data is not copied, and any modifications to the view will be\n",
    "reflected in the source array"
   ]
  },
  {
   "cell_type": "code",
   "execution_count": 661,
   "id": "405d3309",
   "metadata": {},
   "outputs": [
    {
     "data": {
      "text/plain": [
       "array([21, 21, 21])"
      ]
     },
     "execution_count": 661,
     "metadata": {},
     "output_type": "execute_result"
    }
   ],
   "source": [
    "arr_slice = arr[5:8]\n",
    "arr_slice"
   ]
  },
  {
   "cell_type": "code",
   "execution_count": 664,
   "id": "ae609b63",
   "metadata": {},
   "outputs": [
    {
     "data": {
      "text/plain": [
       "array([   0,    1,    2,    3,    4,   21, 4444,   21,    8,    9])"
      ]
     },
     "execution_count": 664,
     "metadata": {},
     "output_type": "execute_result"
    }
   ],
   "source": [
    "# Now, when change values in arr_slice, the mutations are reflected in the original array arr\n",
    "arr_slice[1] = 4444\n",
    "arr"
   ]
  },
  {
   "cell_type": "code",
   "execution_count": 665,
   "id": "8b6f93f6",
   "metadata": {},
   "outputs": [
    {
     "data": {
      "text/plain": [
       "array([ 0,  1,  2,  3,  4, 66, 66, 66,  8,  9])"
      ]
     },
     "execution_count": 665,
     "metadata": {},
     "output_type": "execute_result"
    }
   ],
   "source": [
    "# The “bare” slice [:] will assign to all values in an array\n",
    "arr_slice[:] = 66\n",
    "arr"
   ]
  },
  {
   "cell_type": "markdown",
   "id": "f6162b89",
   "metadata": {},
   "source": [
    "If we want a copy of a slice of an ndarray instead of a view, we will need to explicitly copy the array—for example,\n",
    "arr[5:8].copy()"
   ]
  },
  {
   "cell_type": "code",
   "execution_count": 666,
   "id": "6851e6ed",
   "metadata": {},
   "outputs": [
    {
     "data": {
      "text/plain": [
       "array([7, 8, 9])"
      ]
     },
     "execution_count": 666,
     "metadata": {},
     "output_type": "execute_result"
    }
   ],
   "source": [
    "# In a two-dimensional array, the elements at each index are no longer scalars but rather one-dimensional arrays\n",
    "arr2d = np.array([[1,2,3], [4,5,6], [7,8,9]])\n",
    "arr2d[2]"
   ]
  },
  {
   "cell_type": "markdown",
   "id": "26edae37",
   "metadata": {},
   "source": [
    "Thus, individual elements can be accessed recursively. But that is a bit too much\n",
    "work, so we can pass a comma-separated list of indices to select individual elements.\n",
    "So these are equivalent"
   ]
  },
  {
   "cell_type": "code",
   "execution_count": 668,
   "id": "0a77d389",
   "metadata": {},
   "outputs": [
    {
     "data": {
      "text/plain": [
       "3"
      ]
     },
     "execution_count": 668,
     "metadata": {},
     "output_type": "execute_result"
    }
   ],
   "source": [
    "arr2d[0][2]"
   ]
  },
  {
   "cell_type": "code",
   "execution_count": 669,
   "id": "0e9df710",
   "metadata": {},
   "outputs": [
    {
     "data": {
      "text/plain": [
       "3"
      ]
     },
     "execution_count": 669,
     "metadata": {},
     "output_type": "execute_result"
    }
   ],
   "source": [
    "arr2d[0,2]"
   ]
  },
  {
   "cell_type": "markdown",
   "id": "32b08726",
   "metadata": {},
   "source": [
    "multidimensional arrays\n"
   ]
  },
  {
   "cell_type": "code",
   "execution_count": 685,
   "id": "bedfb182",
   "metadata": {},
   "outputs": [
    {
     "data": {
      "text/plain": [
       "array([[[ 1,  2,  3],\n",
       "        [ 4,  5,  6]],\n",
       "\n",
       "       [[ 7,  8,  9],\n",
       "        [10, 11, 12]]])"
      ]
     },
     "execution_count": 685,
     "metadata": {},
     "output_type": "execute_result"
    }
   ],
   "source": [
    "arr3d = np.array([[[1,2,3], [4,5,6]], [[7,8,9], [10,11,12]]])\n",
    "arr3d"
   ]
  },
  {
   "cell_type": "code",
   "execution_count": 686,
   "id": "16640230",
   "metadata": {},
   "outputs": [
    {
     "data": {
      "text/plain": [
       "(2, 2, 3)"
      ]
     },
     "execution_count": 686,
     "metadata": {},
     "output_type": "execute_result"
    }
   ],
   "source": [
    "arr3d.shape"
   ]
  },
  {
   "cell_type": "code",
   "execution_count": 687,
   "id": "27f9ddcb",
   "metadata": {},
   "outputs": [
    {
     "data": {
      "text/plain": [
       "array([[1, 2, 3],\n",
       "       [4, 5, 6]])"
      ]
     },
     "execution_count": 687,
     "metadata": {},
     "output_type": "execute_result"
    }
   ],
   "source": [
    "# arr3d[0] is a 2 × 3 array\n",
    "arr3d[0]"
   ]
  },
  {
   "cell_type": "code",
   "execution_count": 688,
   "id": "85bf0307",
   "metadata": {},
   "outputs": [],
   "source": [
    "# Both scalar values and arrays can be assigned to arr3d[0]\n",
    "old_values = arr3d[0].copy()"
   ]
  },
  {
   "cell_type": "code",
   "execution_count": 690,
   "id": "385f02cd",
   "metadata": {},
   "outputs": [
    {
     "data": {
      "text/plain": [
       "array([[[42, 42, 42],\n",
       "        [42, 42, 42]],\n",
       "\n",
       "       [[ 7,  8,  9],\n",
       "        [10, 11, 12]]])"
      ]
     },
     "execution_count": 690,
     "metadata": {},
     "output_type": "execute_result"
    }
   ],
   "source": [
    "arr3d[0] = 42\n",
    "arr3d"
   ]
  },
  {
   "cell_type": "code",
   "execution_count": 692,
   "id": "3d342edb",
   "metadata": {},
   "outputs": [
    {
     "data": {
      "text/plain": [
       "array([[[ 1,  2,  3],\n",
       "        [ 4,  5,  6]],\n",
       "\n",
       "       [[ 7,  8,  9],\n",
       "        [10, 11, 12]]])"
      ]
     },
     "execution_count": 692,
     "metadata": {},
     "output_type": "execute_result"
    }
   ],
   "source": [
    "arr3d[0] = old_values\n",
    "arr3d"
   ]
  },
  {
   "cell_type": "code",
   "execution_count": 697,
   "id": "0f04a5a4",
   "metadata": {},
   "outputs": [
    {
     "data": {
      "text/plain": [
       "array([7, 8, 9])"
      ]
     },
     "execution_count": 697,
     "metadata": {},
     "output_type": "execute_result"
    }
   ],
   "source": [
    "# arr3d[1, 0] gives you all of the values whose indices start with (1, 0), forming a 1-dimensional array\n",
    "arr3d[1,0]"
   ]
  },
  {
   "cell_type": "code",
   "execution_count": 698,
   "id": "dc2c575f",
   "metadata": {},
   "outputs": [
    {
     "data": {
      "text/plain": [
       "array([7, 8, 9])"
      ]
     },
     "execution_count": 698,
     "metadata": {},
     "output_type": "execute_result"
    }
   ],
   "source": [
    "arr3d[1][0]"
   ]
  },
  {
   "cell_type": "markdown",
   "id": "bc7f924c",
   "metadata": {},
   "source": [
    "Indexing with slices\n"
   ]
  },
  {
   "cell_type": "code",
   "execution_count": 699,
   "id": "628cb72c",
   "metadata": {},
   "outputs": [
    {
     "data": {
      "text/plain": [
       "array([ 0,  1,  2,  3,  4, 66, 66, 66,  8,  9])"
      ]
     },
     "execution_count": 699,
     "metadata": {},
     "output_type": "execute_result"
    }
   ],
   "source": [
    "#Like one-dimensional objects such as Python lists, ndarrays can be sliced with the familiar syntax\n",
    "arr"
   ]
  },
  {
   "cell_type": "code",
   "execution_count": 700,
   "id": "2bdf634d",
   "metadata": {},
   "outputs": [
    {
     "data": {
      "text/plain": [
       "array([ 1,  2,  3,  4, 66])"
      ]
     },
     "execution_count": 700,
     "metadata": {},
     "output_type": "execute_result"
    }
   ],
   "source": [
    "arr[1:6]"
   ]
  },
  {
   "cell_type": "code",
   "execution_count": 701,
   "id": "cca340e3",
   "metadata": {},
   "outputs": [
    {
     "data": {
      "text/plain": [
       "array([[1, 2, 3],\n",
       "       [4, 5, 6],\n",
       "       [7, 8, 9]])"
      ]
     },
     "execution_count": 701,
     "metadata": {},
     "output_type": "execute_result"
    }
   ],
   "source": [
    "#Consider the two-dimensional array from before, arr2d. Slicing this array is a bit different\n",
    "arr2d"
   ]
  },
  {
   "cell_type": "code",
   "execution_count": 729,
   "id": "e9e5c215",
   "metadata": {},
   "outputs": [
    {
     "data": {
      "text/plain": [
       "array([[1, 2, 3],\n",
       "       [4, 5, 6]])"
      ]
     },
     "execution_count": 729,
     "metadata": {},
     "output_type": "execute_result"
    }
   ],
   "source": [
    "arr2d[:2]"
   ]
  },
  {
   "cell_type": "code",
   "execution_count": null,
   "id": "f4c87ca4",
   "metadata": {},
   "outputs": [],
   "source": [
    "# We can pass multiple slices just like you can pass multiple indexes"
   ]
  },
  {
   "cell_type": "code",
   "execution_count": 741,
   "id": "8e1c2427",
   "metadata": {},
   "outputs": [
    {
     "data": {
      "text/plain": [
       "array([[2, 3],\n",
       "       [5, 6]])"
      ]
     },
     "execution_count": 741,
     "metadata": {},
     "output_type": "execute_result"
    }
   ],
   "source": [
    "arr2d[:2, 1:]"
   ]
  },
  {
   "cell_type": "code",
   "execution_count": 753,
   "id": "9574cc9a",
   "metadata": {},
   "outputs": [
    {
     "data": {
      "text/plain": [
       "array([4, 5])"
      ]
     },
     "execution_count": 753,
     "metadata": {},
     "output_type": "execute_result"
    }
   ],
   "source": [
    "# By mixing integer indexes and slices, you get lower dimensional slices\n",
    "# I can select the second row but only the first two columns like so\n",
    "arr2d[1, :2]"
   ]
  },
  {
   "cell_type": "code",
   "execution_count": 755,
   "id": "f5ef1d1d",
   "metadata": {},
   "outputs": [
    {
     "data": {
      "text/plain": [
       "array([[3],\n",
       "       [6]])"
      ]
     },
     "execution_count": 755,
     "metadata": {},
     "output_type": "execute_result"
    }
   ],
   "source": [
    ", I can select the third column but only the first two rows like so\n",
    "arr2d[:2, 2:]"
   ]
  },
  {
   "cell_type": "code",
   "execution_count": 775,
   "id": "ff18dd82",
   "metadata": {},
   "outputs": [
    {
     "data": {
      "text/plain": [
       "array([[1],\n",
       "       [4],\n",
       "       [7]])"
      ]
     },
     "execution_count": 775,
     "metadata": {},
     "output_type": "execute_result"
    }
   ],
   "source": [
    "# A colon by itself means to take the entire axis, so you can slice only higher dimensional axes by doing\n",
    "arr2d[:, :1]"
   ]
  },
  {
   "cell_type": "code",
   "execution_count": 778,
   "id": "f0899279",
   "metadata": {},
   "outputs": [
    {
     "data": {
      "text/plain": [
       "array([[1, 0, 0],\n",
       "       [4, 0, 0],\n",
       "       [7, 8, 9]])"
      ]
     },
     "execution_count": 778,
     "metadata": {},
     "output_type": "execute_result"
    }
   ],
   "source": [
    "# assigning to a slice expression assigns to the whole selection\n",
    "arr2d[:2, 1:] = 0\n",
    "arr2d"
   ]
  },
  {
   "cell_type": "markdown",
   "id": "afacd8ee",
   "metadata": {},
   "source": [
    "#### Transposing Arrays and Swapping Axes\n"
   ]
  },
  {
   "cell_type": "markdown",
   "id": "96d71f45",
   "metadata": {},
   "source": [
    "Transposing is a special form of reshaping that similarly returns a view on the under‐\n",
    "lying data without copying anything. Arrays have the transpose method and also the\n",
    "special T attribute"
   ]
  },
  {
   "cell_type": "code",
   "execution_count": 786,
   "id": "245a93c9",
   "metadata": {},
   "outputs": [
    {
     "data": {
      "text/plain": [
       "array([[ 0,  1,  2,  3,  4],\n",
       "       [ 5,  6,  7,  8,  9],\n",
       "       [10, 11, 12, 13, 14]])"
      ]
     },
     "execution_count": 786,
     "metadata": {},
     "output_type": "execute_result"
    }
   ],
   "source": [
    "arr = np.arange(15).reshape((3,5))\n",
    "arr"
   ]
  },
  {
   "cell_type": "code",
   "execution_count": 788,
   "id": "6f051108",
   "metadata": {},
   "outputs": [
    {
     "data": {
      "text/plain": [
       "array([[ 0,  5, 10],\n",
       "       [ 1,  6, 11],\n",
       "       [ 2,  7, 12],\n",
       "       [ 3,  8, 13],\n",
       "       [ 4,  9, 14]])"
      ]
     },
     "execution_count": 788,
     "metadata": {},
     "output_type": "execute_result"
    }
   ],
   "source": [
    "arr.T"
   ]
  },
  {
   "cell_type": "markdown",
   "id": "cbdb75fd",
   "metadata": {},
   "source": [
    "When doing matrix computations, we may do this very often—for example, when\n",
    "computing the inner matrix product using np.dot"
   ]
  },
  {
   "cell_type": "code",
   "execution_count": 790,
   "id": "041a877d",
   "metadata": {},
   "outputs": [
    {
     "data": {
      "text/plain": [
       "array([[ 0.2513882 , -0.62837604, -1.14365496],\n",
       "       [-1.40883585, -2.56080106,  0.88833589],\n",
       "       [ 0.28292531,  1.26919245,  0.2132615 ],\n",
       "       [ 0.2703769 ,  1.20618323, -0.66370371],\n",
       "       [ 0.17659617,  0.2450555 ,  0.62723447],\n",
       "       [-0.35572495,  1.2717041 ,  0.17594318]])"
      ]
     },
     "execution_count": 790,
     "metadata": {},
     "output_type": "execute_result"
    }
   ],
   "source": [
    "arr = np.random.randn(6, 3)\n",
    "arr"
   ]
  },
  {
   "cell_type": "code",
   "execution_count": 791,
   "id": "e6f12309",
   "metadata": {},
   "outputs": [
    {
     "data": {
      "text/plain": [
       "(6, 3)"
      ]
     },
     "execution_count": 791,
     "metadata": {},
     "output_type": "execute_result"
    }
   ],
   "source": [
    "arr.shape"
   ]
  },
  {
   "cell_type": "code",
   "execution_count": 792,
   "id": "e89c23a0",
   "metadata": {},
   "outputs": [
    {
     "data": {
      "text/plain": [
       "(3, 6)"
      ]
     },
     "execution_count": 792,
     "metadata": {},
     "output_type": "execute_result"
    }
   ],
   "source": [
    "arr.T.shape"
   ]
  },
  {
   "cell_type": "code",
   "execution_count": 795,
   "id": "3c3717ab",
   "metadata": {},
   "outputs": [
    {
     "data": {
      "text/plain": [
       "array([[ 2.35889134,  3.72589177, -1.60995406],\n",
       "       [ 3.72589177, 11.69556949, -1.70862957],\n",
       "       [-1.60995406, -1.70862957,  3.00744948]])"
      ]
     },
     "execution_count": 795,
     "metadata": {},
     "output_type": "execute_result"
    }
   ],
   "source": [
    "np.dot(arr.T, arr)"
   ]
  },
  {
   "cell_type": "markdown",
   "id": "22ff7b59",
   "metadata": {},
   "source": [
    "Universal Functions: Fast Element-Wise Array\n",
    "Functions\n"
   ]
  },
  {
   "cell_type": "code",
   "execution_count": 823,
   "id": "877b3056",
   "metadata": {},
   "outputs": [
    {
     "data": {
      "text/plain": [
       "array([0, 1, 2, 3, 4, 5, 6, 7, 8, 9])"
      ]
     },
     "execution_count": 823,
     "metadata": {},
     "output_type": "execute_result"
    }
   ],
   "source": [
    "# A universal function, or ufunc, is a function that performs element-wise operations on data in ndarrays.\n",
    "arr = np.arange(10)\n",
    "arr"
   ]
  },
  {
   "cell_type": "code",
   "execution_count": 824,
   "id": "896fafb8",
   "metadata": {},
   "outputs": [
    {
     "data": {
      "text/plain": [
       "array([0.        , 1.        , 1.41421356, 1.73205081, 2.        ,\n",
       "       2.23606798, 2.44948974, 2.64575131, 2.82842712, 3.        ])"
      ]
     },
     "execution_count": 824,
     "metadata": {},
     "output_type": "execute_result"
    }
   ],
   "source": [
    "np.sqrt(arr)"
   ]
  },
  {
   "cell_type": "code",
   "execution_count": 825,
   "id": "e86b16e2",
   "metadata": {},
   "outputs": [
    {
     "data": {
      "text/plain": [
       "array([1.00000000e+00, 2.71828183e+00, 7.38905610e+00, 2.00855369e+01,\n",
       "       5.45981500e+01, 1.48413159e+02, 4.03428793e+02, 1.09663316e+03,\n",
       "       2.98095799e+03, 8.10308393e+03])"
      ]
     },
     "execution_count": 825,
     "metadata": {},
     "output_type": "execute_result"
    }
   ],
   "source": [
    "np.exp(arr)"
   ]
  },
  {
   "cell_type": "code",
   "execution_count": 826,
   "id": "7c5de131",
   "metadata": {},
   "outputs": [],
   "source": [
    "x = np.random.randn(8)\n",
    "y = np.random.randn(8)"
   ]
  },
  {
   "cell_type": "code",
   "execution_count": 831,
   "id": "820e8f60",
   "metadata": {},
   "outputs": [
    {
     "data": {
      "text/plain": [
       "array([-0.70746362, -0.63409305, -0.13368054, -1.3610901 , -1.30022534,\n",
       "        0.01004113, -1.05368742, -0.91878414])"
      ]
     },
     "execution_count": 831,
     "metadata": {},
     "output_type": "execute_result"
    }
   ],
   "source": [
    "x"
   ]
  },
  {
   "cell_type": "code",
   "execution_count": 838,
   "id": "77d05737",
   "metadata": {},
   "outputs": [
    {
     "data": {
      "text/plain": [
       "array([ 0.00852071,  1.01270555, -1.87120247,  0.85779193, -0.93330128,\n",
       "        0.26973425, -0.91206319, -0.87171282])"
      ]
     },
     "execution_count": 838,
     "metadata": {},
     "output_type": "execute_result"
    }
   ],
   "source": [
    "y"
   ]
  },
  {
   "cell_type": "code",
   "execution_count": 841,
   "id": "706eeb1d",
   "metadata": {},
   "outputs": [
    {
     "data": {
      "text/plain": [
       "array([ 0.00852071,  1.01270555, -0.13368054,  0.85779193, -0.93330128,\n",
       "        0.26973425, -0.91206319, -0.87171282])"
      ]
     },
     "execution_count": 841,
     "metadata": {},
     "output_type": "execute_result"
    }
   ],
   "source": [
    "np.maximum(x,y)"
   ]
  },
  {
   "cell_type": "markdown",
   "id": "d12415a8",
   "metadata": {},
   "source": [
    "Mathematical and Statistical Methods\n"
   ]
  },
  {
   "cell_type": "code",
   "execution_count": 845,
   "id": "933ba9cc",
   "metadata": {},
   "outputs": [
    {
     "data": {
      "text/plain": [
       "array([[-1.22953124, -2.69690397, -2.28717305],\n",
       "       [ 0.28321478,  0.80487385, -0.63143446],\n",
       "       [-0.26565433,  0.76640794, -0.34941098],\n",
       "       [ 0.69218827, -0.91758427, -0.69132444],\n",
       "       [-1.01201689, -0.2156499 , -0.01935525]])"
      ]
     },
     "execution_count": 845,
     "metadata": {},
     "output_type": "execute_result"
    }
   ],
   "source": [
    "# Here I generate some normally distributed random data and compute some aggregate statistics\n",
    "arr = np.random.randn(5,3)\n",
    "arr"
   ]
  },
  {
   "cell_type": "code",
   "execution_count": 848,
   "id": "e377ad55",
   "metadata": {},
   "outputs": [
    {
     "data": {
      "text/plain": [
       "-0.5179569286801139"
      ]
     },
     "execution_count": 848,
     "metadata": {},
     "output_type": "execute_result"
    }
   ],
   "source": [
    "arr.mean()"
   ]
  },
  {
   "cell_type": "code",
   "execution_count": 849,
   "id": "3caaa517",
   "metadata": {},
   "outputs": [
    {
     "data": {
      "text/plain": [
       "-0.5179569286801139"
      ]
     },
     "execution_count": 849,
     "metadata": {},
     "output_type": "execute_result"
    }
   ],
   "source": [
    "np.mean(arr)"
   ]
  },
  {
   "cell_type": "code",
   "execution_count": 850,
   "id": "441824ac",
   "metadata": {},
   "outputs": [
    {
     "data": {
      "text/plain": [
       "-7.769353930201709"
      ]
     },
     "execution_count": 850,
     "metadata": {},
     "output_type": "execute_result"
    }
   ],
   "source": [
    "arr.sum()"
   ]
  },
  {
   "cell_type": "code",
   "execution_count": 851,
   "id": "76494a0a",
   "metadata": {},
   "outputs": [
    {
     "data": {
      "text/plain": [
       "array([-2.07120275,  0.15221806,  0.05044754, -0.30557348, -0.41567401])"
      ]
     },
     "execution_count": 851,
     "metadata": {},
     "output_type": "execute_result"
    }
   ],
   "source": [
    "# Functions like mean and sum take an optional axis argument that computes the statis‐tic over the given axis\n",
    "arr.mean(axis=1)"
   ]
  },
  {
   "cell_type": "code",
   "execution_count": 852,
   "id": "06e9624b",
   "metadata": {},
   "outputs": [
    {
     "data": {
      "text/plain": [
       "array([-1.5317994 , -2.25885635, -3.97869818])"
      ]
     },
     "execution_count": 852,
     "metadata": {},
     "output_type": "execute_result"
    }
   ],
   "source": [
    "arr.sum(axis=0)"
   ]
  },
  {
   "cell_type": "markdown",
   "id": "cd0f3bb4",
   "metadata": {},
   "source": [
    "Here, arr.mean(1) means “compute mean across the columns” where arr.sum(0)\n",
    "means “compute sum down the rows.”\n"
   ]
  },
  {
   "cell_type": "code",
   "execution_count": 883,
   "id": "f7e78d52",
   "metadata": {},
   "outputs": [
    {
     "data": {
      "text/plain": [
       "array([ 0,  1,  3,  6, 10, 15, 21, 28], dtype=int32)"
      ]
     },
     "execution_count": 883,
     "metadata": {},
     "output_type": "execute_result"
    }
   ],
   "source": [
    "arr = np.array([0,1,2,3,4,5,6,7])\n",
    "arr.cumsum()"
   ]
  },
  {
   "cell_type": "markdown",
   "id": "a087d00e",
   "metadata": {},
   "source": [
    "Sorting"
   ]
  },
  {
   "cell_type": "code",
   "execution_count": 885,
   "id": "92b1c1dd",
   "metadata": {},
   "outputs": [
    {
     "data": {
      "text/plain": [
       "array([-0.46640699,  1.35298762,  1.73627223,  0.15845135, -0.08080524,\n",
       "       -0.36337495])"
      ]
     },
     "execution_count": 885,
     "metadata": {},
     "output_type": "execute_result"
    }
   ],
   "source": [
    "arr = np.random.randn(6)\n",
    "arr"
   ]
  },
  {
   "cell_type": "code",
   "execution_count": 888,
   "id": "7e0e05f8",
   "metadata": {},
   "outputs": [
    {
     "data": {
      "text/plain": [
       "array([-0.46640699, -0.36337495, -0.08080524,  0.15845135,  1.35298762,\n",
       "        1.73627223])"
      ]
     },
     "execution_count": 888,
     "metadata": {},
     "output_type": "execute_result"
    }
   ],
   "source": [
    "arr.sort()\n",
    "arr"
   ]
  },
  {
   "cell_type": "markdown",
   "id": "72060a51",
   "metadata": {},
   "source": [
    "We can sort each one-dimensional section of values in a multidimensional array inplace along an axis by passing the axis number to sort:"
   ]
  },
  {
   "cell_type": "code",
   "execution_count": 889,
   "id": "45fe3260",
   "metadata": {},
   "outputs": [
    {
     "data": {
      "text/plain": [
       "array([[-0.19121804,  1.61115322, -0.5416413 ],\n",
       "       [-1.17096857,  0.42248754, -0.73910971],\n",
       "       [ 1.33971843,  0.67446905,  0.63638934],\n",
       "       [ 1.29883749,  0.66926649,  1.40051026],\n",
       "       [ 1.24630695,  0.53883581, -0.64360128]])"
      ]
     },
     "execution_count": 889,
     "metadata": {},
     "output_type": "execute_result"
    }
   ],
   "source": [
    "arr = np.random.randn(5,3)\n",
    "arr"
   ]
  },
  {
   "cell_type": "code",
   "execution_count": 891,
   "id": "1bf2a896",
   "metadata": {},
   "outputs": [
    {
     "data": {
      "text/plain": [
       "array([[-0.5416413 , -0.19121804,  1.61115322],\n",
       "       [-1.17096857, -0.73910971,  0.42248754],\n",
       "       [ 0.63638934,  0.67446905,  1.33971843],\n",
       "       [ 0.66926649,  1.29883749,  1.40051026],\n",
       "       [-0.64360128,  0.53883581,  1.24630695]])"
      ]
     },
     "execution_count": 891,
     "metadata": {},
     "output_type": "execute_result"
    }
   ],
   "source": [
    "arr.sort(1)\n",
    "arr"
   ]
  },
  {
   "cell_type": "code",
   "execution_count": 892,
   "id": "9e1724ea",
   "metadata": {},
   "outputs": [],
   "source": [
    "# A quick-and-dirty way to compute the quantiles of an array is to sort it and select the value at a particular rank\n",
    "large_arr = np.random.randn(1000)\n",
    "large_arr.sort()"
   ]
  },
  {
   "cell_type": "code",
   "execution_count": 896,
   "id": "773eb368",
   "metadata": {},
   "outputs": [
    {
     "data": {
      "text/plain": [
       "-1.5759345937598173"
      ]
     },
     "execution_count": 896,
     "metadata": {},
     "output_type": "execute_result"
    }
   ],
   "source": [
    "large_arr[int(0.05 * len(large_arr))] # 5% quantile"
   ]
  },
  {
   "cell_type": "code",
   "execution_count": 897,
   "id": "edf483a2",
   "metadata": {},
   "outputs": [
    {
     "data": {
      "text/plain": [
       "1000"
      ]
     },
     "execution_count": 897,
     "metadata": {},
     "output_type": "execute_result"
    }
   ],
   "source": [
    "len(large_arr)"
   ]
  },
  {
   "cell_type": "code",
   "execution_count": 900,
   "id": "0c65c854",
   "metadata": {},
   "outputs": [
    {
     "data": {
      "text/plain": [
       "50.0"
      ]
     },
     "execution_count": 900,
     "metadata": {},
     "output_type": "execute_result"
    }
   ],
   "source": [
    "1000*0.05"
   ]
  },
  {
   "cell_type": "markdown",
   "id": "f0b44b48",
   "metadata": {},
   "source": [
    "Unique and Other Set Logic"
   ]
  },
  {
   "cell_type": "code",
   "execution_count": 901,
   "id": "e6b0f909",
   "metadata": {},
   "outputs": [
    {
     "data": {
      "text/plain": [
       "array(['bob', 'joe', 'will'], dtype='<U4')"
      ]
     },
     "execution_count": 901,
     "metadata": {},
     "output_type": "execute_result"
    }
   ],
   "source": [
    "names = np.array(['bob', 'joe', 'will', 'bob', 'will', 'joe', 'joe'])\n",
    "np.unique(names)"
   ]
  },
  {
   "cell_type": "code",
   "execution_count": 902,
   "id": "cbd1e4a0",
   "metadata": {},
   "outputs": [
    {
     "data": {
      "text/plain": [
       "array([1, 2, 3, 4])"
      ]
     },
     "execution_count": 902,
     "metadata": {},
     "output_type": "execute_result"
    }
   ],
   "source": [
    "ints = np.array([3,3,3,2,2,1,1,4,4])\n",
    "np.unique(ints)"
   ]
  },
  {
   "cell_type": "code",
   "execution_count": 903,
   "id": "15a18d5c",
   "metadata": {},
   "outputs": [
    {
     "data": {
      "text/plain": [
       "['bob', 'joe', 'will']"
      ]
     },
     "execution_count": 903,
     "metadata": {},
     "output_type": "execute_result"
    }
   ],
   "source": [
    "# Contrast np.unique with the pure Python alternative\n",
    "sorted(set(names))"
   ]
  },
  {
   "cell_type": "code",
   "execution_count": 904,
   "id": "11a2c31b",
   "metadata": {},
   "outputs": [
    {
     "data": {
      "text/plain": [
       "array([ True, False, False,  True,  True, False,  True])"
      ]
     },
     "execution_count": 904,
     "metadata": {},
     "output_type": "execute_result"
    }
   ],
   "source": [
    "values = np.array([6,0,0,3,2,5,6])\n",
    "np.in1d(values, [2,3,6])"
   ]
  },
  {
   "cell_type": "markdown",
   "id": "720bdd08",
   "metadata": {},
   "source": [
    "####  Linear Algebra"
   ]
  },
  {
   "cell_type": "code",
   "execution_count": 906,
   "id": "98b9710d",
   "metadata": {},
   "outputs": [],
   "source": [
    "x = np.array([[1,2,3], [4,5,6]])\n",
    "y = np.array([[6, 23], [-1, 7], [8, 9]])"
   ]
  },
  {
   "cell_type": "code",
   "execution_count": 907,
   "id": "b842f37f",
   "metadata": {},
   "outputs": [
    {
     "data": {
      "text/plain": [
       "array([[1, 2, 3],\n",
       "       [4, 5, 6]])"
      ]
     },
     "execution_count": 907,
     "metadata": {},
     "output_type": "execute_result"
    }
   ],
   "source": [
    "x"
   ]
  },
  {
   "cell_type": "code",
   "execution_count": 908,
   "id": "7faf0b1c",
   "metadata": {},
   "outputs": [
    {
     "data": {
      "text/plain": [
       "array([[ 6, 23],\n",
       "       [-1,  7],\n",
       "       [ 8,  9]])"
      ]
     },
     "execution_count": 908,
     "metadata": {},
     "output_type": "execute_result"
    }
   ],
   "source": [
    "y"
   ]
  },
  {
   "cell_type": "code",
   "execution_count": 909,
   "id": "be607e10",
   "metadata": {},
   "outputs": [
    {
     "data": {
      "text/plain": [
       "array([[ 28,  64],\n",
       "       [ 67, 181]])"
      ]
     },
     "execution_count": 909,
     "metadata": {},
     "output_type": "execute_result"
    }
   ],
   "source": [
    "x.dot(y)"
   ]
  },
  {
   "cell_type": "code",
   "execution_count": 910,
   "id": "8324919e",
   "metadata": {},
   "outputs": [
    {
     "data": {
      "text/plain": [
       "array([[ 28,  64],\n",
       "       [ 67, 181]])"
      ]
     },
     "execution_count": 910,
     "metadata": {},
     "output_type": "execute_result"
    }
   ],
   "source": [
    "# x.dot(y) is equivalent to np.dot(x, y):\n",
    "np.dot(x, y)"
   ]
  },
  {
   "cell_type": "code",
   "execution_count": 911,
   "id": "6719ea10",
   "metadata": {},
   "outputs": [
    {
     "data": {
      "text/plain": [
       "array([1., 1., 1.])"
      ]
     },
     "execution_count": 911,
     "metadata": {},
     "output_type": "execute_result"
    }
   ],
   "source": [
    "# A matrix product between a two-dimensional array and a suitably sized onedimensional array results in a one-dimensional array"
   ]
  },
  {
   "cell_type": "code",
   "execution_count": 913,
   "id": "bf82afc0",
   "metadata": {},
   "outputs": [
    {
     "data": {
      "text/plain": [
       "array([1., 1., 1.])"
      ]
     },
     "execution_count": 913,
     "metadata": {},
     "output_type": "execute_result"
    }
   ],
   "source": [
    "np.ones(3)"
   ]
  },
  {
   "cell_type": "code",
   "execution_count": 914,
   "id": "4bde2cc0",
   "metadata": {},
   "outputs": [
    {
     "data": {
      "text/plain": [
       "array([ 6., 15.])"
      ]
     },
     "execution_count": 914,
     "metadata": {},
     "output_type": "execute_result"
    }
   ],
   "source": [
    "np.dot(x, np.ones(3))"
   ]
  },
  {
   "cell_type": "code",
   "execution_count": 915,
   "id": "6213f369",
   "metadata": {},
   "outputs": [],
   "source": [
    "# numpy.linalg has a standard set of matrix decompositions and things like inverse  and determinant\n",
    "from numpy.linalg import inv, qr"
   ]
  },
  {
   "cell_type": "code",
   "execution_count": 917,
   "id": "6e7c7801",
   "metadata": {},
   "outputs": [
    {
     "data": {
      "text/plain": [
       "array([[ 2.86574203,  1.49125598,  1.06682384, -0.29882696, -0.74251709],\n",
       "       [-2.18457952,  0.46729306, -0.15637148,  0.08999283,  0.08987721],\n",
       "       [-1.13571713,  0.39636358,  0.0844233 , -0.26469333,  1.04404127],\n",
       "       [ 0.87077093,  0.42826156, -0.26906162, -0.85756406, -1.96405323],\n",
       "       [ 1.95685484,  0.43561357,  0.93264259, -0.54700747, -0.54679038]])"
      ]
     },
     "execution_count": 917,
     "metadata": {},
     "output_type": "execute_result"
    }
   ],
   "source": [
    "X = np.random.randn(5,5)\n",
    "X"
   ]
  },
  {
   "cell_type": "code",
   "execution_count": 920,
   "id": "3516dec0",
   "metadata": {},
   "outputs": [],
   "source": [
    "mat = X.T.dot(X)"
   ]
  },
  {
   "cell_type": "code",
   "execution_count": null,
   "id": "009dfd2f",
   "metadata": {},
   "outputs": [],
   "source": []
  },
  {
   "cell_type": "code",
   "execution_count": null,
   "id": "d32ab7ad",
   "metadata": {},
   "outputs": [],
   "source": []
  },
  {
   "cell_type": "code",
   "execution_count": null,
   "id": "27f5bb4b",
   "metadata": {},
   "outputs": [],
   "source": []
  },
  {
   "cell_type": "code",
   "execution_count": null,
   "id": "44fba322",
   "metadata": {},
   "outputs": [],
   "source": []
  },
  {
   "cell_type": "code",
   "execution_count": null,
   "id": "c9fd4d1f",
   "metadata": {},
   "outputs": [],
   "source": []
  },
  {
   "cell_type": "code",
   "execution_count": null,
   "id": "4edd51f7",
   "metadata": {},
   "outputs": [],
   "source": []
  },
  {
   "cell_type": "code",
   "execution_count": null,
   "id": "b4e32e04",
   "metadata": {},
   "outputs": [],
   "source": []
  },
  {
   "cell_type": "code",
   "execution_count": null,
   "id": "dbc3efbb",
   "metadata": {},
   "outputs": [],
   "source": []
  },
  {
   "cell_type": "code",
   "execution_count": null,
   "id": "b3c38aaf",
   "metadata": {},
   "outputs": [],
   "source": []
  }
 ],
 "metadata": {
  "kernelspec": {
   "display_name": "Python 3",
   "language": "python",
   "name": "python3"
  },
  "language_info": {
   "codemirror_mode": {
    "name": "ipython",
    "version": 3
   },
   "file_extension": ".py",
   "mimetype": "text/x-python",
   "name": "python",
   "nbconvert_exporter": "python",
   "pygments_lexer": "ipython3",
   "version": "3.8.8"
  }
 },
 "nbformat": 4,
 "nbformat_minor": 5
}
