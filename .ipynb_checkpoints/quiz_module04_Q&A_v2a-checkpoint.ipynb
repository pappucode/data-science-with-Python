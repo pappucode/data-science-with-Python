{
 "cells": [
  {
   "cell_type": "markdown",
   "metadata": {},
   "source": [
    "# Module 4 Quiz"
   ]
  },
  {
   "cell_type": "raw",
   "metadata": {},
   "source": [
    "# Q1: Which keyword is used to represent missing data in Pandas?"
   ]
  },
  {
   "cell_type": "raw",
   "metadata": {},
   "source": [
    "Null\n",
    "\n",
    "Nan\n",
    "\n",
    "NaN\n",
    "\n",
    "None"
   ]
  },
  {
   "cell_type": "raw",
   "metadata": {},
   "source": [
    "# Q2: Which pair of methods is used to identify missing data in Pandas series or dataframe? "
   ]
  },
  {
   "cell_type": "raw",
   "metadata": {},
   "source": [
    "anynan(), nonan()\n",
    "\n",
    "isnone(), isnull()\n",
    "\n",
    "isnan(), isna()\n",
    "\n",
    "isna(), isnull()"
   ]
  },
  {
   "cell_type": "raw",
   "metadata": {},
   "source": [
    "# Q3: What method is used to remove missing data in Pandas series or dataframe? "
   ]
  },
  {
   "cell_type": "raw",
   "metadata": {},
   "source": [
    "dropna()\n",
    "\n",
    "fillna()\n",
    "\n",
    "dropnull()\n",
    "\n",
    "fillnull()"
   ]
  },
  {
   "cell_type": "raw",
   "metadata": {},
   "source": [
    "# Q4: What method is used to impute missing data in Pandas series or dataframe? "
   ]
  },
  {
   "cell_type": "raw",
   "metadata": {},
   "source": [
    "dropna()\n",
    "\n",
    "fillna()\n",
    "\n",
    "dropnull()\n",
    "\n",
    "imputer()"
   ]
  },
  {
   "cell_type": "raw",
   "metadata": {},
   "source": [
    "# Q5: What method can change -999. to 0. in the  following series? \n",
    "\n",
    "data = pd.Series([1., -999., 2., -999., -10., 3.])"
   ]
  },
  {
   "cell_type": "raw",
   "metadata": {},
   "source": [
    "fillna()\n",
    "\n",
    "map()\n",
    "\n",
    "imputer()\n",
    "\n",
    "replace()"
   ]
  },
  {
   "cell_type": "raw",
   "metadata": {},
   "source": [
    "# Q6: Pandas iloc() method is more flexibale than take() method?"
   ]
  },
  {
   "cell_type": "raw",
   "metadata": {},
   "source": [
    "True\n",
    "\n",
    "False"
   ]
  },
  {
   "cell_type": "raw",
   "metadata": {},
   "source": [
    "# Q7: What does pd.cut() method do?"
   ]
  },
  {
   "cell_type": "raw",
   "metadata": {},
   "source": [
    "Convert continuous data values into imaginary numbers\n",
    "\n",
    "Attach labels to continuous data\n",
    "\n",
    "Impute missing  values  \n",
    "\n",
    "Segment and sort continuous data values into discrete bins"
   ]
  },
  {
   "cell_type": "raw",
   "metadata": {},
   "source": [
    "# Q8: What does pd.get_dummies() method do?"
   ]
  },
  {
   "cell_type": "raw",
   "metadata": {},
   "source": [
    "Convert a categorical data into another type of categorical data\n",
    "\n",
    "Convert a categorical data into numeric data\n",
    "\n",
    "Convert a numeric datainto categorical data \n",
    "\n",
    "None of the above"
   ]
  },
  {
   "cell_type": "raw",
   "metadata": {},
   "source": [
    "# Q9: pd.cut() and pd.get_dummies() are used for complementary data transformations."
   ]
  },
  {
   "cell_type": "raw",
   "metadata": {},
   "source": [
    "True\n",
    "\n",
    "False"
   ]
  },
  {
   "cell_type": "raw",
   "metadata": {},
   "source": [
    "# Q10: The map() method can be applied to a Pandas series if the values are string.   "
   ]
  },
  {
   "cell_type": "raw",
   "metadata": {},
   "source": [
    "True\n",
    "\n",
    "False"
   ]
  },
  {
   "cell_type": "raw",
   "metadata": {},
   "source": [
    "# Q11: The stack() method converts a dataframe into a multi-indexed series.   "
   ]
  },
  {
   "cell_type": "raw",
   "metadata": {},
   "source": [
    "True\n",
    "\n",
    "False"
   ]
  },
  {
   "cell_type": "raw",
   "metadata": {},
   "source": [
    "# Q12: The unstack() method converts a multi-indexed series into a dataframe.   "
   ]
  },
  {
   "cell_type": "raw",
   "metadata": {},
   "source": [
    "True\n",
    "\n",
    "False"
   ]
  },
  {
   "cell_type": "raw",
   "metadata": {},
   "source": [
    "# Q13: The swaplevel() method re-arrage the ordering of the indices of a multi-indexed dataframe."
   ]
  },
  {
   "cell_type": "raw",
   "metadata": {},
   "source": [
    "True\n",
    "\n",
    "False"
   ]
  },
  {
   "cell_type": "raw",
   "metadata": {},
   "source": [
    "# Q14: The reset_index() method creates a new DataFrame using one or more columns of the old dataframe as the index."
   ]
  },
  {
   "cell_type": "raw",
   "metadata": {},
   "source": [
    "True\n",
    "\n",
    "False"
   ]
  },
  {
   "cell_type": "raw",
   "metadata": {},
   "source": [
    "# Q15: The set_index() method creates a new DataFrame using one or more columns of the old dataframe as the index."
   ]
  },
  {
   "cell_type": "raw",
   "metadata": {},
   "source": [
    "True\n",
    "\n",
    "False"
   ]
  },
  {
   "cell_type": "raw",
   "metadata": {},
   "source": [
    "# Q16: Which method provides the summary statistics of a series or a dataframe?   "
   ]
  },
  {
   "cell_type": "raw",
   "metadata": {},
   "source": [
    "count()\n",
    "\n",
    "sum()\n",
    "\n",
    "mean()\n",
    "\n",
    "describe()"
   ]
  },
  {
   "cell_type": "raw",
   "metadata": {},
   "source": [
    "# Q17: pandas.merge() combines two series by rows using common keys."
   ]
  },
  {
   "cell_type": "raw",
   "metadata": {},
   "source": [
    "True\n",
    "\n",
    "False"
   ]
  },
  {
   "cell_type": "raw",
   "metadata": {},
   "source": [
    "# Q18: pandas.merge() combines two named series by rows using common keys."
   ]
  },
  {
   "cell_type": "raw",
   "metadata": {},
   "source": [
    "True\n",
    "\n",
    "False"
   ]
  },
  {
   "cell_type": "raw",
   "metadata": {},
   "source": [
    "# Q19: How many differnt join types does Pandas offer?"
   ]
  },
  {
   "cell_type": "raw",
   "metadata": {},
   "source": [
    "5\n",
    "\n",
    "2\n",
    "\n",
    "4\n",
    "\n",
    "6"
   ]
  },
  {
   "cell_type": "raw",
   "metadata": {},
   "source": [
    "# Q20: pandas.concat() combines two or more series along either axis=0 or axis=1. "
   ]
  },
  {
   "cell_type": "raw",
   "metadata": {},
   "source": [
    "True\n",
    "\n",
    "False"
   ]
  }
 ],
 "metadata": {
  "kernelspec": {
   "display_name": "Python 3",
   "language": "python",
   "name": "python3"
  },
  "language_info": {
   "codemirror_mode": {
    "name": "ipython",
    "version": 3
   },
   "file_extension": ".py",
   "mimetype": "text/x-python",
   "name": "python",
   "nbconvert_exporter": "python",
   "pygments_lexer": "ipython3",
   "version": "3.8.8"
  }
 },
 "nbformat": 4,
 "nbformat_minor": 4
}
