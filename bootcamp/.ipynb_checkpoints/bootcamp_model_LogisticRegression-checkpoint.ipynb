{
 "cells": [
  {
   "cell_type": "markdown",
   "metadata": {},
   "source": [
    "# Model : Classification Model using Titanic Data  \n",
    "\n",
    "#### Build Logistic Regression Model to Predict the Survival of a Titanic Passenger"
   ]
  },
  {
   "cell_type": "markdown",
   "metadata": {},
   "source": [
    "Knowing all attributes of a passenger, can we predict whether the passenger will survive?"
   ]
  },
  {
   "cell_type": "markdown",
   "metadata": {},
   "source": [
    "## Overview\n",
    "\n",
    "####  Part 1: Build Logistic Regression Classification Model\n",
    "\n",
    "Read the cleaned Titanic dataset\n",
    "\n",
    "Split data into train, validation, test \n",
    "\n",
    "Build classification model using SKLearn API and using default parameters\n",
    "\n",
    "Model performance on validation data \n",
    "\n",
    "Model performance on test data\n",
    "\n",
    "Plot performance metrics\n",
    "\n",
    "\n",
    "#### Part 2: Perform Cross Validation\n",
    "\n",
    "#### Part 3: Perform Probability Calibration "
   ]
  },
  {
   "cell_type": "markdown",
   "metadata": {},
   "source": [
    "## Special Note\n",
    "\n",
    "For ML model building, we are using. scikit-learn API. \n",
    "\n",
    "The classification algorithms in sklean use the following convention about the class labels of the data:\n",
    "\n",
    "Negative Class : 0\n",
    "\n",
    "Positive Class : 1"
   ]
  },
  {
   "cell_type": "markdown",
   "metadata": {},
   "source": [
    "-------------------------"
   ]
  },
  {
   "cell_type": "markdown",
   "metadata": {},
   "source": [
    "## Load Python Modules"
   ]
  },
  {
   "cell_type": "code",
   "execution_count": 1,
   "metadata": {},
   "outputs": [],
   "source": [
    "import pandas as pd\n",
    "import numpy as np"
   ]
  },
  {
   "cell_type": "code",
   "execution_count": 2,
   "metadata": {},
   "outputs": [],
   "source": [
    "import matplotlib.pyplot as plt\n",
    "from matplotlib.gridspec import GridSpec\n",
    "import seaborn as sns"
   ]
  },
  {
   "cell_type": "code",
   "execution_count": 3,
   "metadata": {},
   "outputs": [],
   "source": [
    "from sklearn import preprocessing \n",
    "from sklearn.model_selection import train_test_split"
   ]
  },
  {
   "cell_type": "code",
   "execution_count": 4,
   "metadata": {},
   "outputs": [],
   "source": [
    "from sklearn.linear_model import LogisticRegression "
   ]
  },
  {
   "cell_type": "markdown",
   "metadata": {},
   "source": [
    "## Part 1 : Build Logistic Regression Model"
   ]
  },
  {
   "cell_type": "markdown",
   "metadata": {},
   "source": [
    "### 1.1 : Read Data"
   ]
  },
  {
   "cell_type": "code",
   "execution_count": 5,
   "metadata": {},
   "outputs": [
    {
     "name": "stdout",
     "output_type": "stream",
     "text": [
      "importing Jupyter notebook from bootcamp_data_processing.ipynb\n",
      "334\n"
     ]
    }
   ],
   "source": [
    "\"\"\"Import Jupyter Notebook\"\"\"\n",
    "\n",
    "import import_ipynb\n",
    "import bootcamp_data_processing as bdp"
   ]
  },
  {
   "cell_type": "markdown",
   "metadata": {},
   "source": [
    "Get the pre-processed data"
   ]
  },
  {
   "cell_type": "code",
   "execution_count": 6,
   "metadata": {},
   "outputs": [],
   "source": [
    "train_df, test_df = bdp.train_test_ordinal\n",
    "# train_df, test_df = bdp.train_test_onehot"
   ]
  },
  {
   "cell_type": "code",
   "execution_count": 7,
   "metadata": {},
   "outputs": [
    {
     "data": {
      "text/plain": [
       "(982, 17)"
      ]
     },
     "execution_count": 7,
     "metadata": {},
     "output_type": "execute_result"
    }
   ],
   "source": [
    "train_df.shape"
   ]
  },
  {
   "cell_type": "code",
   "execution_count": 8,
   "metadata": {},
   "outputs": [
    {
     "data": {
      "text/plain": [
       "(327, 17)"
      ]
     },
     "execution_count": 8,
     "metadata": {},
     "output_type": "execute_result"
    }
   ],
   "source": [
    "test_df.shape"
   ]
  },
  {
   "cell_type": "markdown",
   "metadata": {},
   "source": [
    "Ignore this cell for the first run. We will come back to this cell later on"
   ]
  },
  {
   "cell_type": "code",
   "execution_count": 9,
   "metadata": {},
   "outputs": [],
   "source": [
    "# train_df.drop(columns=['Boat'], inplace=True)\n",
    "# test_df.drop(columns=['Boat'], inplace=True)"
   ]
  },
  {
   "cell_type": "markdown",
   "metadata": {},
   "source": [
    "#### Create preditors (X) and response (y) to be used as model inputs"
   ]
  },
  {
   "cell_type": "code",
   "execution_count": 10,
   "metadata": {},
   "outputs": [],
   "source": [
    "X = train_df.drop(columns=['Survived'], axis=1)\n",
    "y = train_df.Survived"
   ]
  },
  {
   "cell_type": "markdown",
   "metadata": {},
   "source": [
    "### 1.2 : Split Data"
   ]
  },
  {
   "cell_type": "markdown",
   "metadata": {},
   "source": [
    "Set the seed to a specific integer "
   ]
  },
  {
   "cell_type": "code",
   "execution_count": 11,
   "metadata": {},
   "outputs": [],
   "source": [
    "rand_seed = 42"
   ]
  },
  {
   "cell_type": "markdown",
   "metadata": {},
   "source": [
    "Split training dataset in to train and validation data sets"
   ]
  },
  {
   "cell_type": "code",
   "execution_count": 12,
   "metadata": {},
   "outputs": [],
   "source": [
    "X_train, X_valid, y_train, y_valid = train_test_split(X, y, train_size=0.90, random_state=rand_seed)"
   ]
  },
  {
   "cell_type": "code",
   "execution_count": 13,
   "metadata": {},
   "outputs": [
    {
     "name": "stdout",
     "output_type": "stream",
     "text": [
      "shape of the train data: (883, 16)\n",
      "shape of the valid data: (99, 16)\n"
     ]
    }
   ],
   "source": [
    "print(f'shape of the train data: {X_train.shape}')\n",
    "print(f'shape of the valid data: {X_valid.shape}')"
   ]
  },
  {
   "cell_type": "markdown",
   "metadata": {},
   "source": [
    "Format test data set"
   ]
  },
  {
   "cell_type": "code",
   "execution_count": 14,
   "metadata": {},
   "outputs": [
    {
     "name": "stdout",
     "output_type": "stream",
     "text": [
      "shape of the test data : (327, 16)\n"
     ]
    }
   ],
   "source": [
    "X_test = test_df.drop('Survived', axis=1)\n",
    "y_test = test_df.Survived\n",
    "print(f'shape of the test data : {X_test.shape}')"
   ]
  },
  {
   "cell_type": "markdown",
   "metadata": {},
   "source": [
    "### 1.3 : Scale the Data"
   ]
  },
  {
   "cell_type": "code",
   "execution_count": 15,
   "metadata": {},
   "outputs": [],
   "source": [
    "from sklearn.preprocessing import MinMaxScaler, Normalizer, StandardScaler"
   ]
  },
  {
   "cell_type": "code",
   "execution_count": 16,
   "metadata": {},
   "outputs": [],
   "source": [
    "scalar  = MinMaxScaler()\n",
    "X_train = scalar.fit_transform(X_train)\n",
    "X_valid = scalar.fit_transform(X_valid)\n",
    "X_test  = scalar.fit_transform(X_test)"
   ]
  },
  {
   "cell_type": "markdown",
   "metadata": {},
   "source": [
    "### 1.4 : Train Model"
   ]
  },
  {
   "cell_type": "markdown",
   "metadata": {},
   "source": [
    "#### 1.4.1 : Setting Weight to the Data"
   ]
  },
  {
   "cell_type": "code",
   "execution_count": 17,
   "metadata": {},
   "outputs": [],
   "source": [
    "# sample_weight = np.random.rand(X_train.shape[0], )"
   ]
  },
  {
   "cell_type": "markdown",
   "metadata": {},
   "source": [
    "#### 1.4.2 : Logistic Regression Model "
   ]
  },
  {
   "cell_type": "markdown",
   "metadata": {},
   "source": [
    "Logistic Rergression Parameter List:\n",
    "\n",
    "https://scikit-learn.org/stable/modules/generated/sklearn.linear_model.LogisticRegression.html"
   ]
  },
  {
   "cell_type": "markdown",
   "metadata": {},
   "source": [
    "#### 1.4.3 : Define model\n",
    "\n",
    "We can define a modelin two different ways:\n",
    "\n",
    "1. Create a parameter dictionary and insert the  dictionary inside the model object\n",
    "2. Build the model bydirectly using parameters "
   ]
  },
  {
   "cell_type": "code",
   "execution_count": 18,
   "metadata": {},
   "outputs": [],
   "source": [
    "# param_grid = {\n",
    "#     'penalty' : 'l2', \n",
    "#     'dual' : False, \n",
    "#     'tol' : 0.0001, \n",
    "#     'C' : 1.0, \n",
    "#     'fit_intercept' : True, \n",
    "#     'intercept_scaling' : 1, \n",
    "#     'class_weight' : None, \n",
    "#     'random_state' : None, \n",
    "#     'solver' : 'lbfgs', \n",
    "#     'max_iter' : 100, \n",
    "#     'multi_class' : 'auto', \n",
    "#     'verbose' : 0, \n",
    "#     'warm_start' : False, \n",
    "#     'n_jobs' : None, \n",
    "#     'l1_ratio' : None\n",
    "# }\n",
    "\n",
    "# model = LogisticRegression()\n",
    "# model.set_params( **param_grid )"
   ]
  },
  {
   "cell_type": "code",
   "execution_count": 19,
   "metadata": {},
   "outputs": [],
   "source": [
    "model = LogisticRegression(\n",
    "    penalty='l2', \n",
    "    dual=False, \n",
    "    tol=0.0001, \n",
    "    C=1.0, \n",
    "    fit_intercept=True, \n",
    "    intercept_scaling=1, \n",
    "    class_weight=None, \n",
    "    random_state=42, \n",
    "    solver='lbfgs', \n",
    "    max_iter=100, \n",
    "    multi_class='auto', \n",
    "    verbose=0, \n",
    "    warm_start=False, \n",
    "    n_jobs=2, \n",
    "    l1_ratio=None\n",
    ")"
   ]
  },
  {
   "cell_type": "code",
   "execution_count": 20,
   "metadata": {},
   "outputs": [],
   "source": [
    "# model.get_params()"
   ]
  },
  {
   "cell_type": "markdown",
   "metadata": {},
   "source": [
    "#### 1.4.4 : Fit the Model"
   ]
  },
  {
   "cell_type": "code",
   "execution_count": 21,
   "metadata": {},
   "outputs": [],
   "source": [
    "fit = model.fit(\n",
    "    X_train, y_train,\n",
    "    sample_weight=None\n",
    ")"
   ]
  },
  {
   "cell_type": "code",
   "execution_count": 22,
   "metadata": {},
   "outputs": [
    {
     "name": "stdout",
     "output_type": "stream",
     "text": [
      "class label's order in predict_proba: [0 1]\n"
     ]
    }
   ],
   "source": [
    "print(\"class label's order in predict_proba:\", model.classes_)"
   ]
  },
  {
   "cell_type": "markdown",
   "metadata": {},
   "source": [
    "### 1.5 : Model Performance on Validation Dataset"
   ]
  },
  {
   "cell_type": "code",
   "execution_count": 23,
   "metadata": {},
   "outputs": [],
   "source": [
    "y_pred  = model.predict(X_valid)"
   ]
  },
  {
   "cell_type": "code",
   "execution_count": 24,
   "metadata": {},
   "outputs": [],
   "source": [
    "y_score = model.predict_proba(X_valid)"
   ]
  },
  {
   "cell_type": "markdown",
   "metadata": {},
   "source": [
    "####  1.5.1 Performance Metrics"
   ]
  },
  {
   "cell_type": "code",
   "execution_count": 25,
   "metadata": {},
   "outputs": [],
   "source": [
    "from sklearn import metrics"
   ]
  },
  {
   "cell_type": "code",
   "execution_count": 26,
   "metadata": {},
   "outputs": [
    {
     "name": "stdout",
     "output_type": "stream",
     "text": [
      "0.9697\n"
     ]
    }
   ],
   "source": [
    "\"\"\"Accuracy Score\"\"\"\n",
    "accuracy = metrics.accuracy_score(y_valid, y_pred, sample_weight=None, normalize=True)\n",
    "print( round(accuracy, 4))"
   ]
  },
  {
   "cell_type": "code",
   "execution_count": 27,
   "metadata": {},
   "outputs": [
    {
     "name": "stdout",
     "output_type": "stream",
     "text": [
      "0.9584\n"
     ]
    }
   ],
   "source": [
    "\"\"\"Balanced Accuracy Score\"\"\"\n",
    "balanced_accuracy = metrics.balanced_accuracy_score(y_valid, y_pred, sample_weight=None, adjusted=False)\n",
    "print( round(balanced_accuracy, 4))"
   ]
  },
  {
   "cell_type": "code",
   "execution_count": 28,
   "metadata": {},
   "outputs": [],
   "source": [
    "\"\"\"ROC Curve\"\"\"\n",
    "fpr, tpr, thresholds = metrics.roc_curve(y_valid, y_score[:,1])"
   ]
  },
  {
   "cell_type": "code",
   "execution_count": 29,
   "metadata": {},
   "outputs": [
    {
     "name": "stdout",
     "output_type": "stream",
     "text": [
      "0.9788\n"
     ]
    }
   ],
   "source": [
    "\"\"\"AUC\"\"\"\n",
    "auc = metrics.auc(fpr, tpr)\n",
    "print( round(auc, 4))"
   ]
  },
  {
   "cell_type": "code",
   "execution_count": 30,
   "metadata": {},
   "outputs": [
    {
     "data": {
      "text/plain": [
       "array([[69,  1],\n",
       "       [ 2, 27]])"
      ]
     },
     "execution_count": 30,
     "metadata": {},
     "output_type": "execute_result"
    }
   ],
   "source": [
    "\"\"\"Confusion Matrix\"\"\"\n",
    "metrics.confusion_matrix(y_valid, y_pred)"
   ]
  },
  {
   "cell_type": "code",
   "execution_count": 31,
   "metadata": {},
   "outputs": [
    {
     "name": "stdout",
     "output_type": "stream",
     "text": [
      "TN:69, FP:1, FN:2, TP:27\n"
     ]
    }
   ],
   "source": [
    "tn, fp, fn, tp = metrics.confusion_matrix(y_valid, y_pred).ravel()\n",
    "print(f\"TN:{tn}, FP:{fp}, FN:{fn}, TP:{tp}\")"
   ]
  },
  {
   "cell_type": "code",
   "execution_count": 32,
   "metadata": {},
   "outputs": [
    {
     "name": "stdout",
     "output_type": "stream",
     "text": [
      "0.9474\n"
     ]
    }
   ],
   "source": [
    "\"\"\"F1 Score\"\"\"\n",
    "f1 = metrics.f1_score(\n",
    "    y_valid, y_pred, \n",
    "    labels=None, \n",
    "    pos_label=1, \n",
    "    average='binary', \n",
    "    sample_weight=None\n",
    ")\n",
    "\n",
    "print( round(f1, 4))"
   ]
  },
  {
   "cell_type": "code",
   "execution_count": 33,
   "metadata": {},
   "outputs": [
    {
     "data": {
      "text/plain": [
       "0.17629931022054046"
      ]
     },
     "execution_count": 33,
     "metadata": {},
     "output_type": "execute_result"
    }
   ],
   "source": [
    "\"\"\"Log Loss\"\"\"\n",
    "metrics.log_loss(y_valid, y_score[:, 1], normalize=True, sample_weight=None, labels=[0,1])"
   ]
  },
  {
   "cell_type": "code",
   "execution_count": 34,
   "metadata": {},
   "outputs": [
    {
     "data": {
      "text/plain": [
       "(array([0.97183099, 0.96428571]),\n",
       " array([0.98571429, 0.93103448]),\n",
       " array([0.9787234 , 0.94736842]),\n",
       " array([70, 29]))"
      ]
     },
     "execution_count": 34,
     "metadata": {},
     "output_type": "execute_result"
    }
   ],
   "source": [
    "\"\"\"Precision, Recall, Fscore, Support\"\"\"\n",
    "metrics.precision_recall_fscore_support(\n",
    "    y_valid, y_pred, \n",
    "    labels=[0,1], \n",
    "    pos_label=1, \n",
    "    average=None, \n",
    "    sample_weight=None\n",
    ")"
   ]
  },
  {
   "cell_type": "code",
   "execution_count": 35,
   "metadata": {},
   "outputs": [
    {
     "name": "stdout",
     "output_type": "stream",
     "text": [
      "0.9643\n"
     ]
    }
   ],
   "source": [
    "precision = metrics.precision_score(\n",
    "    y_valid, y_pred, \n",
    "    labels=[0,1], \n",
    "    pos_label=1, \n",
    "    average='binary', \n",
    "    sample_weight=None\n",
    ")\n",
    "\n",
    "print( round(precision, 4))"
   ]
  },
  {
   "cell_type": "code",
   "execution_count": 36,
   "metadata": {},
   "outputs": [
    {
     "name": "stdout",
     "output_type": "stream",
     "text": [
      "0.931\n"
     ]
    }
   ],
   "source": [
    "recall = metrics.recall_score(\n",
    "    y_valid, y_pred, \n",
    "    labels=[0,1], \n",
    "    pos_label=1, \n",
    "    average='binary', \n",
    "    sample_weight=None\n",
    ")\n",
    "\n",
    "print( round(recall, 4))"
   ]
  },
  {
   "cell_type": "markdown",
   "metadata": {},
   "source": [
    "### 1.6 : Model Performance on Test Dataset"
   ]
  },
  {
   "cell_type": "code",
   "execution_count": 37,
   "metadata": {},
   "outputs": [],
   "source": [
    "y_pred = model.predict(X_test)"
   ]
  },
  {
   "cell_type": "code",
   "execution_count": 38,
   "metadata": {},
   "outputs": [],
   "source": [
    "y_score = model.predict_proba(X_test)"
   ]
  },
  {
   "cell_type": "markdown",
   "metadata": {},
   "source": [
    "#### 1.6.1 Performance Metrics"
   ]
  },
  {
   "cell_type": "code",
   "execution_count": 39,
   "metadata": {},
   "outputs": [],
   "source": [
    "from sklearn import metrics"
   ]
  },
  {
   "cell_type": "code",
   "execution_count": 40,
   "metadata": {},
   "outputs": [
    {
     "name": "stdout",
     "output_type": "stream",
     "text": [
      "0.9205\n"
     ]
    }
   ],
   "source": [
    "\"\"\"Accuracy Score\"\"\"\n",
    "accuracy = metrics.accuracy_score(y_test, y_pred, sample_weight=None, normalize=True)\n",
    "print( round(accuracy, 4))"
   ]
  },
  {
   "cell_type": "code",
   "execution_count": 41,
   "metadata": {},
   "outputs": [
    {
     "name": "stdout",
     "output_type": "stream",
     "text": [
      "0.9027\n"
     ]
    }
   ],
   "source": [
    "\"\"\"Balanced Accuracy Score\"\"\"\n",
    "balanced_accuracy = metrics.balanced_accuracy_score(\n",
    "    y_test, y_pred, \n",
    "    sample_weight=None, \n",
    "    adjusted=False\n",
    ")\n",
    "\n",
    "print( round(balanced_accuracy, 4))"
   ]
  },
  {
   "cell_type": "code",
   "execution_count": 42,
   "metadata": {},
   "outputs": [],
   "source": [
    "\"\"\"ROC Curve\"\"\"\n",
    "fpr, tpr, thresholds = metrics.roc_curve(y_test, y_score[:,1])"
   ]
  },
  {
   "cell_type": "code",
   "execution_count": 43,
   "metadata": {},
   "outputs": [
    {
     "name": "stdout",
     "output_type": "stream",
     "text": [
      "0.9743\n"
     ]
    }
   ],
   "source": [
    "\"\"\"AUC\"\"\"\n",
    "auc = metrics.auc(fpr, tpr)\n",
    "print( round(auc, 4))"
   ]
  },
  {
   "cell_type": "code",
   "execution_count": 44,
   "metadata": {},
   "outputs": [
    {
     "data": {
      "text/plain": [
       "array([[194,   1],\n",
       "       [ 25, 107]])"
      ]
     },
     "execution_count": 44,
     "metadata": {},
     "output_type": "execute_result"
    }
   ],
   "source": [
    "\"\"\"Confusion Matrix\"\"\"\n",
    "metrics.confusion_matrix(y_test, y_pred)"
   ]
  },
  {
   "cell_type": "code",
   "execution_count": 45,
   "metadata": {},
   "outputs": [
    {
     "name": "stdout",
     "output_type": "stream",
     "text": [
      "TN:194, FP:1, FN:25, TP:107\n"
     ]
    }
   ],
   "source": [
    "tn, fp, fn, tp = metrics.confusion_matrix(y_test, y_pred).ravel()\n",
    "print(f\"TN:{tn}, FP:{fp}, FN:{fn}, TP:{tp}\")"
   ]
  },
  {
   "cell_type": "code",
   "execution_count": 46,
   "metadata": {},
   "outputs": [
    {
     "name": "stdout",
     "output_type": "stream",
     "text": [
      "0.8917\n"
     ]
    }
   ],
   "source": [
    "\"\"\"F1 Score\"\"\"\n",
    "f1 = metrics.f1_score(\n",
    "    y_test, y_pred, \n",
    "    labels=None, \n",
    "    pos_label=1, \n",
    "    average='binary', \n",
    "    sample_weight=None\n",
    ")\n",
    "\n",
    "print( round(f1, 4))"
   ]
  },
  {
   "cell_type": "code",
   "execution_count": 47,
   "metadata": {},
   "outputs": [
    {
     "data": {
      "text/plain": [
       "0.20997127258488327"
      ]
     },
     "execution_count": 47,
     "metadata": {},
     "output_type": "execute_result"
    }
   ],
   "source": [
    "\"\"\"Log Loss\"\"\"\n",
    "metrics.log_loss(\n",
    "    y_test, y_score[:, 1], \n",
    "    normalize=True, \n",
    "    sample_weight=None, \n",
    "    labels=[0,1]\n",
    ")"
   ]
  },
  {
   "cell_type": "code",
   "execution_count": 48,
   "metadata": {},
   "outputs": [
    {
     "data": {
      "text/plain": [
       "(array([0.88584475, 0.99074074]),\n",
       " array([0.99487179, 0.81060606]),\n",
       " array([0.93719807, 0.89166667]),\n",
       " array([195, 132]))"
      ]
     },
     "execution_count": 48,
     "metadata": {},
     "output_type": "execute_result"
    }
   ],
   "source": [
    "\"\"\"Precision, Recall, Fscore, Support\"\"\"\n",
    "metrics.precision_recall_fscore_support(\n",
    "    y_test, y_pred, \n",
    "    labels=[0,1], \n",
    "    pos_label=1, \n",
    "    average=None, \n",
    "    sample_weight=None\n",
    ")"
   ]
  },
  {
   "cell_type": "code",
   "execution_count": 49,
   "metadata": {},
   "outputs": [
    {
     "name": "stdout",
     "output_type": "stream",
     "text": [
      "0.9907\n"
     ]
    }
   ],
   "source": [
    "precision = metrics.precision_score(\n",
    "    y_test, y_pred, \n",
    "    labels=[0,1], \n",
    "    pos_label=1, \n",
    "    average='binary', \n",
    "    sample_weight=None\n",
    ")\n",
    "\n",
    "print( round(precision, 4))"
   ]
  },
  {
   "cell_type": "code",
   "execution_count": 50,
   "metadata": {},
   "outputs": [
    {
     "name": "stdout",
     "output_type": "stream",
     "text": [
      "0.8106\n"
     ]
    }
   ],
   "source": [
    "recall = metrics.recall_score(\n",
    "    y_test, y_pred, \n",
    "    labels=[0,1], \n",
    "    pos_label=1, \n",
    "    average='binary', \n",
    "    sample_weight=None\n",
    ")\n",
    "\n",
    "print( round(recall, 4))"
   ]
  },
  {
   "cell_type": "markdown",
   "metadata": {},
   "source": [
    "#### 1.6.2 : Plots of Performance Metrics"
   ]
  },
  {
   "cell_type": "markdown",
   "metadata": {},
   "source": [
    "Confusion Metrix"
   ]
  },
  {
   "cell_type": "code",
   "execution_count": 51,
   "metadata": {},
   "outputs": [
    {
     "data": {
      "image/png": "[encoded data removed]",
      "text/plain": [
       "<Figure size 720x432 with 2 Axes>"
      ]
     },
     "metadata": {
      "needs_background": "light"
     },
     "output_type": "display_data"
    }
   ],
   "source": [
    "fig, ax = plt.subplots(figsize=(10,6))\n",
    "\n",
    "ax.set_xlabel(\"\", fontdict={'size':15})\n",
    "ax.set_ylabel(\"\", fontdict={'size':15})\n",
    "\n",
    "ax.set_xticks([0,1])\n",
    "ax.set_yticks([0,1])\n",
    "ax.set_xticklabels(['0','1'], fontdict={'size':15})\n",
    "ax.set_yticklabels(['0','1'], fontdict={'size':15})\n",
    "\n",
    "\n",
    "metrics.ConfusionMatrixDisplay.from_estimator(\n",
    "    model, X_test, y_test, \n",
    "    normalize=None, \n",
    "    sample_weight=None, \n",
    "    labels=None, \n",
    "    display_labels=[0,1], \n",
    "    cmap='Blues', #'OrRd', \n",
    "    ax=ax)\n",
    "\n",
    "plt.show()"
   ]
  },
  {
   "cell_type": "markdown",
   "metadata": {},
   "source": [
    "ROC Curve"
   ]
  },
  {
   "cell_type": "code",
   "execution_count": 52,
   "metadata": {
    "scrolled": false
   },
   "outputs": [
    {
     "data": {
      "text/plain": [
       "<sklearn.metrics._plot.roc_curve.RocCurveDisplay at 0x12cc15f10>"
      ]
     },
     "execution_count": 52,
     "metadata": {},
     "output_type": "execute_result"
    },
    {
     "data": {
      "image/png": "[encoded data removed]",
      "text/plain": [
       "<Figure size 720x432 with 1 Axes>"
      ]
     },
     "metadata": {
      "needs_background": "light"
     },
     "output_type": "display_data"
    }
   ],
   "source": [
    "fig, ax = plt.subplots(figsize=(10,6))\n",
    "\n",
    "metrics.RocCurveDisplay.from_estimator(model, X_test, y_test, sample_weight=None, ax=ax)"
   ]
  },
  {
   "cell_type": "markdown",
   "metadata": {},
   "source": [
    "PR Curve"
   ]
  },
  {
   "cell_type": "code",
   "execution_count": 53,
   "metadata": {},
   "outputs": [
    {
     "data": {
      "text/plain": [
       "<sklearn.metrics._plot.precision_recall_curve.PrecisionRecallDisplay at 0x12cbf3dc0>"
      ]
     },
     "execution_count": 53,
     "metadata": {},
     "output_type": "execute_result"
    },
    {
     "data": {
      "image/png": "[encoded data removed]",
      "text/plain": [
       "<Figure size 720x432 with 1 Axes>"
      ]
     },
     "metadata": {
      "needs_background": "light"
     },
     "output_type": "display_data"
    }
   ],
   "source": [
    "fig, ax = plt.subplots(figsize=(10,6))\n",
    "metrics.PrecisionRecallDisplay.from_estimator(model, X_test, y_test, sample_weight=None, ax=ax)"
   ]
  },
  {
   "cell_type": "markdown",
   "metadata": {},
   "source": [
    "#### 1.6.3 : Feature Importance"
   ]
  },
  {
   "cell_type": "code",
   "execution_count": 54,
   "metadata": {},
   "outputs": [
    {
     "data": {
      "text/html": [
       "<div>\n",
       "<style scoped>\n",
       "    .dataframe tbody tr th:only-of-type {\n",
       "        vertical-align: middle;\n",
       "    }\n",
       "\n",
       "    .dataframe tbody tr th {\n",
       "        vertical-align: top;\n",
       "    }\n",
       "\n",
       "    .dataframe thead th {\n",
       "        text-align: right;\n",
       "    }\n",
       "</style>\n",
       "<table border=\"1\" class=\"dataframe\">\n",
       "  <thead>\n",
       "    <tr style=\"text-align: right;\">\n",
       "      <th></th>\n",
       "      <th>ColName</th>\n",
       "      <th>Coeff</th>\n",
       "    </tr>\n",
       "  </thead>\n",
       "  <tbody>\n",
       "    <tr>\n",
       "      <th>12</th>\n",
       "      <td>Boat</td>\n",
       "      <td>-8.281632</td>\n",
       "    </tr>\n",
       "    <tr>\n",
       "      <th>8</th>\n",
       "      <td>Sex</td>\n",
       "      <td>-1.909631</td>\n",
       "    </tr>\n",
       "    <tr>\n",
       "      <th>11</th>\n",
       "      <td>Embarked</td>\n",
       "      <td>-0.941928</td>\n",
       "    </tr>\n",
       "  </tbody>\n",
       "</table>\n",
       "</div>"
      ],
      "text/plain": [
       "     ColName     Coeff\n",
       "12      Boat -8.281632\n",
       "8        Sex -1.909631\n",
       "11  Embarked -0.941928"
      ]
     },
     "execution_count": 54,
     "metadata": {},
     "output_type": "execute_result"
    }
   ],
   "source": [
    "\"\"\"\n",
    "    In Logistic Regression \n",
    "    Model coefficients are generally considered as feature importance \n",
    "\"\"\"\n",
    "\n",
    "#  Create column name and coresponsing model coefficient dataframe \n",
    "colNames = train_df.drop(columns=['Survived']).columns.values\n",
    "colCoeff = model.coef_[0]\n",
    "name_coef = pd.DataFrame( np.column_stack((colNames, colCoeff)), columns=['ColName','Coeff'])\n",
    "name_coef = name_coef.sort_values(by='Coeff', inplace=False)\n",
    "\n",
    "name_coef.head(3)"
   ]
  },
  {
   "cell_type": "code",
   "execution_count": 55,
   "metadata": {},
   "outputs": [],
   "source": [
    "# \"\"\"Plot using Pandas Plotting Routine\"\"\"\n",
    "# fig, ax = plt.subplots(figsize=(12,7))\n",
    "\n",
    "# _imp = name_coef.set_index(keys=['ColName'])\n",
    "# _imp.plot(kind='barh', ax=ax, fontsize=12)\n",
    "\n",
    "# plt.show()"
   ]
  },
  {
   "cell_type": "code",
   "execution_count": 56,
   "metadata": {},
   "outputs": [
    {
     "data": {
      "image/png": "[encoded data removed]",
      "text/plain": [
       "<Figure size 864x504 with 1 Axes>"
      ]
     },
     "metadata": {
      "needs_background": "light"
     },
     "output_type": "display_data"
    }
   ],
   "source": [
    "\"\"\"Plot using Seaborn Plotting Routine\"\"\"\n",
    "\n",
    "import seaborn as sns\n",
    "\n",
    "fig, ax = plt.subplots(figsize=(12,7))\n",
    "\n",
    "sns.barplot(y='ColName', x='Coeff',  data=name_coef, orient='h', palette='Blues')\n",
    "ax.set_xlabel(\"Correlation Strength\", fontdict={'size':14})\n",
    "ax.set_ylabel(\"Feature Name\", fontdict={'size':14})\n",
    "\n",
    "plt.show()"
   ]
  },
  {
   "cell_type": "markdown",
   "metadata": {},
   "source": [
    "-----------------"
   ]
  },
  {
   "cell_type": "markdown",
   "metadata": {},
   "source": [
    "## Part 2 : Perfom Cross-Validation "
   ]
  },
  {
   "cell_type": "markdown",
   "metadata": {},
   "source": [
    "Cross-Validation can be implement in two different ways. We will explore both of these methods.\n",
    "\n",
    "To implement CV, the data is not needed to be divided manually into 'train' and 'valid'. "
   ]
  },
  {
   "cell_type": "markdown",
   "metadata": {},
   "source": [
    "### 2.1 : Normalize Datasets  "
   ]
  },
  {
   "cell_type": "code",
   "execution_count": 57,
   "metadata": {},
   "outputs": [],
   "source": [
    "X_train = train_df.drop('Survived', axis=1)\n",
    "y_train = train_df.Survived\n",
    "X_test  = test_df.drop('Survived', axis=1)\n",
    "y_test  = test_df.Survived\n",
    "\n",
    "from sklearn.preprocessing import MinMaxScaler, Normalizer, StandardScaler\n",
    "\n",
    "scalar = MinMaxScaler()\n",
    "X_train_scale = scalar.fit_transform(X_train)\n",
    "X_test_scale = scalar.fit_transform(X_test)"
   ]
  },
  {
   "cell_type": "markdown",
   "metadata": {},
   "source": [
    "### 2.2 : Cross-Validation using 'cross_val_predict'\n",
    "\n",
    "####  Warning \n",
    "Method 1 does not produce a model object. It can not be applied to  predict test data.\n",
    "\n",
    "Despite this setback, it is still a valuable way to  explore cross validation.    "
   ]
  },
  {
   "cell_type": "code",
   "execution_count": 58,
   "metadata": {},
   "outputs": [],
   "source": [
    "from sklearn.model_selection import cross_val_predict, cross_val_score, cross_validate"
   ]
  },
  {
   "cell_type": "code",
   "execution_count": 59,
   "metadata": {},
   "outputs": [],
   "source": [
    "model_cv = LogisticRegression(\n",
    "    penalty='l2', \n",
    "    dual=False, \n",
    "    tol=0.0001, \n",
    "    C=1.0, \n",
    "    fit_intercept=True, \n",
    "    intercept_scaling=1, \n",
    "    class_weight=None, \n",
    "    random_state=42, \n",
    "    solver='lbfgs', \n",
    "    max_iter=100, \n",
    "    multi_class='auto', \n",
    "    verbose=0, \n",
    "    warm_start=False, \n",
    "    n_jobs=2, \n",
    "    l1_ratio=None\n",
    ")"
   ]
  },
  {
   "cell_type": "markdown",
   "metadata": {},
   "source": [
    "#### Predict Classes"
   ]
  },
  {
   "cell_type": "code",
   "execution_count": 60,
   "metadata": {},
   "outputs": [],
   "source": [
    "y_pred_cv = cross_val_predict(\n",
    "    model_cv, \n",
    "    X_train_scale, y_train, \n",
    "    cv=5, \n",
    "    n_jobs=2, \n",
    "    verbose=0,\n",
    "    method='predict'\n",
    ")"
   ]
  },
  {
   "cell_type": "markdown",
   "metadata": {},
   "source": [
    "#### Predict Probabilities"
   ]
  },
  {
   "cell_type": "code",
   "execution_count": 61,
   "metadata": {},
   "outputs": [],
   "source": [
    "y_score_cv = cross_val_predict(\n",
    "    model_cv, \n",
    "    X_train_scale, y_train, \n",
    "    cv=5, \n",
    "    n_jobs=2, \n",
    "    verbose=0,\n",
    "    method='predict_proba'\n",
    ")"
   ]
  },
  {
   "cell_type": "markdown",
   "metadata": {},
   "source": [
    "Validation Scores"
   ]
  },
  {
   "cell_type": "code",
   "execution_count": 62,
   "metadata": {},
   "outputs": [
    {
     "data": {
      "text/plain": [
       "array([0.92385787, 0.94923858, 0.94897959, 0.94897959, 0.93367347])"
      ]
     },
     "execution_count": 62,
     "metadata": {},
     "output_type": "execute_result"
    }
   ],
   "source": [
    "score_cv = cross_val_score(model_cv, X_train_scale, y_train, scoring='accuracy', cv=5)\n",
    "score_cv"
   ]
  },
  {
   "cell_type": "code",
   "execution_count": 63,
   "metadata": {},
   "outputs": [
    {
     "data": {
      "text/plain": [
       "{'fit_time': array([0.01177812, 0.0088501 , 0.00780177, 0.00917411, 0.00853515]),\n",
       " 'score_time': array([0.0034709 , 0.00285387, 0.00275993, 0.00268292, 0.00229096]),\n",
       " 'test_accuracy': array([0.92385787, 0.94923858, 0.94897959, 0.94897959, 0.93367347]),\n",
       " 'test_roc_auc': array([0.96374423, 0.98582729, 0.98652411, 0.98941976, 0.96355782]),\n",
       " 'test_f1': array([0.89051095, 0.92753623, 0.92753623, 0.92857143, 0.90647482])}"
      ]
     },
     "execution_count": 63,
     "metadata": {},
     "output_type": "execute_result"
    }
   ],
   "source": [
    "score_cv = cross_validate(model_cv, X_train_scale, y_train, scoring=['accuracy','roc_auc','f1'], cv=5)\n",
    "score_cv"
   ]
  },
  {
   "cell_type": "markdown",
   "metadata": {},
   "source": [
    "#### Show the number of Miss-classifications "
   ]
  },
  {
   "cell_type": "code",
   "execution_count": 64,
   "metadata": {},
   "outputs": [
    {
     "name": "stdout",
     "output_type": "stream",
     "text": [
      "[(-1, 7), (0, 924), (1, 51)]\n"
     ]
    },
    {
     "data": {
      "image/png": "[encoded data removed]",
      "text/plain": [
       "<Figure size 765x306 with 1 Axes>"
      ]
     },
     "metadata": {
      "needs_background": "light"
     },
     "output_type": "display_data"
    }
   ],
   "source": [
    "y_diff = y_train.to_numpy() - y_pred_cv\n",
    "diff = pd.DataFrame(y_diff, columns=['Delta'], dtype=object)\n",
    "\n",
    "\n",
    "b,c = np.unique(y_diff, return_counts=True)\n",
    "print( list(zip(b,c)) )\n",
    "\n",
    "\n",
    "# Method 1\n",
    "# fig, ax = plt.subplots( figsize=(10,5) )\n",
    "# tmp = diff.groupby(['Delta'], as_index=False).size()\n",
    "# sns.barplot(x='Delta', y='size', hue='Delta', data=tmp, orient='v')\n",
    "\n",
    "\n",
    "# Method 2\n",
    "g = sns.catplot(\n",
    "    x='Delta', kind='count',\n",
    "    data=diff,\n",
    "    height=4.25, \n",
    "    aspect=2.5,\n",
    "    legend=True,\n",
    "    #palette='Reds'\n",
    ")\n",
    "\n",
    "g.fig.suptitle('The number of Miss-classifications')\n",
    "g.set_xlabels('Delta: 0=Correct Classfication', fontdict={'size':14}) \n",
    "\n",
    "\n",
    "plt.show()"
   ]
  },
  {
   "cell_type": "markdown",
   "metadata": {},
   "source": [
    "### 2.3 : Cross-Validation using 'LogisticRegressionCV'"
   ]
  },
  {
   "cell_type": "code",
   "execution_count": 65,
   "metadata": {},
   "outputs": [],
   "source": [
    "from sklearn.linear_model import LogisticRegressionCV"
   ]
  },
  {
   "cell_type": "code",
   "execution_count": 66,
   "metadata": {},
   "outputs": [],
   "source": [
    "model_cv = LogisticRegressionCV(\n",
    "    Cs=10, \n",
    "    fit_intercept=True, \n",
    "    cv=5, \n",
    "    dual=False, \n",
    "    penalty='l2', \n",
    "    scoring=None, \n",
    "    solver='lbfgs', #'liblinear',\n",
    "    tol=0.0001, \n",
    "    max_iter=200, \n",
    "    class_weight=None, \n",
    "    n_jobs=2, \n",
    "    verbose=0, \n",
    "    refit=True, \n",
    "    intercept_scaling=1.0, \n",
    "    multi_class='auto', \n",
    "    random_state=42, \n",
    "    l1_ratios=None\n",
    ")"
   ]
  },
  {
   "cell_type": "code",
   "execution_count": 67,
   "metadata": {},
   "outputs": [],
   "source": [
    "fit_cv = model_cv.fit(\n",
    "    X_train_scale, \n",
    "    y_train,\n",
    "    sample_weight=None)"
   ]
  },
  {
   "cell_type": "code",
   "execution_count": 68,
   "metadata": {},
   "outputs": [
    {
     "name": "stdout",
     "output_type": "stream",
     "text": [
      "class label's order in predict_proba: [0 1]\n"
     ]
    }
   ],
   "source": [
    "print(\"class label's order in predict_proba:\", model_cv.classes_)"
   ]
  },
  {
   "cell_type": "markdown",
   "metadata": {},
   "source": [
    "#### Predict Classes"
   ]
  },
  {
   "cell_type": "code",
   "execution_count": 69,
   "metadata": {},
   "outputs": [],
   "source": [
    "y_pred_cv = model_cv.predict(X_test_scale)"
   ]
  },
  {
   "cell_type": "markdown",
   "metadata": {},
   "source": [
    "#### Predict Probabilities"
   ]
  },
  {
   "cell_type": "code",
   "execution_count": 70,
   "metadata": {},
   "outputs": [],
   "source": [
    "y_score_cv    = model_cv.predict_proba(X_test_scale)\n",
    "y_logscore_cv = model_cv.predict_log_proba(X_test_scale)"
   ]
  },
  {
   "cell_type": "markdown",
   "metadata": {},
   "source": [
    "####  The Distribution of Predicted Probabilities"
   ]
  },
  {
   "cell_type": "code",
   "execution_count": 71,
   "metadata": {
    "scrolled": false
   },
   "outputs": [
    {
     "data": {
      "image/png": "[encoded data removed]",
      "text/plain": [
       "<Figure size 864x432 with 1 Axes>"
      ]
     },
     "metadata": {
      "needs_background": "light"
     },
     "output_type": "display_data"
    }
   ],
   "source": [
    "fig, ax = plt.subplots( figsize=(12,6) )\n",
    "\n",
    "#sns.histplot(y_score_cv[:,0], alpha=1.0, palette='Reds', stat=\"count\")\n",
    "sns.histplot(y_score_cv[:,1], alpha=0.1, palette='Blues',stat=\"count\")\n",
    "\n",
    "ax.set_xlim(0.00, 1.00)\n",
    "\n",
    "plt.show()"
   ]
  },
  {
   "cell_type": "markdown",
   "metadata": {},
   "source": [
    "----------------"
   ]
  },
  {
   "cell_type": "markdown",
   "metadata": {},
   "source": [
    "## Part 3 : Advanced Topic : Perform Probability Calibration\n",
    "\n",
    "https://scikit-learn.org/stable/modules/calibration.html#calibration"
   ]
  },
  {
   "cell_type": "code",
   "execution_count": 72,
   "metadata": {},
   "outputs": [],
   "source": [
    "from sklearn.calibration import CalibratedClassifierCV, CalibrationDisplay"
   ]
  },
  {
   "cell_type": "markdown",
   "metadata": {},
   "source": [
    "### 3.1 : Calibrate Probabilities"
   ]
  },
  {
   "cell_type": "code",
   "execution_count": 73,
   "metadata": {},
   "outputs": [],
   "source": [
    "model_iso = CalibratedClassifierCV(\n",
    "    base_estimator=model_cv, \n",
    "    method='isotonic', \n",
    "    cv='prefit'\n",
    ")\n",
    "\n",
    "fit_iso = model_iso.fit(X_test_scale, y_test)\n",
    "\n",
    "\n",
    "y_pred_iso  = model_iso.predict(X_test_scale)\n",
    "y_score_iso = model_iso.predict_proba(X_test_scale)"
   ]
  },
  {
   "cell_type": "code",
   "execution_count": 74,
   "metadata": {},
   "outputs": [],
   "source": [
    "model_sig = CalibratedClassifierCV(\n",
    "    base_estimator=model_cv, \n",
    "    method='sigmoid', \n",
    "    cv='prefit'\n",
    ")\n",
    "\n",
    "\n",
    "fit_sig = model_sig.fit(X_test_scale, y_test)\n",
    "\n",
    "y_pred_sig  = model_sig.predict(X_test_scale)\n",
    "y_score_sig = model_sig.predict_proba(X_test_scale)"
   ]
  },
  {
   "cell_type": "markdown",
   "metadata": {},
   "source": [
    "### 3.2 : Display Calibrated Probabilities"
   ]
  },
  {
   "cell_type": "markdown",
   "metadata": {},
   "source": [
    "Using Model Outputs (Probabilities)"
   ]
  },
  {
   "cell_type": "code",
   "execution_count": 75,
   "metadata": {},
   "outputs": [
    {
     "data": {
      "image/png": "[encoded data removed]",
      "text/plain": [
       "<Figure size 1008x576 with 1 Axes>"
      ]
     },
     "metadata": {
      "needs_background": "light"
     },
     "output_type": "display_data"
    }
   ],
   "source": [
    "fig, ax = plt.subplots( figsize=(14, 8) )\n",
    "\n",
    "model_score_list = [\n",
    "    (y_score_cv[:, 1], \"Logistic\"),\n",
    "    (y_score_iso[:,1], \"Logistic + Isotonic\"),\n",
    "    (y_score_sig[:,1], \"Logistic + Sigmoid\"),\n",
    "]\n",
    "\n",
    "colors = plt.cm.get_cmap(\"Dark2\")\n",
    "\n",
    "for i, (y_score, name) in enumerate(model_score_list):\n",
    "    display = CalibrationDisplay.from_predictions(\n",
    "        y_test, y_score,\n",
    "        n_bins=10, \n",
    "        name=name,\n",
    "        ax=ax,\n",
    "        color=colors(i)\n",
    "    )\n",
    "\n",
    "plt.show()"
   ]
  },
  {
   "cell_type": "markdown",
   "metadata": {},
   "source": [
    "Using Model Estimators"
   ]
  },
  {
   "cell_type": "code",
   "execution_count": 76,
   "metadata": {},
   "outputs": [
    {
     "data": {
      "image/png": "[encoded data removed]",
      "text/plain": [
       "<Figure size 1008x864 with 1 Axes>"
      ]
     },
     "metadata": {
      "needs_background": "light"
     },
     "output_type": "display_data"
    }
   ],
   "source": [
    "model_list = [\n",
    "    (model_cv,  \"Logistic\"),\n",
    "    (model_iso, \"Logistic + Isotonic\"),\n",
    "    (model_sig, \"Logistic + Sigmoid\"),\n",
    "]\n",
    "\n",
    "\n",
    "fig = plt.figure( figsize=(14,12) )\n",
    "gds = GridSpec(4, 2)\n",
    "colors = plt.cm.get_cmap(\"Dark2\")\n",
    "\n",
    "ax_calibration_curve = fig.add_subplot( gds[:2, :2] )\n",
    "calibration_displays = {}\n",
    "\n",
    "for i, (clf, name) in enumerate(model_list):\n",
    "    clf.fit(X_train_scale, y_train)\n",
    "    display = CalibrationDisplay.from_estimator(\n",
    "        clf,\n",
    "        X_test_scale,\n",
    "        y_test,\n",
    "        n_bins=10,\n",
    "        name=name,\n",
    "        ax=ax_calibration_curve,\n",
    "        color=colors(i),\n",
    "    )\n",
    "    calibration_displays[name] = display\n",
    "\n",
    "ax_calibration_curve.grid()\n",
    "ax_calibration_curve.set_title(\"Calibration plots (Logistic Regression)\", fontdict={'size':16})\n",
    "\n",
    "# # Add histogram\n",
    "# grid_positions = [(2, 0), (2, 1), (3, 0), (3, 1)]\n",
    "# for i, (_, name) in enumerate(model_list):\n",
    "#     row, col = grid_positions[i]\n",
    "#     ax = fig.add_subplot(gs[row, col])\n",
    "\n",
    "#     ax.hist(\n",
    "#         calibration_displays[name].y_prob,\n",
    "#         range=(0, 1),\n",
    "#         bins=10,\n",
    "#         label=name,\n",
    "#         color=colors(i),\n",
    "#     )\n",
    "#     ax.set(title=name, xlabel=\"Mean predicted probability\", ylabel=\"Count\")\n",
    "\n",
    "plt.tight_layout()\n",
    "plt.show()"
   ]
  },
  {
   "cell_type": "code",
   "execution_count": 77,
   "metadata": {},
   "outputs": [
    {
     "name": "stdout",
     "output_type": "stream",
     "text": [
      "Brier score losses: (the smaller the better)\n",
      "No calibration: 0.080\n",
      "\n",
      "With isotonic calibration: 0.0459\n",
      "With sigmoid calibration : 0.0550\n"
     ]
    }
   ],
   "source": [
    "from sklearn.metrics import brier_score_loss\n",
    "\n",
    "print(\"Brier score losses: (the smaller the better)\")\n",
    "\n",
    "clf_score = brier_score_loss(y_test, y_pred, sample_weight=None)\n",
    "print(\"No calibration: {0:0.3f}\".format(clf_score))\n",
    "\n",
    "print('')\n",
    "\n",
    "clf_isotonic_score = brier_score_loss(y_test, y_pred_iso, sample_weight=None)\n",
    "print(\"With isotonic calibration: {0:0.4f}\".format(clf_isotonic_score))\n",
    "\n",
    "clf_sigmoid_score = brier_score_loss(y_test, y_pred_sig, sample_weight=None)\n",
    "print(\"With sigmoid calibration : {0:0.4f}\".format(clf_sigmoid_score) )"
   ]
  }
 ],
 "metadata": {
  "kernelspec": {
   "display_name": "Python 3",
   "language": "python",
   "name": "python3"
  },
  "language_info": {
   "codemirror_mode": {
    "name": "ipython",
    "version": 3
   },
   "file_extension": ".py",
   "mimetype": "text/x-python",
   "name": "python",
   "nbconvert_exporter": "python",
   "pygments_lexer": "ipython3",
   "version": "3.8.8"
  }
 },
 "nbformat": 4,
 "nbformat_minor": 4
}
