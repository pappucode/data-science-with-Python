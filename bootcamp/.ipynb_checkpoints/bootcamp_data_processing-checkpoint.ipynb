{
 "cells": [
  {
   "cell_type": "markdown",
   "metadata": {},
   "source": [
    "# Data Processing : Titanic Data "
   ]
  },
  {
   "cell_type": "markdown",
   "metadata": {},
   "source": [
    "<img style=\"float: left; width: 400px;\" src=\"image_titanic_ship.png\">"
   ]
  },
  {
   "cell_type": "markdown",
   "metadata": {},
   "source": [
    "##  Overview\n",
    "\n",
    "The RMS Titanic was a British passenger liner. It sank in the North Atlantic Ocean on \n",
    "15 April 1912 after striking an iceberg during her maiden voyage from Southampton, UK, \n",
    "to New York City. Of the estimated 2,224 passengers and crew aboard, more than 1,500 died, \n",
    "making it one of the worst passenger ship disasters in history. \n",
    "\n",
    "1. https://en.wikipedia.org/wiki/Titanic\n",
    "2. https://en.wikipedia.org/wiki/Titanic#/media/File:RMS_Titanic_3.jpg\n",
    "3. https://titanicfacts.net/titanic-survivors/\n",
    "\n",
    "Publicly available Titatnic dataset contains survival information about 1309 passengers. We \n",
    "will investigate the dataset with the use of the Python libraries including NumPy, \n",
    "Scipy, Pandas, Matplotlib, and Seaborn."
   ]
  },
  {
   "cell_type": "markdown",
   "metadata": {},
   "source": [
    "##  Dataset Information\n",
    "\n",
    "<img style=\"float: left; padding-bottom: 50px; \" src=\"image_titanic_data.png\" width=\"1000\" height=\"100\">\n",
    "\n",
    "\n",
    "#### Pclass: A proxy for socio-economic status (SES)\n",
    "\n",
    "1 = Upper class\n",
    "\n",
    "2 = Middle class\n",
    "\n",
    "3 = Lower class\n",
    "\n",
    "#### Survived : Indicator whhethher or not a passengers survived\n",
    "\n",
    "0 : No : Did not Survived \n",
    "\n",
    "1 : Yes: survived\n",
    "\n",
    "#### Name : Name of the passengers.Format : last name, first name\n",
    "\n",
    "\n",
    "#### Sex : Gender of passengers\n",
    "\n",
    "Category : female, male\n",
    "\n",
    "\n",
    "#### Age : Age is in years. \n",
    "\n",
    "Age is fractional if less than 1.\n",
    "\n",
    "#### SibSp : the count of siblings and spouse between 0 to 8\n",
    "\n",
    "The dataset defines family relations in the following way:\n",
    "\n",
    "Sibling = brother, sister, stepbrother, stepsister\n",
    "\n",
    "Spouse = husband, wife (mistresses and fiancés were ignored)\n",
    "\n",
    "#### ParCh : the count of parents and children between 0  to 9\n",
    "\n",
    "The dataset defines family relations in the following way:\n",
    "\n",
    "Parent = mother, father\n",
    "\n",
    "Child = daughter, son, stepdaughter, stepson\n",
    "\n",
    "Some children travelled only with a nanny, therefore parch=0 for them\n",
    "\n",
    "\n",
    "#### Ticket : Ticket  number\n",
    "\n",
    "#### Fare : Ticket price in British Pound\n",
    "\n",
    "#### Cabin : Cabin number \n",
    "\n",
    "#### Embarked :  The  place where the traveler got on-board the ship. \n",
    "\n",
    "There are three possible values for Embark \n",
    "\n",
    "Southampton (S): about 70% of the people boarded from Southampton\n",
    "\n",
    "Cherbourg   (C): about 20% boarded from Cherbourg\n",
    "\n",
    "Queenstown  (Q): the rest boarded from Queenstown\n",
    "\n",
    "\n",
    "#### Boat : Lifeboat (if survived)\n",
    "\n",
    "#### Body : Body number (if did not survive and body was recovered)\n",
    "\n",
    "#### Home.dest : Home/Destination of the passengers"
   ]
  },
  {
   "cell_type": "markdown",
   "metadata": {},
   "source": [
    "## Data Processing Steps\n",
    "\n",
    "Part 1: Read Final Clean Data set\n",
    "\n",
    "Part 2: Split data into train and test datasets\n",
    "\n",
    "Part 3: Process Categorical Data : Convert into Numerical Data"
   ]
  },
  {
   "cell_type": "markdown",
   "metadata": {},
   "source": [
    "----------------"
   ]
  },
  {
   "cell_type": "markdown",
   "metadata": {},
   "source": [
    "##  Load Useful  Python Modules"
   ]
  },
  {
   "cell_type": "markdown",
   "metadata": {},
   "source": [
    "numpy,  pandas, re, scipy"
   ]
  },
  {
   "cell_type": "code",
   "execution_count": 2,
   "metadata": {},
   "outputs": [],
   "source": [
    "import numpy as np\n",
    "import pandas as pd\n",
    "import re\n",
    "import scipy"
   ]
  },
  {
   "cell_type": "markdown",
   "metadata": {},
   "source": [
    "sklearn modules for data processing"
   ]
  },
  {
   "cell_type": "code",
   "execution_count": 3,
   "metadata": {},
   "outputs": [],
   "source": [
    "from sklearn import preprocessing \n",
    "from sklearn.impute import SimpleImputer, KNNImputer"
   ]
  },
  {
   "cell_type": "markdown",
   "metadata": {},
   "source": [
    "-----------"
   ]
  },
  {
   "cell_type": "markdown",
   "metadata": {},
   "source": [
    "## Part 1: Read Data"
   ]
  },
  {
   "cell_type": "code",
   "execution_count": 4,
   "metadata": {},
   "outputs": [],
   "source": [
    "dataPath = \"/Users/nururrahman/Desktop/StartUp/DataScienceInitiative/Bootcamp/\"\n",
    "dataFile = \"data_titanic_clean.csv\""
   ]
  },
  {
   "cell_type": "code",
   "execution_count": 5,
   "metadata": {},
   "outputs": [
    {
     "ename": "NameError",
     "evalue": "name 'data_titanic_clean' is not defined",
     "output_type": "error",
     "traceback": [
      "\u001b[1;31m---------------------------------------------------------------------------\u001b[0m",
      "\u001b[1;31mNameError\u001b[0m                                 Traceback (most recent call last)",
      "\u001b[1;32m<ipython-input-5-772c85a6b7c9>\u001b[0m in \u001b[0;36m<module>\u001b[1;34m\u001b[0m\n\u001b[0;32m      1\u001b[0m \u001b[1;31m#df = pd.read_csv( dataPath + dataFile)\u001b[0m\u001b[1;33m\u001b[0m\u001b[1;33m\u001b[0m\u001b[1;33m\u001b[0m\u001b[0m\n\u001b[1;32m----> 2\u001b[1;33m \u001b[0mdf\u001b[0m \u001b[1;33m=\u001b[0m \u001b[0mpd\u001b[0m\u001b[1;33m.\u001b[0m\u001b[0mread_csv\u001b[0m\u001b[1;33m(\u001b[0m\u001b[0mdata_titanic_clean\u001b[0m\u001b[1;33m.\u001b[0m\u001b[0mcsv\u001b[0m\u001b[1;33m)\u001b[0m\u001b[1;33m\u001b[0m\u001b[1;33m\u001b[0m\u001b[0m\n\u001b[0m",
      "\u001b[1;31mNameError\u001b[0m: name 'data_titanic_clean' is not defined"
     ]
    }
   ],
   "source": [
    "#df = pd.read_csv( dataPath + dataFile) \n",
    "df = pd.read_csv(data_titanic_clean.csv)"
   ]
  },
  {
   "cell_type": "code",
   "execution_count": null,
   "metadata": {},
   "outputs": [],
   "source": [
    "df.head(3)"
   ]
  },
  {
   "cell_type": "markdown",
   "metadata": {},
   "source": [
    "-------------------"
   ]
  },
  {
   "cell_type": "markdown",
   "metadata": {},
   "source": [
    "## Part 2 : How to Split Data into Training and Test Data sets"
   ]
  },
  {
   "cell_type": "markdown",
   "metadata": {},
   "source": [
    "#### Training data set : Choose a portion of the original data without replacement  \n",
    "\n",
    "The variable 'portion', also known as fraction, ranges from 0 to  1\n",
    "\n",
    "We choose this fraction to be 0.75 for training set. The typical number is between 0.70 to 0.90\n",
    "\n",
    "Higher fraction means more data will be used for model training purpose\n",
    "\n",
    "#### Test data set : The remiaining portion of the original data  that is not in the training data  set "
   ]
  },
  {
   "cell_type": "code",
   "execution_count": 6,
   "metadata": {},
   "outputs": [],
   "source": [
    "portion  = 0.75\n",
    "train_df = df.sample(frac=portion, replace=False)"
   ]
  },
  {
   "cell_type": "code",
   "execution_count": 7,
   "metadata": {},
   "outputs": [
    {
     "data": {
      "text/html": [
       "<div>\n",
       "<style scoped>\n",
       "    .dataframe tbody tr th:only-of-type {\n",
       "        vertical-align: middle;\n",
       "    }\n",
       "\n",
       "    .dataframe tbody tr th {\n",
       "        vertical-align: top;\n",
       "    }\n",
       "\n",
       "    .dataframe thead th {\n",
       "        text-align: right;\n",
       "    }\n",
       "</style>\n",
       "<table border=\"1\" class=\"dataframe\">\n",
       "  <thead>\n",
       "    <tr style=\"text-align: right;\">\n",
       "      <th></th>\n",
       "      <th>Pclass</th>\n",
       "      <th>Survived</th>\n",
       "      <th>Name</th>\n",
       "      <th>Sex</th>\n",
       "      <th>Age</th>\n",
       "      <th>SibSp</th>\n",
       "      <th>Parch</th>\n",
       "      <th>Ticket</th>\n",
       "      <th>Fare</th>\n",
       "      <th>Cabin</th>\n",
       "      <th>Embarked</th>\n",
       "      <th>Boat</th>\n",
       "      <th>HomeDest</th>\n",
       "      <th>LastName</th>\n",
       "      <th>Title</th>\n",
       "      <th>NameLength</th>\n",
       "      <th>FamilySize</th>\n",
       "    </tr>\n",
       "  </thead>\n",
       "  <tbody>\n",
       "    <tr>\n",
       "      <th>765</th>\n",
       "      <td>3</td>\n",
       "      <td>1</td>\n",
       "      <td>Dean, Mrs. Bertram (Eva Georgetta Light)</td>\n",
       "      <td>female</td>\n",
       "      <td>33.0</td>\n",
       "      <td>1</td>\n",
       "      <td>2</td>\n",
       "      <td>CA_2315</td>\n",
       "      <td>20.5750</td>\n",
       "      <td>UNKNOWN</td>\n",
       "      <td>S</td>\n",
       "      <td>10</td>\n",
       "      <td>Devon_EnglandWichita_KS</td>\n",
       "      <td>Dean</td>\n",
       "      <td>Mrs.</td>\n",
       "      <td>40</td>\n",
       "      <td>4</td>\n",
       "    </tr>\n",
       "    <tr>\n",
       "      <th>256</th>\n",
       "      <td>1</td>\n",
       "      <td>1</td>\n",
       "      <td>Salomon, Mr. Abraham L</td>\n",
       "      <td>male</td>\n",
       "      <td>28.0</td>\n",
       "      <td>0</td>\n",
       "      <td>0</td>\n",
       "      <td>111163</td>\n",
       "      <td>26.0000</td>\n",
       "      <td>UNKNOWN</td>\n",
       "      <td>S</td>\n",
       "      <td>1</td>\n",
       "      <td>NewYork_NY</td>\n",
       "      <td>Salomon</td>\n",
       "      <td>Mr.</td>\n",
       "      <td>22</td>\n",
       "      <td>1</td>\n",
       "    </tr>\n",
       "    <tr>\n",
       "      <th>288</th>\n",
       "      <td>1</td>\n",
       "      <td>1</td>\n",
       "      <td>Swift, Mrs. Frederick Joel (Margaret Welles Ba...</td>\n",
       "      <td>female</td>\n",
       "      <td>48.0</td>\n",
       "      <td>0</td>\n",
       "      <td>0</td>\n",
       "      <td>17466</td>\n",
       "      <td>25.9292</td>\n",
       "      <td>D17</td>\n",
       "      <td>S</td>\n",
       "      <td>8</td>\n",
       "      <td>Brooklyn_NY</td>\n",
       "      <td>Swift</td>\n",
       "      <td>Mrs.</td>\n",
       "      <td>51</td>\n",
       "      <td>1</td>\n",
       "    </tr>\n",
       "  </tbody>\n",
       "</table>\n",
       "</div>"
      ],
      "text/plain": [
       "     Pclass  Survived                                               Name  \\\n",
       "765       3         1           Dean, Mrs. Bertram (Eva Georgetta Light)   \n",
       "256       1         1                             Salomon, Mr. Abraham L   \n",
       "288       1         1  Swift, Mrs. Frederick Joel (Margaret Welles Ba...   \n",
       "\n",
       "        Sex   Age  SibSp  Parch   Ticket     Fare    Cabin Embarked Boat  \\\n",
       "765  female  33.0      1      2  CA_2315  20.5750  UNKNOWN        S   10   \n",
       "256    male  28.0      0      0   111163  26.0000  UNKNOWN        S    1   \n",
       "288  female  48.0      0      0    17466  25.9292      D17        S    8   \n",
       "\n",
       "                    HomeDest LastName Title  NameLength  FamilySize  \n",
       "765  Devon_EnglandWichita_KS     Dean  Mrs.          40           4  \n",
       "256               NewYork_NY  Salomon   Mr.          22           1  \n",
       "288              Brooklyn_NY    Swift  Mrs.          51           1  "
      ]
     },
     "execution_count": 7,
     "metadata": {},
     "output_type": "execute_result"
    }
   ],
   "source": [
    "# Check train data set\n",
    "train_df.head(3)"
   ]
  },
  {
   "cell_type": "markdown",
   "metadata": {},
   "source": [
    "Get the row indices of the training dataset"
   ]
  },
  {
   "cell_type": "code",
   "execution_count": 8,
   "metadata": {},
   "outputs": [],
   "source": [
    "train_index = train_df.index.tolist()"
   ]
  },
  {
   "cell_type": "markdown",
   "metadata": {},
   "source": [
    "Test set : Choose a portion of the original data that is not  included in the Training set "
   ]
  },
  {
   "cell_type": "code",
   "execution_count": 9,
   "metadata": {},
   "outputs": [],
   "source": [
    "test_df = df[ ~df.index.isin(train_index) ]"
   ]
  },
  {
   "cell_type": "code",
   "execution_count": 10,
   "metadata": {},
   "outputs": [
    {
     "data": {
      "text/html": [
       "<div>\n",
       "<style scoped>\n",
       "    .dataframe tbody tr th:only-of-type {\n",
       "        vertical-align: middle;\n",
       "    }\n",
       "\n",
       "    .dataframe tbody tr th {\n",
       "        vertical-align: top;\n",
       "    }\n",
       "\n",
       "    .dataframe thead th {\n",
       "        text-align: right;\n",
       "    }\n",
       "</style>\n",
       "<table border=\"1\" class=\"dataframe\">\n",
       "  <thead>\n",
       "    <tr style=\"text-align: right;\">\n",
       "      <th></th>\n",
       "      <th>Pclass</th>\n",
       "      <th>Survived</th>\n",
       "      <th>Name</th>\n",
       "      <th>Sex</th>\n",
       "      <th>Age</th>\n",
       "      <th>SibSp</th>\n",
       "      <th>Parch</th>\n",
       "      <th>Ticket</th>\n",
       "      <th>Fare</th>\n",
       "      <th>Cabin</th>\n",
       "      <th>Embarked</th>\n",
       "      <th>Boat</th>\n",
       "      <th>HomeDest</th>\n",
       "      <th>LastName</th>\n",
       "      <th>Title</th>\n",
       "      <th>NameLength</th>\n",
       "      <th>FamilySize</th>\n",
       "    </tr>\n",
       "  </thead>\n",
       "  <tbody>\n",
       "    <tr>\n",
       "      <th>6</th>\n",
       "      <td>1</td>\n",
       "      <td>1</td>\n",
       "      <td>Andrews, Miss. Kornelia Theodosia</td>\n",
       "      <td>female</td>\n",
       "      <td>63.0</td>\n",
       "      <td>1</td>\n",
       "      <td>0</td>\n",
       "      <td>13502</td>\n",
       "      <td>77.9583</td>\n",
       "      <td>D7</td>\n",
       "      <td>S</td>\n",
       "      <td>10</td>\n",
       "      <td>Hudson_NY</td>\n",
       "      <td>Andrews</td>\n",
       "      <td>Miss.</td>\n",
       "      <td>33</td>\n",
       "      <td>2</td>\n",
       "    </tr>\n",
       "    <tr>\n",
       "      <th>7</th>\n",
       "      <td>1</td>\n",
       "      <td>0</td>\n",
       "      <td>Andrews, Mr. Thomas Jr</td>\n",
       "      <td>male</td>\n",
       "      <td>39.0</td>\n",
       "      <td>0</td>\n",
       "      <td>0</td>\n",
       "      <td>112050</td>\n",
       "      <td>0.0000</td>\n",
       "      <td>A36</td>\n",
       "      <td>S</td>\n",
       "      <td>UNKNOWN</td>\n",
       "      <td>Belfast_NI</td>\n",
       "      <td>Andrews</td>\n",
       "      <td>Mr.</td>\n",
       "      <td>22</td>\n",
       "      <td>1</td>\n",
       "    </tr>\n",
       "    <tr>\n",
       "      <th>8</th>\n",
       "      <td>1</td>\n",
       "      <td>1</td>\n",
       "      <td>Appleton, Mrs. Edward Dale (Charlotte Lamson)</td>\n",
       "      <td>female</td>\n",
       "      <td>53.0</td>\n",
       "      <td>2</td>\n",
       "      <td>0</td>\n",
       "      <td>11769</td>\n",
       "      <td>51.4792</td>\n",
       "      <td>C101</td>\n",
       "      <td>S</td>\n",
       "      <td>D</td>\n",
       "      <td>Bayside_Queens_NY</td>\n",
       "      <td>Appleton</td>\n",
       "      <td>Mrs.</td>\n",
       "      <td>45</td>\n",
       "      <td>3</td>\n",
       "    </tr>\n",
       "  </tbody>\n",
       "</table>\n",
       "</div>"
      ],
      "text/plain": [
       "   Pclass  Survived                                           Name     Sex  \\\n",
       "6       1         1              Andrews, Miss. Kornelia Theodosia  female   \n",
       "7       1         0                         Andrews, Mr. Thomas Jr    male   \n",
       "8       1         1  Appleton, Mrs. Edward Dale (Charlotte Lamson)  female   \n",
       "\n",
       "    Age  SibSp  Parch  Ticket     Fare Cabin Embarked     Boat  \\\n",
       "6  63.0      1      0   13502  77.9583    D7        S       10   \n",
       "7  39.0      0      0  112050   0.0000   A36        S  UNKNOWN   \n",
       "8  53.0      2      0   11769  51.4792  C101        S        D   \n",
       "\n",
       "            HomeDest  LastName  Title  NameLength  FamilySize  \n",
       "6          Hudson_NY   Andrews  Miss.          33           2  \n",
       "7         Belfast_NI   Andrews    Mr.          22           1  \n",
       "8  Bayside_Queens_NY  Appleton   Mrs.          45           3  "
      ]
     },
     "execution_count": 10,
     "metadata": {},
     "output_type": "execute_result"
    }
   ],
   "source": [
    "# Check test data set \n",
    "test_df.head(3)"
   ]
  },
  {
   "cell_type": "markdown",
   "metadata": {},
   "source": [
    "The rows indices of Training and Test sets are messed up\n",
    "\n",
    "Reindex the rows to prettify the dataframes "
   ]
  },
  {
   "cell_type": "code",
   "execution_count": 11,
   "metadata": {},
   "outputs": [],
   "source": [
    "train_df = train_df.reset_index(drop=True)\n",
    "test_df  = test_df.reset_index(drop=True)"
   ]
  },
  {
   "cell_type": "code",
   "execution_count": 12,
   "metadata": {},
   "outputs": [],
   "source": [
    "# Check final row indices \n",
    "# train_df.head(3)\n",
    "# test_df.head(3)"
   ]
  },
  {
   "cell_type": "markdown",
   "metadata": {},
   "source": [
    "Collect Training and Test datasets as a tuple  "
   ]
  },
  {
   "cell_type": "code",
   "execution_count": 13,
   "metadata": {},
   "outputs": [],
   "source": [
    "train_test_original = (train_df, test_df)"
   ]
  },
  {
   "cell_type": "markdown",
   "metadata": {},
   "source": [
    "#### Advanced Topic"
   ]
  },
  {
   "cell_type": "markdown",
   "metadata": {},
   "source": [
    "Sometimes you will see something  like this"
   ]
  },
  {
   "cell_type": "code",
   "execution_count": 14,
   "metadata": {},
   "outputs": [],
   "source": [
    "train_df = df.sample(frac=0.75, replace=False, random_state=42)"
   ]
  },
  {
   "cell_type": "markdown",
   "metadata": {},
   "source": [
    "What does this 'random_state=42' mean?"
   ]
  },
  {
   "cell_type": "markdown",
   "metadata": {},
   "source": [
    "'random_state' can be any integer number greater than 0 \n",
    "\n",
    "Let us choose a random integer between 100 and 500. "
   ]
  },
  {
   "cell_type": "code",
   "execution_count": 15,
   "metadata": {},
   "outputs": [],
   "source": [
    "# rand_seed = 199\n",
    "rand_seed = np.random.randint(100,500)"
   ]
  },
  {
   "cell_type": "code",
   "execution_count": 16,
   "metadata": {},
   "outputs": [
    {
     "name": "stdout",
     "output_type": "stream",
     "text": [
      "361\n"
     ]
    }
   ],
   "source": [
    "print(rand_seed)"
   ]
  },
  {
   "cell_type": "code",
   "execution_count": 17,
   "metadata": {},
   "outputs": [],
   "source": [
    "portion  = 0.75\n",
    "train_df = df.sample(frac=portion, replace=False, random_state=rand_seed)"
   ]
  },
  {
   "cell_type": "code",
   "execution_count": 18,
   "metadata": {},
   "outputs": [],
   "source": [
    "# # Check train data set\n",
    "# train_df.head(3)\n",
    "\n",
    "# train_index = train_df.index.tolist()\n",
    "# test_df = df[ ~df.index.isin(train_index) ]\n",
    "\n",
    "# # Check test data set \n",
    "# test_df.head(3)"
   ]
  },
  {
   "cell_type": "markdown",
   "metadata": {},
   "source": [
    "-----------------------------------------"
   ]
  },
  {
   "cell_type": "markdown",
   "metadata": {},
   "source": [
    "## Part 3 : Process  Categorical Data for ML Modeling"
   ]
  },
  {
   "cell_type": "markdown",
   "metadata": {},
   "source": [
    "### 3.1: Categorical Data  Converstion :  Method 1 \n",
    "#### OrdinalEncoder : Convert Object Type to Integer Type "
   ]
  },
  {
   "cell_type": "code",
   "execution_count": 19,
   "metadata": {},
   "outputs": [],
   "source": [
    "def convertObject_OrdinalEncoder(data):\n",
    "    \"\"\"\n",
    "    \n",
    "    OrdinalEncoder: Convert Categorical Features of Object Type to Integer Type\n",
    "    \n",
    "    \"\"\"\n",
    "    \n",
    "    catIndex = np.where(data.dtypes == object)[0]\n",
    "    \n",
    "    columns = []\n",
    "    \n",
    "    for ind in catIndex:\n",
    "        label_encoder = preprocessing.LabelEncoder()\n",
    "        feature = label_encoder.fit_transform(data.iloc[:,ind])\n",
    "        columns.append(feature)\n",
    "        \n",
    "    d1 = data.drop( data.columns[catIndex], axis=1)\n",
    "    d2 = pd.DataFrame( np.column_stack( columns ), columns=data.columns[catIndex] )\n",
    "    dd = pd.concat([d1,d2], axis=1)\n",
    "    \n",
    "    return dd"
   ]
  },
  {
   "cell_type": "markdown",
   "metadata": {},
   "source": [
    "Pass the dataframe inside the function and get the result"
   ]
  },
  {
   "cell_type": "code",
   "execution_count": 20,
   "metadata": {},
   "outputs": [],
   "source": [
    "res = convertObject_OrdinalEncoder(df)"
   ]
  },
  {
   "cell_type": "markdown",
   "metadata": {},
   "source": [
    "Check output "
   ]
  },
  {
   "cell_type": "code",
   "execution_count": 21,
   "metadata": {},
   "outputs": [],
   "source": [
    "# res\n",
    "# res.shape "
   ]
  },
  {
   "cell_type": "code",
   "execution_count": 23,
   "metadata": {},
   "outputs": [],
   "source": [
    "train_df    = res.sample(frac=0.75, replace=False, random_state=rand_seed)\n",
    "train_index = train_df.index.tolist()"
   ]
  },
  {
   "cell_type": "code",
   "execution_count": 24,
   "metadata": {},
   "outputs": [],
   "source": [
    "test_df = res[ ~res.index.isin(train_index) ]"
   ]
  },
  {
   "cell_type": "code",
   "execution_count": 25,
   "metadata": {},
   "outputs": [],
   "source": [
    "train_df = train_df.reset_index(drop=True)\n",
    "test_df  = test_df.reset_index(drop=True)"
   ]
  },
  {
   "cell_type": "code",
   "execution_count": 26,
   "metadata": {},
   "outputs": [],
   "source": [
    "train_test_ordinal = (train_df, test_df)"
   ]
  },
  {
   "cell_type": "code",
   "execution_count": 27,
   "metadata": {},
   "outputs": [
    {
     "data": {
      "text/html": [
       "<div>\n",
       "<style scoped>\n",
       "    .dataframe tbody tr th:only-of-type {\n",
       "        vertical-align: middle;\n",
       "    }\n",
       "\n",
       "    .dataframe tbody tr th {\n",
       "        vertical-align: top;\n",
       "    }\n",
       "\n",
       "    .dataframe thead th {\n",
       "        text-align: right;\n",
       "    }\n",
       "</style>\n",
       "<table border=\"1\" class=\"dataframe\">\n",
       "  <thead>\n",
       "    <tr style=\"text-align: right;\">\n",
       "      <th></th>\n",
       "      <th>Pclass</th>\n",
       "      <th>Survived</th>\n",
       "      <th>Age</th>\n",
       "      <th>SibSp</th>\n",
       "      <th>Parch</th>\n",
       "      <th>Fare</th>\n",
       "      <th>NameLength</th>\n",
       "      <th>FamilySize</th>\n",
       "      <th>Name</th>\n",
       "      <th>Sex</th>\n",
       "      <th>Ticket</th>\n",
       "      <th>Cabin</th>\n",
       "      <th>Embarked</th>\n",
       "      <th>Boat</th>\n",
       "      <th>HomeDest</th>\n",
       "      <th>LastName</th>\n",
       "      <th>Title</th>\n",
       "    </tr>\n",
       "  </thead>\n",
       "  <tbody>\n",
       "    <tr>\n",
       "      <th>0</th>\n",
       "      <td>3</td>\n",
       "      <td>0</td>\n",
       "      <td>21.0</td>\n",
       "      <td>0</td>\n",
       "      <td>0</td>\n",
       "      <td>8.050</td>\n",
       "      <td>24</td>\n",
       "      <td>1</td>\n",
       "      <td>194</td>\n",
       "      <td>1</td>\n",
       "      <td>728</td>\n",
       "      <td>186</td>\n",
       "      <td>2</td>\n",
       "      <td>27</td>\n",
       "      <td>340</td>\n",
       "      <td>124</td>\n",
       "      <td>7</td>\n",
       "    </tr>\n",
       "    <tr>\n",
       "      <th>1</th>\n",
       "      <td>3</td>\n",
       "      <td>1</td>\n",
       "      <td>5.0</td>\n",
       "      <td>0</td>\n",
       "      <td>0</td>\n",
       "      <td>12.475</td>\n",
       "      <td>29</td>\n",
       "      <td>1</td>\n",
       "      <td>370</td>\n",
       "      <td>0</td>\n",
       "      <td>593</td>\n",
       "      <td>186</td>\n",
       "      <td>2</td>\n",
       "      <td>4</td>\n",
       "      <td>236</td>\n",
       "      <td>236</td>\n",
       "      <td>6</td>\n",
       "    </tr>\n",
       "    <tr>\n",
       "      <th>2</th>\n",
       "      <td>1</td>\n",
       "      <td>1</td>\n",
       "      <td>18.0</td>\n",
       "      <td>1</td>\n",
       "      <td>0</td>\n",
       "      <td>227.525</td>\n",
       "      <td>49</td>\n",
       "      <td>2</td>\n",
       "      <td>69</td>\n",
       "      <td>0</td>\n",
       "      <td>832</td>\n",
       "      <td>97</td>\n",
       "      <td>0</td>\n",
       "      <td>13</td>\n",
       "      <td>236</td>\n",
       "      <td>37</td>\n",
       "      <td>8</td>\n",
       "    </tr>\n",
       "  </tbody>\n",
       "</table>\n",
       "</div>"
      ],
      "text/plain": [
       "   Pclass  Survived   Age  SibSp  Parch     Fare  NameLength  FamilySize  \\\n",
       "0       3         0  21.0      0      0    8.050          24           1   \n",
       "1       3         1   5.0      0      0   12.475          29           1   \n",
       "2       1         1  18.0      1      0  227.525          49           2   \n",
       "\n",
       "   Name  Sex  Ticket  Cabin  Embarked  Boat  HomeDest  LastName  Title  \n",
       "0   194    1     728    186         2    27       340       124      7  \n",
       "1   370    0     593    186         2     4       236       236      6  \n",
       "2    69    0     832     97         0    13       236        37      8  "
      ]
     },
     "execution_count": 27,
     "metadata": {},
     "output_type": "execute_result"
    }
   ],
   "source": [
    "train_df.head(3)"
   ]
  }
 ],
 "metadata": {
  "kernelspec": {
   "display_name": "Python 3",
   "language": "python",
   "name": "python3"
  },
  "language_info": {
   "codemirror_mode": {
    "name": "ipython",
    "version": 3
   },
   "file_extension": ".py",
   "mimetype": "text/x-python",
   "name": "python",
   "nbconvert_exporter": "python",
   "pygments_lexer": "ipython3",
   "version": "3.8.8"
  }
 },
 "nbformat": 4,
 "nbformat_minor": 4
}
